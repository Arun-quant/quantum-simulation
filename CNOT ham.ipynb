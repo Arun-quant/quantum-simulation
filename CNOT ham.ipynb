{
 "cells": [
  {
   "cell_type": "code",
   "execution_count": 1,
   "metadata": {},
   "outputs": [],
   "source": [
    "from pennylane import numpy as np\n",
    "import pennylane as qml\n",
    "from matplotlib import pyplot as plt\n",
    "import skquant.opt as skqopt #optimization routines\n",
    "from scipy.linalg import expm"
   ]
  },
  {
   "cell_type": "code",
   "execution_count": 49,
   "metadata": {},
   "outputs": [
    {
     "data": {
      "image/png": "[encoded data removed]",
      "text/plain": [
       "<Figure size 432x288 with 2 Axes>"
      ]
     },
     "metadata": {
      "needs_background": "light"
     },
     "output_type": "display_data"
    }
   ],
   "source": [
    "# matrix representation of \n",
    "U= qml.CNOT.matrix #np.array([[1,0,0,0],[0,1,0,0],[0,0,0,1],[0,0,1,0]])\n",
    "\n",
    "#print(U)\n",
    "import seaborn\n",
    "seaborn.heatmap(np.real(U),cmap=\"YlGnBu\")\n",
    "#plt.title(\"Ideal CCCNOT gate\")\n",
    "plt.show()"
   ]
  },
  {
   "cell_type": "code",
   "execution_count": 96,
   "metadata": {},
   "outputs": [],
   "source": [
    "dev = qml.device(\"default.qubit\", wires=2)\n",
    "\n",
    "\n",
    "#@qml.qnode(dev)\n",
    "def ansatz(params):\n",
    "    l=params\n",
    "    \n",
    "    #H=X⊗I\n",
    "    qml.RX(l[0],wires=1)\n",
    "    qml.RZ(l[1],wires=1)\n",
    "    qml.RX(l[2],wires=0)\n",
    "    qml.RZ(l[3],wires=0)\n",
    "    '''\n",
    "    #H=Z⊗Z\n",
    "    qml.CNOT(wires=[0,1])\n",
    "    qml.RZ(l[1],wires=1)\n",
    "    qml.CNOT(wires=[0,1])\n",
    "    '''\n",
    "    #H=X⊗X\n",
    "    qml.IsingXX(l[4],wires=[0,1])\n",
    "    qml.IsingZZ(l[5],wires=[0,1])\n",
    " \n",
    "    #########################################################"
   ]
  },
  {
   "cell_type": "code",
   "execution_count": 97,
   "metadata": {},
   "outputs": [],
   "source": [
    "trotter_steps=3"
   ]
  },
  {
   "cell_type": "code",
   "execution_count": 98,
   "metadata": {},
   "outputs": [],
   "source": [
    "@qml.qnode(dev)\n",
    "def circuit(params, state, apply_inv=True):\n",
    "    qml.BasisState(np.array(state), wires=[0,1])\n",
    "    \n",
    "    for steps in range(trotter_steps):\n",
    "        ansatz(params[:6])\n",
    "\n",
    "    return qml.state()\n",
    "\n",
    "def var_circ(params,state):\n",
    "    result=(np.exp(-1j*params[0])*circuit(params[1:],state))\n",
    "    \n",
    "    return result"
   ]
  },
  {
   "cell_type": "code",
   "execution_count": 99,
   "metadata": {},
   "outputs": [],
   "source": [
    "def get_unitary(params):\n",
    "    return np.array([var_circ(params, state) for state in state_vector]).T"
   ]
  },
  {
   "cell_type": "code",
   "execution_count": 100,
   "metadata": {},
   "outputs": [],
   "source": [
    "# 2nd cost the trace distance between two unitaries is taken as cost\n",
    "def cost1(params):\n",
    "    U_par=get_unitary(params)\n",
    "    F=np.abs(np.trace(np.dot(np.transpose(np.conj(U_par)),U)))/len(U)\n",
    "    \n",
    "    return 1-F"
   ]
  },
  {
   "cell_type": "code",
   "execution_count": 110,
   "metadata": {},
   "outputs": [
    {
     "name": "stdout",
     "output_type": "stream",
     "text": [
      "[0. 0. 0. 1.]\n",
      "[1 1]\n"
     ]
    }
   ],
   "source": [
    "params = np.random.random(7)\n",
    "Id = np.eye(4)\n",
    "state_vector=np.array([[0,0],[0,1],[1,0],[1,1]])\n",
    "print(Id[3])\n",
    "print(state_vector[3])"
   ]
  },
  {
   "cell_type": "code",
   "execution_count": 111,
   "metadata": {},
   "outputs": [
    {
     "data": {
      "text/plain": [
       "0.8288160123616115"
      ]
     },
     "execution_count": 111,
     "metadata": {},
     "output_type": "execute_result"
    }
   ],
   "source": [
    "cost1(params)"
   ]
  },
  {
   "cell_type": "code",
   "execution_count": 115,
   "metadata": {},
   "outputs": [],
   "source": [
    "cost_arr=[]\n",
    "params_arr=[]\n",
    "cost_arr_opt=[]\n",
    "params_arr_opt=[]"
   ]
  },
  {
   "cell_type": "code",
   "execution_count": 116,
   "metadata": {},
   "outputs": [],
   "source": [
    "\n",
    "def optimization2(params,st):\n",
    "    dev = qml.device(\"default.qubit.autograd\", wires=2)\n",
    "\n",
    "    opt = qml.AdagradOptimizer(stepsize=st)\n",
    "    \n",
    "    \n",
    "    for i in range(200+1):\n",
    "        params = opt.step(cost1, params)\n",
    "\n",
    "        if i % 10 == 0:\n",
    "            print(f\"Cost at step {i}:\", cost1(params))\n",
    "            cost_arr.append(cost1(params))\n",
    "            params_arr.append(params)\n",
    "            print(f\"fidelity of natural dynamics with actual toffoli{i}:\",Fidelity(hamiltonian_matrix(params*trotter_steps/2),U))\n",
    "            \n",
    "    if cost1(params)>0.1:\n",
    "        params=np.random.random(7)\n",
    "        st=np.random.uniform(0.01,0.2)\n",
    "        optimization2(params,st)\n",
    "    if Fidelity(hamiltonian_matrix(params*trotter_steps/2),U)<0.99:\n",
    "        params=np.random.random(7)\n",
    "        st=np.random.uniform(0.01,0.2)\n",
    "        optimization2(params,st)\n",
    "        \n",
    "    else:\n",
    "        \n",
    "        \n",
    "        for i in range(0,10+1,1):\n",
    "            print(f\"Cost at step {i*10}:\", cost1(params_arr[len(cost_arr)-11+i]))\n",
    "            cost_arr_opt.append(cost1(params_arr[len(cost_arr)-11+i]))\n",
    "            params_arr_opt.append(params_arr[len(cost_arr)-11+i])\n",
    "            \n",
    "    return params_arr_opt,st\n",
    "        "
   ]
  },
  {
   "cell_type": "code",
   "execution_count": 117,
   "metadata": {
    "scrolled": true
   },
   "outputs": [
    {
     "name": "stdout",
     "output_type": "stream",
     "text": [
      "Cost at step 0: 0.7217638271649901\n",
      "fidelity of natural dynamics with actual toffoli0: 0.3538071789060672\n",
      "Cost at step 10: 0.09215533838847412\n",
      "fidelity of natural dynamics with actual toffoli10: 0.9202960762725892\n",
      "Cost at step 20: 0.009910773961337549\n",
      "fidelity of natural dynamics with actual toffoli20: 0.9865694250992192\n",
      "Cost at step 30: 0.0012491953493660723\n",
      "fidelity of natural dynamics with actual toffoli30: 0.9947144779512899\n",
      "Cost at step 40: 0.0001722695190786716\n",
      "fidelity of natural dynamics with actual toffoli40: 0.9958144077603303\n",
      "Cost at step 50: 2.4980306987387735e-05\n",
      "fidelity of natural dynamics with actual toffoli50: 0.9959714244466674\n",
      "Cost at step 60: 3.7848034846188483e-06\n",
      "fidelity of natural dynamics with actual toffoli60: 0.9959945375891509\n",
      "Cost at step 70: 5.997185946737815e-07\n",
      "fidelity of natural dynamics with actual toffoli70: 0.9959980005815379\n",
      "Cost at step 80: 9.931598166090794e-08\n",
      "fidelity of natural dynamics with actual toffoli80: 0.9959985148215064\n",
      "Cost at step 90: 1.7121677853282335e-08\n",
      "fidelity of natural dynamics with actual toffoli90: 0.9959985851798089\n",
      "Cost at step 100: 3.053293506916077e-09\n",
      "fidelity of natural dynamics with actual toffoli100: 0.9959985918568337\n",
      "Cost at step 110: 5.591820340100639e-10\n",
      "fidelity of natural dynamics with actual toffoli110: 0.9959985911439719\n",
      "Cost at step 120: 1.044619946100056e-10\n",
      "fidelity of natural dynamics with actual toffoli120: 0.9959985903611768\n",
      "Cost at step 130: 1.9793611194529603e-11\n",
      "fidelity of natural dynamics with actual toffoli130: 0.9959985899924138\n",
      "Cost at step 140: 3.787969937718572e-12\n",
      "fidelity of natural dynamics with actual toffoli140: 0.9959985898465161\n",
      "Cost at step 150: 7.296385717836529e-13\n",
      "fidelity of natural dynamics with actual toffoli150: 0.9959985897925472\n",
      "Cost at step 160: 1.4133139103478243e-13\n",
      "fidelity of natural dynamics with actual toffoli160: 0.9959985897731976\n",
      "Cost at step 170: 2.7755575615628914e-14\n",
      "fidelity of natural dynamics with actual toffoli170: 0.995998589766369\n",
      "Cost at step 180: 4.884981308350689e-15\n",
      "fidelity of natural dynamics with actual toffoli180: 0.9959985897639791\n",
      "Cost at step 190: 1.4432899320127035e-15\n",
      "fidelity of natural dynamics with actual toffoli190: 0.9959985897631468\n",
      "Cost at step 200: 3.3306690738754696e-16\n",
      "fidelity of natural dynamics with actual toffoli200: 0.9959985897628574\n",
      "Cost at step 0: 3.053293506916077e-09\n",
      "Cost at step 10: 5.591820340100639e-10\n",
      "Cost at step 20: 1.044619946100056e-10\n",
      "Cost at step 30: 1.9793611194529603e-11\n",
      "Cost at step 40: 3.787969937718572e-12\n",
      "Cost at step 50: 7.296385717836529e-13\n",
      "Cost at step 60: 1.4133139103478243e-13\n",
      "Cost at step 70: 2.7755575615628914e-14\n",
      "Cost at step 80: 4.884981308350689e-15\n",
      "Cost at step 90: 1.4432899320127035e-15\n",
      "Cost at step 100: 3.3306690738754696e-16\n"
     ]
    },
    {
     "data": {
      "text/plain": [
       "([tensor([ 7.49764863e-01,  1.04719666e+00,  9.55316849e-01,\n",
       "          -6.27004328e-05,  1.57077429e+00,  7.73799041e-05,\n",
       "           9.55316800e-01], requires_grad=True),\n",
       "  tensor([ 7.49764863e-01,  1.04719724e+00,  9.55316698e-01,\n",
       "          -2.77137657e-05,  1.57078846e+00,  3.41867410e-05,\n",
       "           9.55316681e-01], requires_grad=True),\n",
       "  tensor([ 7.49764863e-01,  1.04719744e+00,  9.55316646e-01,\n",
       "          -1.22473191e-05,  1.57079352e+00,  1.51052444e-05,\n",
       "           9.55316640e-01], requires_grad=True),\n",
       "  tensor([ 7.49764863e-01,  1.04719751e+00,  9.55316628e-01,\n",
       "          -5.41197621e-06,  1.57079532e+00,  6.67441937e-06,\n",
       "           9.55316626e-01], requires_grad=True),\n",
       "  tensor([ 7.49764863e-01,  1.04719754e+00,  9.55316621e-01,\n",
       "          -2.39143681e-06,  1.57079597e+00,  2.94920722e-06,\n",
       "           9.55316621e-01], requires_grad=True),\n",
       "  tensor([ 7.49764863e-01,  1.04719755e+00,  9.55316619e-01,\n",
       "          -1.05671381e-06,  1.57079620e+00,  1.30316506e-06,\n",
       "           9.55316619e-01], requires_grad=True),\n",
       "  tensor([ 7.49764863e-01,  1.04719755e+00,  9.55316619e-01,\n",
       "          -4.66932500e-07,  1.57079628e+00,  5.75830249e-07,\n",
       "           9.55316618e-01], requires_grad=True),\n",
       "  tensor([ 7.49764863e-01,  1.04719755e+00,  9.55316618e-01,\n",
       "          -2.06324188e-07,  1.57079631e+00,  2.54442627e-07,\n",
       "           9.55316618e-01], requires_grad=True),\n",
       "  tensor([ 7.49764863e-01,  1.04719755e+00,  9.55316618e-01,\n",
       "          -9.11687343e-08,  1.57079632e+00,  1.12430826e-07,\n",
       "           9.55316618e-01], requires_grad=True),\n",
       "  tensor([ 7.49764863e-01,  1.04719755e+00,  9.55316618e-01,\n",
       "          -4.02848365e-08,  1.57079632e+00,  4.96799313e-08,\n",
       "           9.55316618e-01], requires_grad=True),\n",
       "  tensor([ 7.49764863e-01,  1.04719755e+00,  9.55316618e-01,\n",
       "          -1.78007068e-08,  1.57079633e+00,  2.19521262e-08,\n",
       "           9.55316618e-01], requires_grad=True)],\n",
       " 0.1)"
      ]
     },
     "execution_count": 117,
     "metadata": {},
     "output_type": "execute_result"
    }
   ],
   "source": [
    "#params=par[10]\n",
    "optimization2(params,0.1) # st=learning rate==stepsize"
   ]
  },
  {
   "cell_type": "code",
   "execution_count": 102,
   "metadata": {},
   "outputs": [],
   "source": [
    "I = np.eye(2)\n",
    "X = np.array([[0, 1], [1, 0]])\n",
    "Z = np.array([[1, 0], [0, -1]])\n",
    "Y = np.array([[0,-1j],[1j, 0]])\n",
    "dev = qml.device('default.qubit', wires=2)\n",
    "\n",
    "# Hamiltonian for Toffoli\n",
    "def hamiltonian_matrix(params):\n",
    "    l=params\n",
    "    H=l[0]*np.kron(I,I) + l[1]*np.kron(I,X) + l[2]*np.kron(I,Z) + \\\n",
    "        l[3]*np.kron(X,I) + l[4]*np.kron(Z,I) +\\\n",
    "        l[5]*np.kron(X,X) + l[6]*np.kron(Z,Z) \n",
    "    \n",
    "    return expm(-1j*H)\n",
    "\n"
   ]
  },
  {
   "cell_type": "code",
   "execution_count": 103,
   "metadata": {},
   "outputs": [],
   "source": [
    "# Function to find the fidelity between two unitaries\n",
    "def Fidelity(rho1,rho2):\n",
    "    if rho1.shape!=rho2.shape:\n",
    "        raise ValueError(\"Dimension of both matrices must be same\")\n",
    "    return (np.abs(np.trace(np.dot(np.transpose(np.conj(rho1)),rho2)))/len(rho1))"
   ]
  },
  {
   "cell_type": "code",
   "execution_count": 118,
   "metadata": {},
   "outputs": [
    {
     "data": {
      "text/plain": [
       "tensor([ 7.49764863e-01,  1.04719755e+00,  9.55316618e-01,\n",
       "        -1.78007068e-08,  1.57079633e+00,  2.19521262e-08,\n",
       "         9.55316618e-01], requires_grad=True)"
      ]
     },
     "execution_count": 118,
     "metadata": {},
     "output_type": "execute_result"
    }
   ],
   "source": [
    "(params_arr[len(params_arr)-1])"
   ]
  },
  {
   "cell_type": "code",
   "execution_count": 119,
   "metadata": {},
   "outputs": [
    {
     "data": {
      "text/plain": [
       "tensor([ 1.12464729e+00,  1.57079633e+00,  1.43297493e+00,\n",
       "        -2.67010602e-08,  2.35619449e+00,  3.29281893e-08,\n",
       "         1.43297493e+00], requires_grad=True)"
      ]
     },
     "execution_count": 119,
     "metadata": {},
     "output_type": "execute_result"
    }
   ],
   "source": [
    "(params_arr[len(params_arr)-1])*trotter_steps/2"
   ]
  },
  {
   "cell_type": "code",
   "execution_count": 120,
   "metadata": {},
   "outputs": [
    {
     "data": {
      "text/plain": [
       "0.9959985897628574"
      ]
     },
     "execution_count": 120,
     "metadata": {},
     "output_type": "execute_result"
    }
   ],
   "source": [
    "Fidelity(hamiltonian_matrix((params_arr[len(params_arr)-1])*trotter_steps/2),U)"
   ]
  },
  {
   "cell_type": "code",
   "execution_count": null,
   "metadata": {},
   "outputs": [],
   "source": []
  }
 ],
 "metadata": {
  "kernelspec": {
   "display_name": "Python 3",
   "language": "python",
   "name": "python3"
  },
  "language_info": {
   "codemirror_mode": {
    "name": "ipython",
    "version": 3
   },
   "file_extension": ".py",
   "mimetype": "text/x-python",
   "name": "python",
   "nbconvert_exporter": "python",
   "pygments_lexer": "ipython3",
   "version": "3.8.5"
  }
 },
 "nbformat": 4,
 "nbformat_minor": 4
}
