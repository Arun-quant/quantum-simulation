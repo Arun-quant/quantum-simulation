{
 "cells": [
  {
   "cell_type": "code",
   "execution_count": null,
   "metadata": {},
   "outputs": [],
   "source": [
    "# Fredkin"
   ]
  },
  {
   "cell_type": "code",
   "execution_count": 1,
   "metadata": {},
   "outputs": [],
   "source": [
    "from pennylane import numpy as np\n",
    "import pennylane as qml\n",
    "from matplotlib import pyplot as plt\n",
    "import networkx as nx\n",
    "import tensorflow as tf\n",
    "from pennylane.templates.layers import StronglyEntanglingLayers"
   ]
  },
  {
   "cell_type": "code",
   "execution_count": 2,
   "metadata": {},
   "outputs": [
    {
     "name": "stdout",
     "output_type": "stream",
     "text": [
      "[[1 0 0 0 0 0 0 0]\n",
      " [0 1 0 0 0 0 0 0]\n",
      " [0 0 1 0 0 0 0 0]\n",
      " [0 0 0 1 0 0 0 0]\n",
      " [0 0 0 0 1 0 0 0]\n",
      " [0 0 0 0 0 0 1 0]\n",
      " [0 0 0 0 0 1 0 0]\n",
      " [0 0 0 0 0 0 0 1]]\n"
     ]
    }
   ],
   "source": [
    "# matrix representation of fredkin gate\n",
    "U = np.array([[1,0,0,0,0,0,0,0],[0,1,0,0,0,0,0,0],[0,0,1,0,0,0,0,0],[0,0,0,1,0,0,0,0],[0,0,0,0,1,0,0,0],[0,0,0,0,0,0,1,0],\n",
    "                  [0,0,0,0,0,1,0,0],[0,0,0,0,0,0,0,1]])\n",
    "\n",
    "\n",
    "#@qml.qnode(dev)\n",
    "#def U_actual():\n",
    "#    qml.QubitUnitary(U,wires=[0,1,2])\n",
    "#    return qml.state()\n",
    "q=qml.QubitUnitary(U,wires=[0,1,2])\n",
    "print(U)\n"
   ]
  },
  {
   "cell_type": "code",
   "execution_count": 3,
   "metadata": {},
   "outputs": [],
   "source": [
    "dev = qml.device(\"default.qubit.autograd\", wires=3)\n",
    "\n",
    "\n",
    "#@qml.qnode(dev)\n",
    "def ansatz(params):\n",
    "    l=params\n",
    "    #H=Z⊗Z⊗I\n",
    "    qml.CNOT(wires=[0,1])\n",
    "    qml.RZ(l[0],wires=1)\n",
    "    qml.CNOT(wires=[0,1])\n",
    "\n",
    "    # circuit for local ham H=I⊗Z⊗Z\n",
    "    qml.CNOT(wires=[1,2])\n",
    "    qml.RZ(l[1],wires=2)\n",
    "    qml.CNOT(wires=[1,2])\n",
    "    \n",
    "    \n",
    "    # circuit for local ham H=Z⊗I⊗Z\n",
    "    qml.CNOT(wires=[0,2])\n",
    "    qml.RZ(l[2],wires=2)\n",
    "    qml.CNOT(wires=[0,2])\n",
    "    \n",
    "    #qml.Identity(wires=0)*l[11]\n",
    "   \n",
    "    # single qubit gates\n",
    "    \n",
    "    # circuit for local ham H=I⊗I⊗Z+I⊗I⊗X+I⊗I⊗Y\n",
    "    \n",
    "    \n",
    "    # circuit for local ham H=I⊗Z⊗I+I⊗X⊗I+I⊗Y⊗I\n",
    "    #qml.Identity(wires=0) \n",
    "    #qml.RZ(l[3],wires=1)\n",
    "   \n",
    "    # circuit for local ham H=Z⊗I⊗I+X⊗I⊗I+Y⊗I⊗I\n",
    "    qml.RZ(l[3],wires=0)\n",
    "    '''\n",
    "    #H=I⊗Z⊗ X\n",
    "    qml.Hadamard(wires=2)\n",
    "    qml.CNOT(wires=[1,2])\n",
    "    qml.RZ(l[5],wires=2)\n",
    "    qml.CNOT(wires=[1,2])\n",
    "    qml.Hadamard(wires=2)\n",
    "    \n",
    "    \n",
    "    # circuit for local ham H=Z⊗I⊗X\n",
    "    qml.Hadamard(wires=2)\n",
    "    qml.CNOT(wires=[0,2])\n",
    "    qml.RZ(l[6],wires=2)\n",
    "    qml.CNOT(wires=[0,2])\n",
    "    qml.Hadamard(wires=2)\n",
    "    '''\n",
    "    \n",
    "    # important: more 2 qubit interations to be added....   \n",
    "\n",
    "   \n",
    "    \n",
    "\n",
    "    # circuit for local ham H=X⊗X⊗I  \n",
    "    #[qml.Hadamard(wires=i) for i in range(0,2)]\n",
    "    [qml.Hadamard(wires=i) for i in range(0,2)]\n",
    "    qml.CNOT(wires=[0,1])\n",
    "    qml.RZ(l[4],wires=1)\n",
    "    qml.CNOT(wires=[0,1])\n",
    "    [qml.Hadamard(wires=i) for i in range(0,2)]\n",
    "    \n",
    "    # circuit for local ham H=X⊗I⊗X\n",
    "    qml.Hadamard(wires=0)\n",
    "    qml.Hadamard(wires=2)\n",
    "    qml.CNOT(wires=[0,2])\n",
    "    qml.RZ(l[5],wires=2)\n",
    "    qml.CNOT(wires=[0,2])\n",
    "    qml.Hadamard(wires=0)\n",
    "    qml.Hadamard(wires=2)\n",
    "    \n",
    "    # circuit for local ham H=I⊗X⊗X\n",
    "    [qml.Hadamard(wires=i) for i in range(1,3)]\n",
    "    qml.CNOT(wires=[1,2])\n",
    "    qml.RZ(l[6],wires=2)\n",
    "    qml.CNOT(wires=[1,2])\n",
    "    [qml.Hadamard(wires=i) for i in range(1,3)]\n",
    "    \n",
    "    #[qml.Hadamard(wires=i) for i in range(1,3)]\n",
    " \n",
    "\n",
    "\n",
    "    # circuit for local ham H=I⊗Y⊗Y\n",
    "    [qml.RX(np.pi/2,wires=i) for i in range(1,3)]\n",
    "    qml.CNOT(wires=[1,2])\n",
    "    qml.RZ(l[7],wires=2)\n",
    "    qml.CNOT(wires=[1,2])\n",
    "    [qml.RX(-np.pi/2,wires=i) for i in range(1,3)]\n",
    "\n",
    "\n",
    "\n",
    "\n",
    "    qml.RX(l[8],wires=2)\n",
    "    \n",
    "   \n",
    " \n",
    "    qml.RX(l[9],wires=1)\n",
    "    \n",
    "    #qml.RY(l[14],wires=0)\n",
    "   \n",
    "    '''\n",
    "    #H=X⊗Z⊗ I\n",
    "    qml.Hadamard(wires=0)\n",
    "    qml.CNOT(wires=[0,1])\n",
    "    qml.RZ(l[18],wires=1)\n",
    "    qml.CNOT(wires=[0,1])\n",
    "    qml.Hadamard(wires=0)\n",
    "    \n",
    "    #H=I⊗X⊗ Z\n",
    "    qml.Hadamard(wires=1)\n",
    "    qml.CNOT(wires=[1,2])\n",
    "    qml.RZ(l[19],wires=2)\n",
    "    qml.CNOT(wires=[1,2])\n",
    "    qml.Hadamard(wires=1)\n",
    "    \n",
    "      #H=I⊗X⊗ y\n",
    "    qml.Hadamard(wires=1)\n",
    "    qml.RX(np.pi/2,wires=2)\n",
    "    qml.CNOT(wires=[1,2])\n",
    "    qml.RZ(2*l[20],wires=2)\n",
    "    qml.CNOT(wires=[1,2])\n",
    "    qml.Hadamard(wires=1)\n",
    "    qml.RX(-np.pi/2,wires=2)\n",
    "    \n",
    "    #H=X⊗ y⊗I\n",
    "    qml.Hadamard(wires=0)\n",
    "    qml.RX(np.pi/2,wires=1)\n",
    "    qml.CNOT(wires=[0,1])\n",
    "    qml.RZ(2*l[21],wires=1)\n",
    "    qml.CNOT(wires=[0,1])\n",
    "    qml.Hadamard(wires=0)\n",
    "    qml.RX(-np.pi/2,wires=1)\n",
    "  \n",
    "    '''"
   ]
  },
  {
   "cell_type": "code",
   "execution_count": 23,
   "metadata": {},
   "outputs": [],
   "source": [
    "params_opt =[ 7.05959130e-03,  1.05041442e+00,  7.04528134e-03,\n",
    "         1.31017884e+00,  1.02164535e+00,  1.02160283e+00,\n",
    "         4.08733183e-01, -7.80485442e-01,  4.13271795e-04,\n",
    "        -4.13272519e-04]# optimized params"
   ]
  },
  {
   "cell_type": "code",
   "execution_count": 154,
   "metadata": {},
   "outputs": [
    {
     "data": {
      "text/plain": [
       "0.14853241889739"
      ]
     },
     "execution_count": 154,
     "metadata": {},
     "output_type": "execute_result"
    }
   ],
   "source": [
    "cost3(params)"
   ]
  },
  {
   "cell_type": "code",
   "execution_count": 5,
   "metadata": {},
   "outputs": [],
   "source": [
    "# ZGR ansatz\n",
    "def ansatz2(l):\n",
    "    qml.RY(l[0],wires=0)\n",
    "    qml.CNOT(wires=[0,1])\n",
    "    qml.RY(l[1],wires=1)\n",
    "    qml.CNOT(wires=[0,1])\n",
    "    qml.RY(l[2],wires=1)\n",
    "    qml.CNOT(wires=[0,2])\n",
    "    qml.RY(l[3],wires=2)\n",
    "    qml.CNOT(wires=[1,2])\n",
    "    qml.RY(l[4],wires=2)\n",
    "    qml.CNOT(wires=[0,2])\n",
    "    qml.RY(l[5],wires=2)\n",
    "    qml.CNOT(wires=[1,2])\n",
    "    qml.RY(l[6],wires=2)"
   ]
  },
  {
   "cell_type": "code",
   "execution_count": 6,
   "metadata": {},
   "outputs": [],
   "source": [
    "def ansatz3(l):\n",
    "    [qml.RY(l[i],wires=i) for i in range(3)]\n",
    "    qml.CNOT(wires=[2,0])\n",
    "    [qml.CNOT(wires=[0,i]) for i in range(1,3)]\n",
    "    [qml.RY(l[i+3],wires=i) for i in range(3)]\n",
    "    qml.CNOT(wires=[0,2])\n",
    "    [qml.CNOT(wires=[i,0]) for i in range(1,3)]\n",
    "    "
   ]
  },
  {
   "cell_type": "code",
   "execution_count": 7,
   "metadata": {},
   "outputs": [],
   "source": [
    "def ansatz4(l):\n",
    "    StronglyEntanglingLayers(l,wires=[0,1,2])"
   ]
  },
  {
   "cell_type": "code",
   "execution_count": 8,
   "metadata": {},
   "outputs": [],
   "source": [
    "@qml.qnode(dev, diff_method=\"backprop\")\n",
    "\n",
    "def circuit(params, state, apply_inv=True):\n",
    "    qml.BasisState(np.array(state), wires=[0,1,2])\n",
    "  \n",
    "    ansatz(params[:10])\n",
    "    ansatz(params[:10])\n",
    "    ansatz(params[:10])\n",
    "    ansatz(params[:10])\n",
    "    ansatz(params[:10])\n",
    "    ansatz(params[:10])\n",
    "\n",
    "    #ansatz2(params[:7])\n",
    "    #ansatz3(params[:6])\n",
    "    #ansatz4(params)\n",
    "    \n",
    "    #if apply_inv:\n",
    "    #    qml.QubitUnitary(U,wires=[0,1,2]).inv()\n",
    "    return qml.state()\n",
    "\n",
    "@qml.qnode(dev, diff_method=\"backprop\")\n",
    "def target_st(state):\n",
    "    qml.BasisState(np.array(state), wires=[0,1,2])\n",
    "    qml.QubitUnitary(U,wires=[0,1,2]).inv() # fredkin gate\n",
    "    return qml.state()"
   ]
  },
  {
   "cell_type": "code",
   "execution_count": 10,
   "metadata": {},
   "outputs": [
    {
     "name": "stdout",
     "output_type": "stream",
     "text": [
      "[[0.37817888 0.36442491 0.31292092 0.37646613 0.25816382 0.20867591\n",
      "  0.15176429 0.59270767]\n",
      " [0.32424926 0.60518484 0.23820783 0.19270795 0.05365659 0.41684906\n",
      "  0.41268566 0.2962816 ]\n",
      " [0.29246336 0.21428304 0.51475082 0.28165178 0.20019982 0.56337216\n",
      "  0.37376683 0.16456618]\n",
      " [0.38488806 0.15000809 0.13224116 0.3647689  0.48881159 0.08971964\n",
      "  0.41352006 0.51071465]\n",
      " [0.23633695 0.11327869 0.10573721 0.43691449 0.74328645 0.28672404\n",
      "  0.28352583 0.11902036]\n",
      " [0.25846392 0.4578901  0.58565707 0.17457614 0.12034559 0.14464846\n",
      "  0.52117604 0.20743991]\n",
      " [0.17101646 0.36759661 0.37699132 0.41626386 0.27409522 0.55279394\n",
      "  0.25756624 0.27051497]\n",
      " [0.60519761 0.27368499 0.25803948 0.46271602 0.0967971  0.22031441\n",
      "  0.27857841 0.37766101]]\n"
     ]
    }
   ],
   "source": [
    "circ_ket=[]\n",
    "for i in range(8):\n",
    "    state=state_vector[i]\n",
    "    circ_ket.append(circuit(params,state))\n",
    "    \n",
    "print(np.abs(circ_ket))\n",
    "\n",
    "\n",
    "act_ket=[]\n",
    "for i in range(8):\n",
    "    state=state_vector[i]\n",
    "    act_ket.append(target_st(state))\n",
    "    \n",
    "#print(act_ket)"
   ]
  },
  {
   "cell_type": "code",
   "execution_count": 36,
   "metadata": {},
   "outputs": [
    {
     "name": "stdout",
     "output_type": "stream",
     "text": [
      "tf.Tensor(-0.18708212505007982, shape=(), dtype=float64)\n"
     ]
    }
   ],
   "source": [
    "b=[]\n",
    "for i in range(5,7):\n",
    "    b.append(tf.math.real(np.sum(np.dot(act_ket[i],tf.math.conj(circ_ket[i])))))\n",
    "print(b[0])\n",
    "#print(np.real(a)-1)"
   ]
  },
  {
   "cell_type": "code",
   "execution_count": null,
   "metadata": {},
   "outputs": [],
   "source": [
    "###########################################################################"
   ]
  },
  {
   "cell_type": "code",
   "execution_count": 14,
   "metadata": {},
   "outputs": [
    {
     "data": {
      "text/plain": [
       "'\\nThe ultimate cost function\\n\\n'"
      ]
     },
     "execution_count": 14,
     "metadata": {},
     "output_type": "execute_result"
    }
   ],
   "source": [
    "def cost3(params):\n",
    "    circ_ket=[]\n",
    "    act_ket=[]\n",
    "    overlaps=[] \n",
    "    \n",
    "    for i in range(8):\n",
    "        state=state_vector[i]\n",
    "        circ_ket.append(circuit(params,state))\n",
    "        act_ket.append(target_st(state))\n",
    "\n",
    "        overlaps.append((np.sum(np.dot(np.conj(circ_ket[i]),act_ket[i]))))\n",
    "    #mean_overlap = tf.reduce_mean(overlaps)\n",
    "    \n",
    "    #cost = tf.abs(tf.reduce_sum(overlaps ))\n",
    "    cost=0\n",
    "    for i in range(8):\n",
    "        cost+=(np.abs(overlaps[i]))**2\n",
    "    cost_abs=1-(cost)/len(overlaps)   \n",
    "    return cost_abs#, overlaps\n",
    "\n",
    "'''\n",
    "The ultimate cost function\n",
    "\n",
    "'''"
   ]
  },
  {
   "cell_type": "code",
   "execution_count": null,
   "metadata": {},
   "outputs": [],
   "source": [
    "#############################################################################################"
   ]
  },
  {
   "cell_type": "code",
   "execution_count": 15,
   "metadata": {},
   "outputs": [
    {
     "data": {
      "text/plain": [
       "0.2500008191431895"
      ]
     },
     "execution_count": 15,
     "metadata": {},
     "output_type": "execute_result"
    }
   ],
   "source": [
    "cost3(params)"
   ]
  },
  {
   "cell_type": "code",
   "execution_count": 53,
   "metadata": {},
   "outputs": [
    {
     "data": {
      "text/plain": [
       "(8,)"
      ]
     },
     "execution_count": 53,
     "metadata": {},
     "output_type": "execute_result"
    }
   ],
   "source": [
    "(target_st([1,0,1]).T).shape"
   ]
  },
  {
   "cell_type": "code",
   "execution_count": 16,
   "metadata": {},
   "outputs": [
    {
     "name": "stdout",
     "output_type": "stream",
     "text": [
      "[0. 0. 0. 0. 0. 0. 0. 1.]\n",
      "[1 1 1]\n"
     ]
    }
   ],
   "source": [
    "#shape = StronglyEntanglingLayers.shape(n_layers=5, n_wires=3)\n",
    "#params=np.random.random(size=shape)\n",
    "# specially for strongly entangles layered ansatz\n",
    "\n",
    "params = np.random.random(10)\n",
    "Id = np.eye(8, requires_grad=False)\n",
    "state_vector=np.array([[0,0,0],[0,0,1],[0,1,0],[0,1,1],[1,0,0],[1,0,1],[1,1,0],[1,1,1]])\n",
    "print(Id[7])\n",
    "print(state_vector[7])"
   ]
  },
  {
   "cell_type": "code",
   "execution_count": null,
   "metadata": {},
   "outputs": [],
   "source": [
    "params_known=[3*np.pi/8,np.pi/2,np.pi/8*np.sqrt(143/5),np.pi/8*np.sqrt(143/5),np.pi/8*5*np.sqrt(3),np.pi/8*5*np.sqrt(3),\n",
    "              -3*np.pi/8,-3*np.pi/8,-3*np.pi/8,3*np.pi/4*np.sqrt(7/5),3*np.pi/4*np.sqrt(7/5)]\n",
    "len(params_known)"
   ]
  },
  {
   "cell_type": "code",
   "execution_count": 125,
   "metadata": {},
   "outputs": [
    {
     "data": {
      "text/plain": [
       "tensor([1.08213158e-03, 9.02607221e-06, 1.56731386e-05, 1.63977005e-03,\n",
       "        1.11368644e-03, 4.39448612e-01, 8.98264207e-01, 1.11022090e-03], requires_grad=True)"
      ]
     },
     "execution_count": 125,
     "metadata": {},
     "output_type": "execute_result"
    }
   ],
   "source": [
    "abs(circuit(params,[1,0,1]))"
   ]
  },
  {
   "cell_type": "code",
   "execution_count": 93,
   "metadata": {},
   "outputs": [],
   "source": [
    "def cost_state(params, i):\n",
    "    state=state_vector[i]\n",
    "    return np.sum(np.square(circuit(params, state) - target_st(state)))\n",
    "\n",
    "def cost(params):\n",
    "    return  sum(abs(cost_state(params, i))**2 for i in range(8))/len(state_vector) #+sum(cost_state(params, i) for i in range(0,2))#+sum(cost_state(params, i) for i in range(2,6))"
   ]
  },
  {
   "cell_type": "code",
   "execution_count": 69,
   "metadata": {},
   "outputs": [],
   "source": [
    "def cost1(params):\n",
    "    return cost_state(params, 1)+cost_state(params, 6)+cost_state(params, 7)"
   ]
  },
  {
   "cell_type": "code",
   "execution_count": 17,
   "metadata": {},
   "outputs": [
    {
     "name": "stdout",
     "output_type": "stream",
     "text": [
      "Cost at step 0: 0.6630419329749313\n",
      "Cost at step 50: 0.001688861723442292\n",
      "Cost at step 100: 0.00018340523455129265\n",
      "Cost at step 150: 2.1305621231593186e-05\n",
      "Cost at step 200: 2.492017175614869e-06\n",
      "Cost at step 250: 2.917092379872699e-07\n",
      "Cost at step 300: 3.414989924177547e-08\n",
      "Cost at step 350: 3.997921660392478e-09\n",
      "Cost at step 400: 4.680438259185848e-10\n",
      "Cost at step 450: 5.48030509861519e-11\n",
      "Cost at step 500: 6.425748821925481e-12\n"
     ]
    }
   ],
   "source": [
    "opt = qml.AdagradOptimizer(stepsize=0.2)\n",
    "cost_arr=[]\n",
    "params_arr=[]\n",
    "for i in range(500+1):\n",
    "    params = opt.step(cost3, params)\n",
    "\n",
    "    if i % 50 == 0:\n",
    "        print(f\"Cost at step {i}:\", cost3(params))\n",
    "        cost_arr.append(cost3(params))\n",
    "        params_arr.append(params)"
   ]
  },
  {
   "cell_type": "code",
   "execution_count": 73,
   "metadata": {},
   "outputs": [
    {
     "data": {
      "text/plain": [
       "tensor([ 5.78678604e-001,  3.92696871e-001,  5.78678604e-001,\n",
       "         1.17809725e+000,  5.94502723e-001,  5.94502723e-001,\n",
       "         3.92694124e-001,  3.92705752e-001, -1.26610241e-132,\n",
       "        -1.93236093e-143], requires_grad=True)"
      ]
     },
     "execution_count": 73,
     "metadata": {},
     "output_type": "execute_result"
    }
   ],
   "source": [
    "params# from the above optimization- currently the best one"
   ]
  },
  {
   "cell_type": "code",
   "execution_count": 42,
   "metadata": {},
   "outputs": [
    {
     "data": {
      "text/plain": [
       "tensor([1.00000000e+000, 6.33051205e-133, 8.22722217e-139,\n",
       "        1.29960567e-006, 1.35312031e-138, 2.13745791e-006,\n",
       "        2.13745793e-006, 1.35312032e-138], requires_grad=True)"
      ]
     },
     "execution_count": 42,
     "metadata": {},
     "output_type": "execute_result"
    }
   ],
   "source": [
    "abs(circuit(params, state_vector[0]))"
   ]
  },
  {
   "cell_type": "code",
   "execution_count": 102,
   "metadata": {},
   "outputs": [
    {
     "name": "stdout",
     "output_type": "stream",
     "text": [
      "Cost at step 0: 0.5639535868405097\n",
      "Cost at step 100: 0.1464681470024325\n",
      "Cost at step 200: 0.1464466108411916\n",
      "Cost at step 300: 0.14970509109191665\n",
      "Cost at step 400: 0.14698233892814894\n",
      "Cost at step 500: 0.16252196660860485\n",
      "Cost at step 600: 0.147341020242019\n",
      "Cost at step 700: 0.15113136173632524\n",
      "Cost at step 800: 0.14704034328356386\n",
      "Cost at step 900: 0.1475283467948525\n",
      "Cost at step 1000: 0.14853241889739\n"
     ]
    }
   ],
   "source": [
    "opt = qml.AdamOptimizer(stepsize=0.2)\n",
    "\n",
    "for i in range(1000+1):\n",
    "    params = opt.step(cost3, params)\n",
    "\n",
    "    if i % 100 == 0:\n",
    "        print(f\"Cost at step {i}:\", cost3(params))"
   ]
  },
  {
   "cell_type": "code",
   "execution_count": 140,
   "metadata": {},
   "outputs": [
    {
     "data": {
      "text/plain": [
       "'\\nThe cost3(params) is the ultimate cost function, Don\\'t use \"tf\" otherwise GradientDescent related optimizers(Adam,...) \\nwon\\'t work instead apply numpy every where so that any kind of optimizer can be used for optimization\\n'"
      ]
     },
     "execution_count": 140,
     "metadata": {},
     "output_type": "execute_result"
    }
   ],
   "source": [
    "'''\n",
    "The cost3(params) is the ultimate cost function, Don't use \"tf\" otherwise GradientDescent related optimizers(Adam,...) \n",
    "won't work instead apply numpy every where so that any kind of optimizer can be used for optimization\n",
    "'''"
   ]
  },
  {
   "cell_type": "code",
   "execution_count": 95,
   "metadata": {},
   "outputs": [
    {
     "data": {
      "text/plain": [
       "tensor(-0.00056888-3.04558463e-05j, requires_grad=True)"
      ]
     },
     "execution_count": 95,
     "metadata": {},
     "output_type": "execute_result"
    }
   ],
   "source": [
    "cost_state(params,0)"
   ]
  },
  {
   "cell_type": "code",
   "execution_count": 56,
   "metadata": {},
   "outputs": [
    {
     "data": {
      "text/plain": [
       "tensor([0.14654124, 0.14648692, 0.40860815, 0.09707663, 0.39904542,\n",
       "        0.38803021, 0.1652781 , 0.66600392], requires_grad=True)"
      ]
     },
     "execution_count": 56,
     "metadata": {},
     "output_type": "execute_result"
    }
   ],
   "source": [
    "abs(circuit(params_arr[6], state_vector[0]))"
   ]
  },
  {
   "cell_type": "code",
   "execution_count": 178,
   "metadata": {},
   "outputs": [
    {
     "name": "stdout",
     "output_type": "stream",
     "text": [
      "Cost at step 0: tf.Tensor(0.7950199767668706, shape=(), dtype=float64)\n",
      "Cost at step 10: tf.Tensor(0.27411202836429577, shape=(), dtype=float64)\n",
      "Cost at step 20: tf.Tensor(0.24797244526909235, shape=(), dtype=float64)\n",
      "Cost at step 30: tf.Tensor(0.24080046238815112, shape=(), dtype=float64)\n",
      "Cost at step 40: tf.Tensor(0.23799404807299399, shape=(), dtype=float64)\n"
     ]
    }
   ],
   "source": [
    "opt = qml.optimize.RotosolveOptimizer()\n",
    "# for ZGR == ansatz2\n",
    "\n",
    "for i in range(40+1):\n",
    "#for i in range(300+1):\n",
    "    params = opt.step(cost3, params)\n",
    "\n",
    "    if i % 10 == 0:\n",
    "        print(f\"Cost at step {i}:\", cost3(params))"
   ]
  },
  {
   "cell_type": "code",
   "execution_count": 19,
   "metadata": {},
   "outputs": [],
   "source": [
    "def get_unitary(params):\n",
    "    return np.array([circuit(params, state, apply_inv=False) for state in state_vector]).T"
   ]
  },
  {
   "cell_type": "code",
   "execution_count": 27,
   "metadata": {},
   "outputs": [
    {
     "name": "stdout",
     "output_type": "stream",
     "text": [
      "\n",
      "Optimized unitary using Hamiltonian:\n",
      " [[1.00000000e+000 6.33051205e-133 1.74891956e-140 1.29960567e-006\n",
      "  1.35309230e-138 2.13745793e-006 2.13745791e-006 6.33352191e-139]\n",
      " [6.33051205e-133 1.00000000e+000 2.76268235e-008 8.22711649e-139\n",
      "  2.13741367e-006 1.35312032e-138 1.35312031e-138 1.00047545e-006]\n",
      " [8.22722217e-139 2.76268234e-008 1.00000000e+000 6.33051205e-133\n",
      "  2.13741369e-006 6.33373132e-139 6.33373104e-139 1.00047557e-006]\n",
      " [1.29960567e-006 1.74891956e-140 6.33051205e-133 1.00000000e+000\n",
      "  1.35309231e-138 1.00050853e-006 1.00050849e-006 6.33352266e-139]\n",
      " [1.35312031e-138 2.13741367e-006 2.13741369e-006 6.33373104e-139\n",
      "  1.00000000e+000 1.74580573e-140 6.33051205e-133 1.29970986e-006]\n",
      " [2.13745791e-006 1.35309230e-138 1.35309231e-138 1.00050849e-006\n",
      "  6.33051205e-133 2.75776360e-008 1.00000000e+000 8.22788179e-139]\n",
      " [2.13745793e-006 6.33352191e-139 6.33352266e-139 1.00050853e-006\n",
      "  8.22777611e-139 1.00000000e+000 2.75776361e-008 6.33051205e-133]\n",
      " [1.35312032e-138 1.00047545e-006 1.00047557e-006 6.33373132e-139\n",
      "  1.29970986e-006 6.33051205e-133 1.74580575e-140 1.00000000e+000]]\n",
      "\n",
      "The corresponding optimized parameters:\n",
      " [ 5.78678604e-001  3.92696871e-001  5.78678604e-001  1.17809725e+000\n",
      "  5.94502723e-001  5.94502723e-001  3.92694124e-001  3.92705752e-001\n",
      " -1.26610241e-132 -1.93236093e-143]\n",
      "\n",
      "Optimized unitary size:\n",
      " (8, 8)\n",
      "\n",
      "Actual Toffoli:\n",
      " [[1 0 0 0 0 0 0 0]\n",
      " [0 1 0 0 0 0 0 0]\n",
      " [0 0 1 0 0 0 0 0]\n",
      " [0 0 0 1 0 0 0 0]\n",
      " [0 0 0 0 1 0 0 0]\n",
      " [0 0 0 0 0 0 1 0]\n",
      " [0 0 0 0 0 1 0 0]\n",
      " [0 0 0 0 0 0 0 1]]\n"
     ]
    }
   ],
   "source": [
    "print(\"\\nOptimized unitary using Hamiltonian:\\n\", abs(get_unitary(params)))\n",
    "print(\"\\nThe corresponding optimized parameters:\\n\",params)\n",
    "print(\"\\nOptimized unitary size:\\n\", get_unitary(params).shape)\n",
    "print(\"\\nActual Toffoli:\\n\", U)"
   ]
  },
  {
   "cell_type": "code",
   "execution_count": 101,
   "metadata": {},
   "outputs": [
    {
     "data": {
      "text/plain": [
       "[0.6630419329749313,\n",
       " 0.001688861723442292,\n",
       " 0.00018340523455129265,\n",
       " 2.1305621231593186e-05,\n",
       " 2.492017175614869e-06,\n",
       " 2.917092379872699e-07,\n",
       " 3.414989924177547e-08,\n",
       " 3.997921660392478e-09,\n",
       " 4.680438259185848e-10,\n",
       " 5.48030509861519e-11,\n",
       " 6.425748821925481e-12]"
      ]
     },
     "execution_count": 101,
     "metadata": {},
     "output_type": "execute_result"
    }
   ],
   "source": [
    "cost_arr # this aaray is used in the below plot"
   ]
  },
  {
   "cell_type": "code",
   "execution_count": 143,
   "metadata": {},
   "outputs": [
    {
     "data": {
      "image/png": "[encoded data removed]",
      "text/plain": [
       "<Figure size 576x396 with 1 Axes>"
      ]
     },
     "metadata": {},
     "output_type": "display_data"
    }
   ],
   "source": [
    "x=np.linspace(0,500,11)\n",
    "y=cost_arr\n",
    "plt.plot(x,y,\"black\",label=\"cost value\")\n",
    "plt.title(\"Cost at learning rate = 0.2\")\n",
    "plt.ylabel(\"Cost\")\n",
    "plt.xlabel(\"At time step with a particular set of updates parameters\")\n",
    "plt.legend()\n",
    "plt.show()"
   ]
  },
  {
   "cell_type": "code",
   "execution_count": 144,
   "metadata": {},
   "outputs": [
    {
     "data": {
      "image/png": "[encoded data removed]",
      "text/plain": [
       "<Figure size 576x396 with 1 Axes>"
      ]
     },
     "metadata": {},
     "output_type": "display_data"
    }
   ],
   "source": [
    "fidelity=[]\n",
    "for elements in cost_arr:\n",
    "    fidelity.append(1-elements)\n",
    "    \n",
    "fidelity\n",
    "x=np.linspace(0,500,11)\n",
    "y=fidelity\n",
    "plt.plot(x,y,\"black\",label=\"Fidelity\")\n",
    "plt.title(\"Fidelity at learning rate = 0.2\")\n",
    "plt.ylabel(\"Fidelity\")\n",
    "plt.xlabel(\"At time step with a particular set of updates parameters\")\n",
    "plt.legend()\n",
    "plt.show()"
   ]
  },
  {
   "cell_type": "code",
   "execution_count": 90,
   "metadata": {},
   "outputs": [
    {
     "data": {
      "text/plain": [
       "[tensor([ 0.43336544,  0.53094556,  0.40424533,  1.05022968,  0.40382504,\n",
       "          0.49541695, -0.15671593,  0.44101042,  0.33354385, -0.09831016], requires_grad=True),\n",
       " tensor([5.68711513e-01, 3.57712401e-01, 5.68665066e-01, 1.17817992e+00,\n",
       "         5.91578179e-01, 5.91565884e-01, 3.13443686e-01, 4.98928569e-01,\n",
       "         4.85973320e-06, 7.30903591e-06], requires_grad=True),\n",
       " tensor([5.77543801e-01, 3.80910458e-01, 5.77539781e-01, 1.17809670e+00,\n",
       "         5.94178161e-01, 5.94174630e-01, 3.66230639e-01, 4.28296151e-01,\n",
       "         1.05075174e-08, 2.13118251e-08], requires_grad=True),\n",
       " tensor([5.78546130e-01, 3.88671517e-01, 5.78545661e-01, 1.17809703e+00,\n",
       "         5.94464911e-01, 5.94464484e-01, 3.83665504e-01, 4.04852813e-01,\n",
       "         5.69292136e-11, 1.41468437e-10], requires_grad=True),\n",
       " tensor([5.78663101e-01, 3.91321265e-01, 5.78663046e-01, 1.17809722e+00,\n",
       "         5.94498299e-01, 5.94498248e-01, 3.89609099e-01, 3.96856513e-01,\n",
       "         4.97481096e-13, 1.35901733e-12], requires_grad=True),\n",
       " tensor([5.78676790e-01, 3.92227665e-01, 5.78676783e-01, 1.17809724e+00,\n",
       "         5.94502205e-01, 5.94502199e-01, 3.91641866e-01, 3.94121525e-01,\n",
       "         5.32879898e-15, 1.51151394e-14], requires_grad=True),\n",
       " tensor([ 5.78678392e-01,  3.92537785e-01,  5.78678391e-01,\n",
       "          1.17809724e+00,  5.94502662e-01,  5.94502661e-01,\n",
       "          3.92337352e-01,  3.93185775e-01, -1.53494233e-18,\n",
       "         -4.44279203e-19], requires_grad=True),\n",
       " tensor([ 5.78678580e-01,  3.92643893e-01,  5.78678580e-01,\n",
       "          1.17809725e+00,  5.94502716e-01,  5.94502715e-01,\n",
       "          3.92575314e-01,  3.92865606e-01, -4.62580018e-47,\n",
       "         -4.10324657e-53], requires_grad=True),\n",
       " tensor([ 5.78678602e-01,  3.92680199e-01,  5.78678602e-01,\n",
       "          1.17809725e+00,  5.94502722e-01,  5.94502722e-01,\n",
       "          3.92656734e-01,  3.92756059e-01, -1.39405825e-75,\n",
       "         -1.55608262e-84], requires_grad=True),\n",
       " tensor([ 5.78678604e-001,  3.92692621e-001,  5.78678604e-001,\n",
       "          1.17809725e+000,  5.94502723e-001,  5.94502723e-001,\n",
       "          3.92684592e-001,  3.92718577e-001, -4.20121476e-104,\n",
       "         -5.47690129e-114], requires_grad=True),\n",
       " tensor([ 5.78678604e-001,  3.92696871e-001,  5.78678604e-001,\n",
       "          1.17809725e+000,  5.94502723e-001,  5.94502723e-001,\n",
       "          3.92694124e-001,  3.92705752e-001, -1.26610241e-132,\n",
       "         -1.93236093e-143], requires_grad=True)]"
      ]
     },
     "execution_count": 90,
     "metadata": {},
     "output_type": "execute_result"
    }
   ],
   "source": [
    "params_arr # this array is used in the below plot where each plot represents evolution of each parameter from the below araays"
   ]
  },
  {
   "cell_type": "code",
   "execution_count": 130,
   "metadata": {},
   "outputs": [
    {
     "name": "stderr",
     "output_type": "stream",
     "text": [
      "WARNING:matplotlib.legend:No handles with labels found to put in legend.\n"
     ]
    },
    {
     "data": {
      "image/png": "[encoded data removed]",
      "text/plain": [
       "<Figure size 576x396 with 1 Axes>"
      ]
     },
     "metadata": {},
     "output_type": "display_data"
    }
   ],
   "source": [
    "x=np.linspace(0,500,11)\n",
    "y=params_arr\n",
    "plt.plot(x,y)\n",
    "plt.ylabel(\"values of the Parameter\")\n",
    "plt.xlabel(\"At time step\")\n",
    "plt.title(\"Evolution of the parameters\")\n",
    "plt.legend()\n",
    "plt.show()"
   ]
  },
  {
   "cell_type": "code",
   "execution_count": 132,
   "metadata": {},
   "outputs": [
    {
     "data": {
      "image/png": "[encoded data removed]",
      "text/plain": [
       "<Figure size 576x396 with 1 Axes>"
      ]
     },
     "metadata": {},
     "output_type": "display_data"
    }
   ],
   "source": [
    "single_param=[]\n",
    "for i in range(11):\n",
    "    single_param.append(params_arr[i][0])\n",
    "x=single_param\n",
    "y=fidelity\n",
    "plt.plot(x,y,\"black\",label=\"Fidelity\")\n",
    "plt.xlabel(\"values of a single Parameter\")\n",
    "plt.ylabel(\"Fidelity\")\n",
    "plt.title(\"Fidelity at each value of a single parameter\")\n",
    "plt.legend()\n",
    "plt.show()"
   ]
  },
  {
   "cell_type": "code",
   "execution_count": 133,
   "metadata": {},
   "outputs": [
    {
     "data": {
      "image/png": "[encoded data removed]",
      "text/plain": [
       "<Figure size 576x396 with 1 Axes>"
      ]
     },
     "metadata": {},
     "output_type": "display_data"
    }
   ],
   "source": [
    "single_param=[]\n",
    "for i in range(11):\n",
    "    single_param.append(params_arr[i][1])\n",
    "x=single_param\n",
    "y=fidelity\n",
    "plt.plot(x,y,\"black\",label=\"Fidelity\")\n",
    "plt.xlabel(\"values of a single Parameter\")\n",
    "plt.ylabel(\"Fidelity\")\n",
    "plt.title(\"Fidelity at each value of a single parameter\")\n",
    "plt.legend()\n",
    "plt.show()"
   ]
  },
  {
   "cell_type": "code",
   "execution_count": 128,
   "metadata": {},
   "outputs": [
    {
     "name": "stdout",
     "output_type": "stream",
     "text": [
      "\n",
      "Optimized unitary using Strongly entangled layer with depth=5:\n",
      " [[0.99834896 0.03448396 0.01479481 0.04124432 0.00989534 0.00524181\n",
      "  0.00537331 0.00599748]\n",
      " [0.03386199 0.99920839 0.01146459 0.01297482 0.00905732 0.00529175\n",
      "  0.00432287 0.0027292 ]\n",
      " [0.01403257 0.01108872 0.99917245 0.03388984 0.00976198 0.00361618\n",
      "  0.0081718  0.00329591]\n",
      " [0.04205117 0.01185248 0.0333557  0.99840472 0.01022471 0.00443238\n",
      "  0.00563857 0.00326256]\n",
      " [0.00962708 0.00896359 0.01008981 0.01019903 0.99936343 0.00456879\n",
      "  0.010664   0.02755537]\n",
      " [0.00591822 0.00421764 0.00800659 0.00543843 0.01028011 0.04422034\n",
      "  0.9988632  0.00804314]\n",
      " [0.00513955 0.00500185 0.00359168 0.00504159 0.00481183 0.99868516\n",
      "  0.04418712 0.02371781]\n",
      " [0.0057786  0.0026178  0.00355979 0.00332225 0.02764266 0.02373661\n",
      "  0.00774295 0.99927401]]\n",
      "\n",
      "Optimized unitary size:\n",
      " (8, 8)\n",
      "\n",
      "Actual Toffoli:\n",
      " [[1 0 0 0 0 0 0 0]\n",
      " [0 1 0 0 0 0 0 0]\n",
      " [0 0 1 0 0 0 0 0]\n",
      " [0 0 0 1 0 0 0 0]\n",
      " [0 0 0 0 1 0 0 0]\n",
      " [0 0 0 0 0 0 1 0]\n",
      " [0 0 0 0 0 1 0 0]\n",
      " [0 0 0 0 0 0 0 1]]\n"
     ]
    }
   ],
   "source": [
    "print(\"\\nOptimized unitary using Strongly entangled layer with depth=5:\\n\", abs(get_unitary(params)))\n",
    "print(\"\\nOptimized unitary size:\\n\", get_unitary(params).shape)\n",
    "print(\"\\nActual Toffoli:\\n\", U)"
   ]
  },
  {
   "cell_type": "code",
   "execution_count": 28,
   "metadata": {},
   "outputs": [],
   "source": [
    "@qml.qnode(dev, diff_method=\"backprop\")\n",
    "\n",
    "def circuit2(params, state, apply_inv=True):\n",
    "    qml.BasisState(np.array(state), wires=[0,1,2])\n",
    "    #ansatz(params)\n",
    "    ansatz(params[:10])\n",
    "    ansatz(params[:10])\n",
    "    ansatz(params[:10])\n",
    "    ansatz(params[:10])\n",
    "    ansatz(params[:10])\n",
    "    ansatz(params[:10])\n",
    "    #qml.QubitUnitary(U,wires=[0,1,2]).inv()\n",
    "    return qml.probs(wires=[0,1,2])"
   ]
  },
  {
   "cell_type": "code",
   "execution_count": 135,
   "metadata": {},
   "outputs": [
    {
     "data": {
      "image/png": "[encoded data removed]",
      "text/plain": [
       "<Figure size 576x396 with 1 Axes>"
      ]
     },
     "metadata": {},
     "output_type": "display_data"
    }
   ],
   "source": [
    "probs=circuit2(params,state_vector[0])\n",
    "plt.style.use(\"seaborn\")\n",
    "plt.bar(range(2 ** 3), probs)\n",
    "plt.xlabel(\"Basis states in decimal\")\n",
    "plt.ylabel(\"Probability of a state\")\n",
    "plt.show()\n",
    "#  best optimization using current optimized parameters"
   ]
  },
  {
   "cell_type": "code",
   "execution_count": 136,
   "metadata": {},
   "outputs": [
    {
     "data": {
      "image/png": "[encoded data removed]",
      "text/plain": [
       "<Figure size 576x396 with 1 Axes>"
      ]
     },
     "metadata": {},
     "output_type": "display_data"
    }
   ],
   "source": [
    "probs=circuit2(params,state_vector[1])\n",
    "plt.style.use(\"seaborn\")\n",
    "plt.bar(range(2 ** 3), probs)\n",
    "plt.xlabel(\"Basis states in decimal\")\n",
    "plt.ylabel(\"Probability of a state\")\n",
    "plt.show()"
   ]
  },
  {
   "cell_type": "code",
   "execution_count": 137,
   "metadata": {},
   "outputs": [
    {
     "data": {
      "image/png": "[encoded data removed]",
      "text/plain": [
       "<Figure size 576x396 with 1 Axes>"
      ]
     },
     "metadata": {},
     "output_type": "display_data"
    }
   ],
   "source": [
    "probs=circuit2(params,state_vector[2])\n",
    "plt.style.use(\"seaborn\")\n",
    "plt.bar(range(2 ** 3), probs)\n",
    "plt.xlabel(\"Basis states in decimal\")\n",
    "plt.ylabel(\"Probability of a state\")\n",
    "plt.show()"
   ]
  },
  {
   "cell_type": "code",
   "execution_count": 138,
   "metadata": {},
   "outputs": [
    {
     "data": {
      "image/png": "[encoded data removed]",
      "text/plain": [
       "<Figure size 576x396 with 1 Axes>"
      ]
     },
     "metadata": {},
     "output_type": "display_data"
    }
   ],
   "source": [
    "probs=circuit2(params,state_vector[3])\n",
    "plt.style.use(\"seaborn\")\n",
    "plt.bar(range(2 ** 3), probs)\n",
    "plt.xlabel(\"Basis states in decimal\")\n",
    "plt.ylabel(\"Probability of a state\")\n",
    "plt.show()"
   ]
  },
  {
   "cell_type": "code",
   "execution_count": 139,
   "metadata": {},
   "outputs": [
    {
     "data": {
      "image/png": "[encoded data removed]",
      "text/plain": [
       "<Figure size 576x396 with 1 Axes>"
      ]
     },
     "metadata": {},
     "output_type": "display_data"
    }
   ],
   "source": [
    "probs=circuit2(params,state_vector[4])\n",
    "plt.style.use(\"seaborn\")\n",
    "plt.bar(range(2 ** 3), probs)\n",
    "plt.xlabel(\"Basis states in decimal\")\n",
    "plt.ylabel(\"Probability of a state\")\n",
    "plt.show()"
   ]
  },
  {
   "cell_type": "code",
   "execution_count": 140,
   "metadata": {},
   "outputs": [
    {
     "data": {
      "image/png": "[encoded data removed]",
      "text/plain": [
       "<Figure size 576x396 with 1 Axes>"
      ]
     },
     "metadata": {},
     "output_type": "display_data"
    }
   ],
   "source": [
    "probs=circuit2(params,state_vector[5])\n",
    "plt.style.use(\"seaborn\")\n",
    "plt.bar(range(2 ** 3), probs)\n",
    "plt.xlabel(\"Basis states in decimal\")\n",
    "plt.ylabel(\"Probability of a state\")\n",
    "plt.show()"
   ]
  },
  {
   "cell_type": "code",
   "execution_count": 141,
   "metadata": {},
   "outputs": [
    {
     "data": {
      "image/png": "[encoded data removed]",
      "text/plain": [
       "<Figure size 576x396 with 1 Axes>"
      ]
     },
     "metadata": {},
     "output_type": "display_data"
    }
   ],
   "source": [
    "probs=circuit2(params,state_vector[6])\n",
    "plt.style.use(\"seaborn\")\n",
    "plt.bar(range(2 ** 3), probs)\n",
    "plt.xlabel(\"Basis states in decimal\")\n",
    "plt.ylabel(\"Probability of a state\")\n",
    "plt.show()"
   ]
  },
  {
   "cell_type": "code",
   "execution_count": 142,
   "metadata": {},
   "outputs": [
    {
     "data": {
      "image/png": "[encoded data removed]",
      "text/plain": [
       "<Figure size 576x396 with 1 Axes>"
      ]
     },
     "metadata": {},
     "output_type": "display_data"
    }
   ],
   "source": [
    "probs=circuit2(params,state_vector[7])\n",
    "plt.style.use(\"seaborn\")\n",
    "plt.bar(range(2 ** 3), probs)\n",
    "plt.xlabel(\"Basis states in decimal\")\n",
    "plt.ylabel(\"Probability of a state\")\n",
    "plt.show()"
   ]
  },
  {
   "cell_type": "code",
   "execution_count": 91,
   "metadata": {},
   "outputs": [
    {
     "data": {
      "text/plain": [
       "tensor([ 5.78678604e-001,  3.92696871e-001,  5.78678604e-001,\n",
       "         1.17809725e+000,  5.94502723e-001,  5.94502723e-001,\n",
       "         3.92694124e-001,  3.92705752e-001, -1.26610241e-132,\n",
       "        -1.93236093e-143], requires_grad=True)"
      ]
     },
     "execution_count": 91,
     "metadata": {},
     "output_type": "execute_result"
    }
   ],
   "source": [
    "params # optimized params"
   ]
  },
  {
   "cell_type": "code",
   "execution_count": 139,
   "metadata": {},
   "outputs": [
    {
     "data": {
      "text/plain": [
       "' 0: ──╭|1⟩──╭C───────────────╭C───────────────────────╭C───────────────╭C──RZ(1.31)──H──╭C────────────╭C──H──H──╭C────────────╭C──H──────────────────────────────────────────────────────────────────────────────────╭C───────────────╭C───────────────────────╭C───────────────╭C──RZ(1.31)──H──╭C────────────╭C──H──H──╭C────────────╭C──H──────────────────────────────────────────────────────────────────────────────────╭C───────────────╭C───────────────────────╭C───────────────╭C──RZ(1.31)──H──╭C────────────╭C──H──H──╭C────────────╭C──H──────────────────────────────────────────────────────────────────────────────────╭C───────────────╭C───────────────────────╭C───────────────╭C──RZ(1.31)──H──╭C────────────╭C──H──H──╭C────────────╭C──H──────────────────────────────────────────────────────────────────────────────────╭C───────────────╭C───────────────────────╭C───────────────╭C──RZ(1.31)──H──╭C────────────╭C──H──H──╭C────────────╭C──H──────────────────────────────────────────────────────────────────────────────────╭C───────────────╭C───────────────────────╭C───────────────╭C──RZ(1.31)──H──╭C────────────╭C──H──H──╭C────────────╭C──H──────────────────────────────────────────────────────────────────────────────────╭┤ Probs \\n 1: ──├|0⟩──╰X──RZ(0.00706)──╰X──╭C────────────╭C──H──│────────────────│────────────────╰X──RZ(1.02)──╰X──H──H──│─────────────│─────────╭C─────────────╭C──H──RX(1.57)──╭C─────────────╭C──RX(-1.57)──RX(-0.000413)──╰X──RZ(0.00706)──╰X──╭C────────────╭C──H──│────────────────│────────────────╰X──RZ(1.02)──╰X──H──H──│─────────────│─────────╭C─────────────╭C──H──RX(1.57)──╭C─────────────╭C──RX(-1.57)──RX(-0.000413)──╰X──RZ(0.00706)──╰X──╭C────────────╭C──H──│────────────────│────────────────╰X──RZ(1.02)──╰X──H──H──│─────────────│─────────╭C─────────────╭C──H──RX(1.57)──╭C─────────────╭C──RX(-1.57)──RX(-0.000413)──╰X──RZ(0.00706)──╰X──╭C────────────╭C──H──│────────────────│────────────────╰X──RZ(1.02)──╰X──H──H──│─────────────│─────────╭C─────────────╭C──H──RX(1.57)──╭C─────────────╭C──RX(-1.57)──RX(-0.000413)──╰X──RZ(0.00706)──╰X──╭C────────────╭C──H──│────────────────│────────────────╰X──RZ(1.02)──╰X──H──H──│─────────────│─────────╭C─────────────╭C──H──RX(1.57)──╭C─────────────╭C──RX(-1.57)──RX(-0.000413)──╰X──RZ(0.00706)──╰X──╭C────────────╭C──H──│────────────────│────────────────╰X──RZ(1.02)──╰X──H──H──│─────────────│─────────╭C─────────────╭C──H──RX(1.57)──╭C─────────────╭C──RX(-1.57)──RX(-0.000413)──├┤ Probs \\n 2: ──╰|1⟩───────────────────────╰X──RZ(1.05)──╰X─────╰X──RZ(0.00705)──╰X──H────────────────────────────────────╰X──RZ(1.02)──╰X──H──H──╰X──RZ(0.409)──╰X──H──RX(1.57)──╰X──RZ(-0.78)──╰X──RX(-1.57)──RX(0.000413)────────────────────────╰X──RZ(1.05)──╰X─────╰X──RZ(0.00705)──╰X──H────────────────────────────────────╰X──RZ(1.02)──╰X──H──H──╰X──RZ(0.409)──╰X──H──RX(1.57)──╰X──RZ(-0.78)──╰X──RX(-1.57)──RX(0.000413)────────────────────────╰X──RZ(1.05)──╰X─────╰X──RZ(0.00705)──╰X──H────────────────────────────────────╰X──RZ(1.02)──╰X──H──H──╰X──RZ(0.409)──╰X──H──RX(1.57)──╰X──RZ(-0.78)──╰X──RX(-1.57)──RX(0.000413)────────────────────────╰X──RZ(1.05)──╰X─────╰X──RZ(0.00705)──╰X──H────────────────────────────────────╰X──RZ(1.02)──╰X──H──H──╰X──RZ(0.409)──╰X──H──RX(1.57)──╰X──RZ(-0.78)──╰X──RX(-1.57)──RX(0.000413)────────────────────────╰X──RZ(1.05)──╰X─────╰X──RZ(0.00705)──╰X──H────────────────────────────────────╰X──RZ(1.02)──╰X──H──H──╰X──RZ(0.409)──╰X──H──RX(1.57)──╰X──RZ(-0.78)──╰X──RX(-1.57)──RX(0.000413)────────────────────────╰X──RZ(1.05)──╰X─────╰X──RZ(0.00705)──╰X──H────────────────────────────────────╰X──RZ(1.02)──╰X──H──H──╰X──RZ(0.409)──╰X──H──RX(1.57)──╰X──RZ(-0.78)──╰X──RX(-1.57)──RX(0.000413)───╰┤ Probs \\n'"
      ]
     },
     "execution_count": 139,
     "metadata": {},
     "output_type": "execute_result"
    }
   ],
   "source": [
    "circuit2.draw() # the corresponding circuit"
   ]
  },
  {
   "cell_type": "code",
   "execution_count": null,
   "metadata": {},
   "outputs": [],
   "source": []
  }
 ],
 "metadata": {
  "kernelspec": {
   "display_name": "Python 3",
   "language": "python",
   "name": "python3"
  },
  "language_info": {
   "codemirror_mode": {
    "name": "ipython",
    "version": 3
   },
   "file_extension": ".py",
   "mimetype": "text/x-python",
   "name": "python",
   "nbconvert_exporter": "python",
   "pygments_lexer": "ipython3",
   "version": "3.8.5"
  }
 },
 "nbformat": 4,
 "nbformat_minor": 4
}
