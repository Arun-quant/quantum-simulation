{
 "cells": [
  {
   "cell_type": "code",
   "execution_count": 1,
   "metadata": {},
   "outputs": [],
   "source": [
    "from pennylane import numpy as np\n",
    "import pennylane as qml\n",
    "from matplotlib import pyplot as plt\n",
    "import networkx as nx"
   ]
  },
  {
   "cell_type": "code",
   "execution_count": 2,
   "metadata": {},
   "outputs": [
    {
     "data": {
      "image/png": "[encoded data removed]",
      "text/plain": [
       "<Figure size 432x288 with 1 Axes>"
      ]
     },
     "metadata": {},
     "output_type": "display_data"
    }
   ],
   "source": [
    "edges = [(0, 1), (1, 2)]\n",
    "graph = nx.Graph(edges)\n",
    "\n",
    "nx.draw(graph, with_labels=True)\n",
    "plt.show()"
   ]
  },
  {
   "cell_type": "code",
   "execution_count": 146,
   "metadata": {},
   "outputs": [],
   "source": [
    "U = np.array([[1,0,0,0,0,0,0,0],[0,1,0,0,0,0,0,0],[0,0,1,0,0,0,0,0],[0,0,0,1,0,0,0,0],[0,0,0,0,1,0,0,0],[0,0,0,0,0,1,0,0],\n",
    "                  [0,0,0,0,0,0,0,1],[0,0,0,0,0,0,1,0]])\n",
    "\n",
    "def U_actual():\n",
    "    qml.QubitUnitary(U,wires=[0,1,2])"
   ]
  },
  {
   "cell_type": "code",
   "execution_count": 4,
   "metadata": {},
   "outputs": [
    {
     "name": "stdout",
     "output_type": "stream",
     "text": [
      "  (0.23399645408475156) [Z2]\n",
      "+ (0.23540096193859328) [Y1]\n",
      "+ (0.2974049319413643) [X2]\n",
      "+ (0.3894884514245486) [X1]\n",
      "+ (0.544509523710179) [Y0]\n",
      "+ (0.7204327016015842) [Z0]\n",
      "+ (0.8644043022590482) [Z1]\n",
      "+ (0.8941446919976185) [X0]\n",
      "+ (0.9270263266952977) [Y2]\n",
      "+ (0.33075035337568615) [Z1 Z2]\n",
      "+ (0.4335567002485974) [Z0 Z1]\n",
      "+ (0.7113688531561171) [Y0 Y1]\n",
      "+ (0.7958138097006626) [Y1 Y2]\n",
      "+ (0.9077677373210084) [X0 X1]\n",
      "+ (0.9574065627648745) [X1 X2]\n"
     ]
    }
   ],
   "source": [
    "# hamiltonian for toffoli gate using maximum two body interactions\n",
    "l=np.random.rand(15)\n",
    "H=qml.Hamiltonian([l[0],l[1],l[2],l[3],l[4],l[5],l[6],l[7],l[8],l[9],l[10],l[11],l[12],l[13],l[14]],\n",
    "                                                    [qml.PauliX(wires=0)@qml.PauliX(wires=1),\n",
    "                                                     qml.PauliX(wires=1)@qml.PauliX(wires=2),\n",
    "                                                     qml.PauliY(wires=0)@qml.PauliY(wires=1),\n",
    "                                                     qml.PauliY(wires=1)@qml.PauliY(wires=2),\n",
    "                                                     qml.PauliZ(wires=0)@qml.PauliZ(wires=1),\n",
    "                                                     qml.PauliZ(wires=1)@qml.PauliZ(wires=2),\n",
    "                                                     qml.PauliZ(wires=0),qml.PauliZ(wires=1),qml.PauliZ(wires=2),\n",
    "                                                     qml.PauliX(wires=0),qml.PauliX(wires=1),qml.PauliX(wires=2),\n",
    "                                                     qml.PauliY(wires=0),qml.PauliY(wires=1),qml.PauliY(wires=2)])\n",
    "print(H)"
   ]
  },
  {
   "cell_type": "code",
   "execution_count": null,
   "metadata": {},
   "outputs": [],
   "source": []
  },
  {
   "cell_type": "code",
   "execution_count": 147,
   "metadata": {},
   "outputs": [
    {
     "name": "stdout",
     "output_type": "stream",
     "text": [
      "  (1) [Z0 Z1 I2]\n"
     ]
    }
   ],
   "source": [
    "coeffs = [1]\n",
    "obs = [\n",
    "    qml.PauliZ(0) @ qml.PauliZ(1)@qml.Identity(2)\n",
    "]\n",
    "H_toy = qml.vqe.Hamiltonian(coeffs, obs)\n",
    "print(H_toy)"
   ]
  },
  {
   "cell_type": "code",
   "execution_count": 148,
   "metadata": {},
   "outputs": [
    {
     "name": "stdout",
     "output_type": "stream",
     "text": [
      "[0.54030231-0.84147098j 0.        +0.j         0.        +0.j\n",
      " 0.        +0.j         0.        +0.j         0.        +0.j\n",
      " 0.        +0.j         0.        +0.j        ]\n",
      "(8,)\n",
      " 0: ──╭RZ(2)──╭U0──╭┤ State \n",
      " 1: ──╰RZ(2)──├U0──├┤ State \n",
      " 2: ──────────╰U0──╰┤ State \n",
      "U0 =\n",
      "[[1 0 0 0 0 0 0 0]\n",
      " [0 1 0 0 0 0 0 0]\n",
      " [0 0 1 0 0 0 0 0]\n",
      " [0 0 0 1 0 0 0 0]\n",
      " [0 0 0 0 1 0 0 0]\n",
      " [0 0 0 0 0 1 0 0]\n",
      " [0 0 0 0 0 0 0 1]\n",
      " [0 0 0 0 0 0 1 0]]\n",
      "\n"
     ]
    }
   ],
   "source": [
    "dev = qml.device('default.qubit', wires=3)\n",
    "t = 1\n",
    "n = 1\n",
    "\n",
    "@qml.qnode(dev)\n",
    "def circuit3():\n",
    "    qml.templates.ApproxTimeEvolution(H_toy, t, n)\n",
    "    U_actual()\n",
    "    return qml.state() # represents the output state\n",
    "print(circuit3())\n",
    "print(circuit3().shape)\n",
    "print(circuit3.draw())\n",
    "\n",
    "#circuit for representing exp(-iHt), for any local Ham H"
   ]
  },
  {
   "cell_type": "code",
   "execution_count": 161,
   "metadata": {},
   "outputs": [],
   "source": [
    "dev = qml.device('default.qubit', wires=3)\n",
    "\n",
    "\n",
    "#@qml.qnode(dev)\n",
    "def ansatz(param,**kwargs):\n",
    "    l=param\n",
    "   # wires=l[0]\n",
    "    #[qml.PauliX(wires=i) for i in range(3)]\n",
    "    #[qml.Hadamard(wires=i) for i in range(3)]\n",
    "    \n",
    "    # two qubit gates    \n",
    "    # circuit for local ham H=Z⊗Z⊗I    \n",
    "    qml.CNOT(wires=[0,1])\n",
    "    qml.RZ(l[0],wires=1)\n",
    "    qml.CNOT(wires=[0,1])\n",
    "    #qml.Identity(wires=2)\n",
    "    # circuit for local ham H=I⊗Z⊗Z\n",
    "    qml.CNOT(wires=[1,2])\n",
    "    qml.RZ(l[1],wires=2)\n",
    "    qml.CNOT(wires=[1,2])\n",
    "    #qml.Identity(wires=0)\n",
    "    # circuit for local ham H=I⊗X⊗X\n",
    "    qml.CNOT(wires=[1,2])\n",
    "    qml.RX(l[2],wires=2)\n",
    "    qml.CNOT(wires=[1,2])\n",
    "    #qml.Identity(wires=0)\n",
    "    # circuit for local ham H=X⊗X⊗I    \n",
    "    qml.CNOT(wires=[0,1])\n",
    "    qml.RX(l[3],wires=1)\n",
    "    qml.CNOT(wires=[0,1])\n",
    "    #qml.Identity(wires=3)   \n",
    "    # circuit for local ham H=Y⊗Y⊗I    \n",
    "    qml.CNOT(wires=[0,1])\n",
    "    qml.RY(l[4],wires=1)\n",
    "    qml.CNOT(wires=[0,1])\n",
    "    #qml.Identity(wires=3)   \n",
    "    # circuit for local ham H=I⊗Y⊗Y\n",
    "    qml.CNOT(wires=[1,2])\n",
    "    qml.RY(l[5],wires=2)\n",
    "    qml.CNOT(wires=[1,2])\n",
    "    #qml.Identity(wires=0)\n",
    "    \n",
    "    # single qubit gates\n",
    "    \n",
    "    # circuit for local ham H=I⊗I⊗Z+I⊗I⊗X+I⊗I⊗Y\n",
    "    #[qml.Identity(wires=i) for i in range(2)]\n",
    "    qml.RZ(l[6],wires=2)\n",
    "    #[qml.Identity(wires=i) for i in range(2)]\n",
    "    qml.RX(l[7],wires=2)\n",
    "    #[qml.Identity(wires=i) for i in range(2)]\n",
    "    qml.RY(l[8],wires=2)\n",
    "    # circuit for local ham H=I⊗Z⊗I+I⊗X⊗I+I⊗Y⊗I\n",
    "    #qml.Identity(wires=0) \n",
    "    qml.RZ(l[9],wires=1)\n",
    "    #qml.Identity(wires=2)\n",
    "    #qml.Identity(wires=0) \n",
    "    qml.RX(l[10],wires=1)\n",
    "    #qml.Identity(wires=2)\n",
    "    #qml.Identity(wires=0) \n",
    "    qml.RY(l[11],wires=1)\n",
    "    #qml.Identity(wires=2)\n",
    "    # circuit for local ham H=Z⊗I⊗I+X⊗I⊗I+Y⊗I⊗I\n",
    "    qml.RZ(l[12],wires=0)\n",
    "   # [qml.Identity(wires=i) for i in range(1,3)]\n",
    "    qml.RX(l[13],wires=0)\n",
    "   # [qml.Identity(wires=i) for i in range(1,3)]\n",
    "    qml.RY(l[14],wires=0)\n",
    "   # [qml.Identity(wires=i) for i in range(1,3)]\n",
    "    #[qml.Hadamard(wires=i) for i in range(3)]\n",
    "    #return [qml.expval(qml.PauliZ(i)) for i in range(3)]\n",
    "    #return qml.expval(qml.PauliZ(0))\n",
    "    "
   ]
  },
  {
   "attachments": {
    "ham.png": {
     "image/png": "[encoded data removed]"
    }
   },
   "cell_type": "markdown",
   "metadata": {},
   "source": [
    "![ham.png](attachment:ham.png)"
   ]
  },
  {
   "cell_type": "code",
   "execution_count": 162,
   "metadata": {},
   "outputs": [],
   "source": [
    "dev = qml.device('default.qubit', wires=3)\n",
    "#@qml.qnode(dev) [it should be used when we want to return something from a function]\n",
    "\n",
    "def circuit(params,**kwargs):\n",
    "    \n",
    "    #wires=params[0]\n",
    "    #qml.layer(ansatz,3,params)\n",
    "    #[qml.Hadamard(wires=i) for i in range(3)]\n",
    "    [qml.PauliX(wires=i) for i in range(3)]\n",
    "    ansatz(params)\n",
    "    U_actual()\n",
    "    \n",
    "    \n",
    "    #[qml.PauliX(wires=i) for i in range(3)]\n",
    "    #return [qml.expval(qml.PauliZ(i)) for i in range(3)]"
   ]
  },
  {
   "cell_type": "code",
   "execution_count": 12,
   "metadata": {},
   "outputs": [
    {
     "name": "stdout",
     "output_type": "stream",
     "text": [
      "[[0.80702536 0.06029856 0.87551012 0.06784527 0.10375832 0.76548705\n",
      "  0.81583231 0.7722259  0.52785209 0.48240083 0.91500289 0.43591915\n",
      "  0.63602357 0.97291124 0.63304969 0.96711806 0.09584926 0.30589945\n",
      "  0.80643624 0.32539431 0.19680909 0.82340472 0.45709713 0.56046348\n",
      "  0.43571777 0.01745468 0.77717032 0.93559154 0.35891132 0.87566155\n",
      "  0.45072959 0.28887686 0.48008057 0.39977794 0.68423607 0.3842947\n",
      "  0.69747167 0.84310073 0.5411065  0.58631914 0.95806418 0.63641031\n",
      "  0.39552253 0.99974331 0.44469735]]\n"
     ]
    }
   ],
   "source": [
    "b=np.array([np.random.rand(45)])\n",
    "print(b)"
   ]
  },
  {
   "cell_type": "code",
   "execution_count": 163,
   "metadata": {},
   "outputs": [
    {
     "name": "stdout",
     "output_type": "stream",
     "text": [
      "  (1) [Z0]\n",
      "+ (1) [Z1]\n",
      "+ (1) [Z2]\n"
     ]
    }
   ],
   "source": [
    "obs = [qml.PauliZ(0),qml.PauliZ(1) , qml.PauliZ(2)]\n",
    "H = qml.vqe.Hamiltonian([1,1,1], obs)\n",
    "print(H)\n",
    "dev = qml.device(\"default.qubit\", wires=3)\n",
    "\n",
    "######################\n",
    "#ansatz = qml.templates.StronglyEntanglingLayers\n",
    "#def ansatz(weights,wires,**kwargs):\n",
    "    #qml.templates.StronglyEntanglingLayers(weights=weights,wires=wires)\n",
    "    #qml.templates.ApproxTimeEvolution(H3,t,n)\n",
    "    #U_actual\n",
    "    #[qml.PauliX(wires=i) for i in range(3)]\n",
    "######################    \n",
    "\n",
    "cost_opt = qml.ExpvalCost(circuit, H, dev, optimize=True)\n",
    "cost_no_opt = qml.ExpvalCost(circuit, H, dev, optimize=False)\n",
    "\n",
    "initparam= np.random.rand(15)\n",
    "params = initparam"
   ]
  },
  {
   "cell_type": "code",
   "execution_count": 164,
   "metadata": {},
   "outputs": [
    {
     "name": "stdout",
     "output_type": "stream",
     "text": [
      "the value of cost at step 10 is -1.09026\n",
      "the value of cost at step 20 is -1.15733\n",
      "the value of cost at step 30 is -1.23879\n",
      "the value of cost at step 40 is -1.33885\n",
      "the value of cost at step 50 is -1.46113\n",
      "the value of cost at step 60 is -1.60726\n",
      "the value of cost at step 70 is -1.77505\n",
      "the value of cost at step 80 is -1.95716\n",
      "the value of cost at step 90 is -2.14180\n",
      "the value of cost at step 100 is -2.31585\n",
      "the value of cost at step 110 is -2.46890\n",
      "the value of cost at step 120 is -2.59571\n",
      "the value of cost at step 130 is -2.69608\n",
      "the value of cost at step 140 is -2.77302\n",
      "the value of cost at step 150 is -2.83084\n",
      "the value of cost at step 160 is -2.87378\n",
      "the value of cost at step 170 is -2.90552\n",
      "the value of cost at step 180 is -2.92895\n",
      "the value of cost at step 190 is -2.94625\n",
      "the value of cost at step 200 is -2.95906\n",
      "the value of cost at step 210 is -2.96857\n",
      "the value of cost at step 220 is -2.97566\n",
      "the value of cost at step 230 is -2.98096\n",
      "the value of cost at step 240 is -2.98494\n",
      "the value of cost at step 250 is -2.98795\n",
      "the value of cost at step 260 is -2.99023\n",
      "the value of cost at step 270 is -2.99197\n",
      "the value of cost at step 280 is -2.99331\n",
      "the value of cost at step 290 is -2.99435\n",
      "the value of cost at step 300 is -2.99516\n",
      "the value of cost at step 310 is -2.99580\n",
      "the value of cost at step 320 is -2.99631\n",
      "the value of cost at step 330 is -2.99672\n",
      "the value of cost at step 340 is -2.99705\n",
      "the value of cost at step 350 is -2.99733\n",
      "the value of cost at step 360 is -2.99756\n",
      "the value of cost at step 370 is -2.99776\n",
      "the value of cost at step 380 is -2.99793\n",
      "the value of cost at step 390 is -2.99808\n",
      "the value of cost at step 400 is -2.99821\n",
      "the value of cost at step 410 is -2.99833\n",
      "the value of cost at step 420 is -2.99843\n",
      "the value of cost at step 430 is -2.99853\n",
      "the value of cost at step 440 is -2.99862\n",
      "the value of cost at step 450 is -2.99870\n",
      "the value of cost at step 460 is -2.99877\n",
      "the value of cost at step 470 is -2.99884\n",
      "the value of cost at step 480 is -2.99890\n",
      "the value of cost at step 490 is -2.99896\n",
      "the value of cost at step 500 is -2.99902\n",
      "-2.9990155560435405\n"
     ]
    }
   ],
   "source": [
    "cost_history = []\n",
    "steps=500\n",
    "for it in range(steps):\n",
    "    params, cost = qml.GradientDescentOptimizer(stepsize=0.01).step_and_cost(cost_opt, params)\n",
    "    #print(\"Step {:3d}       Cost_L = {:9.7f}\".format(it, cost))\n",
    "    if (it+1)%10==0:\n",
    "        \n",
    "        print(\"the value of cost at step {:} is {:.5f}\".format(it+1,cost_opt(params)))\n",
    "\n",
    "        cost_history.append(cost)\n",
    "print(cost)    "
   ]
  },
  {
   "cell_type": "code",
   "execution_count": 165,
   "metadata": {},
   "outputs": [
    {
     "data": {
      "image/png": "[encoded data removed]",
      "text/plain": [
       "<Figure size 576x396 with 1 Axes>"
      ]
     },
     "metadata": {},
     "output_type": "display_data"
    }
   ],
   "source": [
    "x=np.linspace(0,500,50)\n",
    "y=cost_history\n",
    "plt.plot(x,y,\"o-\")\n",
    "plt.xlabel(\"No. of steps\")\n",
    "plt.ylabel(\"Cost\")\n",
    "plt.title(\"Variational cost Vs Time step\")\n",
    "#plt.grid()\n",
    "plt.show()"
   ]
  },
  {
   "cell_type": "code",
   "execution_count": 177,
   "metadata": {},
   "outputs": [
    {
     "data": {
      "text/plain": [
       "tensor([ True, False, False, False, False, False, False, False, False,\n",
       "        False, False, False,  True, False, False], requires_grad=True)"
      ]
     },
     "execution_count": 177,
     "metadata": {},
     "output_type": "execute_result"
    }
   ],
   "source": [
    "params==initparam"
   ]
  },
  {
   "cell_type": "code",
   "execution_count": 178,
   "metadata": {},
   "outputs": [
    {
     "name": "stdout",
     "output_type": "stream",
     "text": [
      "[0.98254044 0.11487874 0.20760769 0.38438572 0.24818034 0.64606634\n",
      " 0.17233538 0.47089946 0.28912529 0.4923059  0.41034996 0.19290492\n",
      " 0.37945634 0.89223717 0.11684988]\n",
      "[ 9.82540439e-01  1.14878737e-01  8.42172374e-01  5.96169675e-02\n",
      " -2.42403027e-02  1.55084478e+00  5.19358113e-01  1.58071909e+00\n",
      " -2.08629004e-01  5.54419107e-01  4.39797975e-02 -3.38582585e-02\n",
      "  3.79456342e-01  1.58998052e-04  2.38567665e-05]\n"
     ]
    }
   ],
   "source": [
    "print(initparam)\n",
    "print(params)"
   ]
  },
  {
   "cell_type": "code",
   "execution_count": 23,
   "metadata": {},
   "outputs": [
    {
     "name": "stdout",
     "output_type": "stream",
     "text": [
      " 0: ──H──╭C────────────╭C────────────────────────────────────────╭C───────────╭C──╭C────────────╭C───RZ(0.0119)──RX(0.732)────RY(1.58)─────────────────────────────────────┤ ⟨Z⟩ \n",
      " 1: ──H──╰X──RZ(0.34)──╰X──╭C──────────────╭C──╭C────────────╭C──╰X──RX(1.4)──╰X──╰X──RY(0.34)──╰X──╭C───────────────────────╭C─────────RZ(0.00155)──RX(0.0411)──RY(1.56)──┤ ⟨Z⟩ \n",
      " 2: ──H────────────────────╰X──RZ(0.0176)──╰X──╰X──RX(0.84)──╰X─────────────────────────────────────╰X───────────RY(0.0176)──╰X─────────RZ(0.015)────RX(-0.207)──RY(1.56)──┤ ⟨Z⟩ \n",
      "\n"
     ]
    }
   ],
   "source": [
    "ansatz(params)\n",
    "print(ansatz.draw())\n",
    "\n",
    "# the final circuit and the corresponding parameters of the ising hamiltonian\n",
    "# we can get the circuit diag as output when we return something in the fucntion e.g. qml.expval(qml.Pauli(i)....)"
   ]
  },
  {
   "cell_type": "code",
   "execution_count": 81,
   "metadata": {},
   "outputs": [],
   "source": [
    "dev = qml.device('default.qubit', wires=3)\n",
    "# for playing with the ansatz we can use myansatz anytime\n",
    "def myansatz(param,**kwargs):\n",
    "    l=param  \n",
    "    [qml.Hadamard(wires=i) for i in range(3)]\n",
    "    # circuit for local ham H=Z⊗Z⊗I    \n",
    "    qml.CNOT(wires=[0,1])\n",
    "    qml.RZ(l[0],wires=1)\n",
    "    qml.CNOT(wires=[0,1])\n",
    "    #qml.Identity(wires=2)\n",
    "    # circuit for local ham H=I⊗Z⊗Z\n",
    "    qml.CNOT(wires=[1,2])\n",
    "    qml.RZ(l[1],wires=2)\n",
    "    qml.CNOT(wires=[1,2])\n",
    "    #qml.Identity(wires=0)\n",
    "    # circuit for local ham H=I⊗X⊗X\n",
    "    qml.CNOT(wires=[1,2])\n",
    "    qml.RX(l[2],wires=2)\n",
    "    qml.CNOT(wires=[1,2])\n",
    "    #qml.Identity(wires=0)\n",
    "    # circuit for local ham H=X⊗X⊗I    \n",
    "    qml.CNOT(wires=[0,1])\n",
    "    qml.RX(l[3],wires=1)\n",
    "    qml.CNOT(wires=[0,1])\n",
    "    #qml.Identity(wires=3)   \n",
    "    # circuit for local ham H=Y⊗Y⊗I    \n",
    "    qml.CNOT(wires=[0,1])\n",
    "    qml.RY(l[4],wires=1)\n",
    "    qml.CNOT(wires=[0,1])\n",
    "    #qml.Identity(wires=3)   \n",
    "    # circuit for local ham H=I⊗Y⊗Y\n",
    "    qml.CNOT(wires=[1,2])\n",
    "    qml.RY(l[5],wires=2)\n",
    "    qml.CNOT(wires=[1,2])\n",
    "    #qml.Identity(wires=0)\n",
    "    \n",
    "    # single qubit gates\n",
    "    \n",
    "    # circuit for local ham H=I⊗I⊗Z+I⊗I⊗X+I⊗I⊗Y\n",
    "    #[qml.Identity(wires=i) for i in range(2)]\n",
    "    qml.RZ(l[6],wires=2)\n",
    "    #[qml.Identity(wires=i) for i in range(2)]\n",
    "    qml.RX(l[7],wires=2)\n",
    "    #[qml.Identity(wires=i) for i in range(2)]\n",
    "    qml.RY(l[8],wires=2)\n",
    "    # circuit for local ham H=I⊗Z⊗I+I⊗X⊗I+I⊗Y⊗I\n",
    "    #qml.Identity(wires=0) \n",
    "    qml.RZ(l[9],wires=1)\n",
    "    #qml.Identity(wires=2)\n",
    "    #qml.Identity(wires=0) \n",
    "    qml.RX(l[10],wires=1)\n",
    "    #qml.Identity(wires=2)\n",
    "    #qml.Identity(wires=0) \n",
    "    qml.RY(l[11],wires=1)\n",
    "    #qml.Identity(wires=2)\n",
    "    # circuit for local ham H=Z⊗I⊗I+X⊗I⊗I+Y⊗I⊗I\n",
    "    qml.RZ(l[12],wires=0)\n",
    "   # [qml.Identity(wires=i) for i in range(1,3)]\n",
    "    qml.RX(l[13],wires=0)\n",
    "   # [qml.Identity(wires=i) for i in range(1,3)]\n",
    "    qml.RY(l[14],wires=0)\n",
    "   # [qml.Identity(wires=i) for i in range(1,3)]\n"
   ]
  },
  {
   "cell_type": "code",
   "execution_count": 174,
   "metadata": {},
   "outputs": [],
   "source": [
    "dev = qml.device('default.qubit', wires=3)\n",
    "#@qml.qnode(dev) [it should be used when we want to return something from a function]\n",
    "\n",
    "# params are the optimal ones\n",
    "def circ(params,**kwargs):\n",
    "    \n",
    "    #wires=params[0]\n",
    "    #qml.layer(ansatz,3,params)\n",
    "    ansatz(params)\n",
    "    U_actual()\n",
    "    \n",
    "    \n",
    "    #[qml.PauliX(wires=i) for i in range(3)]\n",
    "    #return [qml.expval(qml.PauliZ(i)) for i in range(3)]"
   ]
  },
  {
   "cell_type": "code",
   "execution_count": 175,
   "metadata": {},
   "outputs": [],
   "source": [
    "\n",
    "@qml.qnode(dev)\n",
    "def probability_circuit(params):\n",
    "    [qml.PauliX(wires=i) for i in range(3)]\n",
    "    circ(params)\n",
    "    return qml.probs(wires=[0,1,2])\n",
    "\n",
    "\n",
    "probs = probability_circuit(params)\n",
    "#print(len(probs))"
   ]
  },
  {
   "cell_type": "code",
   "execution_count": 176,
   "metadata": {},
   "outputs": [
    {
     "data": {
      "image/png": "[encoded data removed]",
      "text/plain": [
       "<Figure size 576x396 with 1 Axes>"
      ]
     },
     "metadata": {},
     "output_type": "display_data"
    }
   ],
   "source": [
    "plt.style.use(\"seaborn\")\n",
    "plt.bar(range(2 ** 3), probs)\n",
    "plt.show()"
   ]
  },
  {
   "cell_type": "code",
   "execution_count": 42,
   "metadata": {},
   "outputs": [],
   "source": [
    "#print(np.linspace(0,500,500))"
   ]
  },
  {
   "cell_type": "code",
   "execution_count": 152,
   "metadata": {},
   "outputs": [],
   "source": [
    "# for understanding how the toffoli gate works\n",
    "@qml.qnode(dev)\n",
    "def prob_circuit(params):\n",
    "    [qml.PauliX(wires=i) for i in range(2)]\n",
    "    #circ(params)\n",
    "    U_actual()\n",
    "    return qml.probs(wires=[0,1,2])\n",
    "\n",
    "\n",
    "prob = prob_circuit(params)\n",
    "#print(len(probs))"
   ]
  },
  {
   "cell_type": "code",
   "execution_count": 153,
   "metadata": {},
   "outputs": [
    {
     "data": {
      "image/png": "[encoded data removed]",
      "text/plain": [
       "<Figure size 576x396 with 1 Axes>"
      ]
     },
     "metadata": {},
     "output_type": "display_data"
    }
   ],
   "source": [
    "plt.style.use(\"seaborn\")\n",
    "plt.bar(range(2 ** 3), prob)\n",
    "plt.show()"
   ]
  },
  {
   "cell_type": "code",
   "execution_count": 154,
   "metadata": {},
   "outputs": [
    {
     "name": "stdout",
     "output_type": "stream",
     "text": [
      " 0: ──X──╭U0──╭┤ Probs \n",
      " 1: ──X──├U0──├┤ Probs \n",
      " 2: ─────╰U0──╰┤ Probs \n",
      "U0 =\n",
      "[[1 0 0 0 0 0 0 0]\n",
      " [0 1 0 0 0 0 0 0]\n",
      " [0 0 1 0 0 0 0 0]\n",
      " [0 0 0 1 0 0 0 0]\n",
      " [0 0 0 0 1 0 0 0]\n",
      " [0 0 0 0 0 1 0 0]\n",
      " [0 0 0 0 0 0 0 1]\n",
      " [0 0 0 0 0 0 1 0]]\n",
      "\n"
     ]
    }
   ],
   "source": [
    "print(prob_circuit.draw())"
   ]
  },
  {
   "cell_type": "code",
   "execution_count": null,
   "metadata": {},
   "outputs": [],
   "source": []
  }
 ],
 "metadata": {
  "kernelspec": {
   "display_name": "Python 3",
   "language": "python",
   "name": "python3"
  },
  "language_info": {
   "codemirror_mode": {
    "name": "ipython",
    "version": 3
   },
   "file_extension": ".py",
   "mimetype": "text/x-python",
   "name": "python",
   "nbconvert_exporter": "python",
   "pygments_lexer": "ipython3",
   "version": "3.8.5"
  }
 },
 "nbformat": 4,
 "nbformat_minor": 4
}
