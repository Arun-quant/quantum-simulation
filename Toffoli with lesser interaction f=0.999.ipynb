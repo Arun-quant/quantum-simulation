{
 "cells": [
  {
   "cell_type": "code",
   "execution_count": 2,
   "id": "3af35bbd",
   "metadata": {},
   "outputs": [],
   "source": [
    "from pennylane import numpy as np\n",
    "import pennylane as qml\n",
    "from matplotlib import pyplot as plt\n",
    "import skquant.opt as skqopt #optimization routines\n",
    "from scipy.linalg import expm\n",
    "from Functionals import *"
   ]
  },
  {
   "cell_type": "code",
   "execution_count": 2,
   "id": "13cb8a8e",
   "metadata": {},
   "outputs": [
    {
     "name": "stdout",
     "output_type": "stream",
     "text": [
      "[[1 0 0 0 0 0 0 0]\n",
      " [0 1 0 0 0 0 0 0]\n",
      " [0 0 1 0 0 0 0 0]\n",
      " [0 0 0 1 0 0 0 0]\n",
      " [0 0 0 0 1 0 0 0]\n",
      " [0 0 0 0 0 1 0 0]\n",
      " [0 0 0 0 0 0 0 1]\n",
      " [0 0 0 0 0 0 1 0]]\n"
     ]
    }
   ],
   "source": [
    "# matrix representation of Toffoli gate\n",
    "U = np.array([[1,0,0,0,0,0,0,0],[0,1,0,0,0,0,0,0],[0,0,1,0,0,0,0,0],[0,0,0,1,0,0,0,0],[0,0,0,0,1,0,0,0],[0,0,0,0,0,1,0,0],\n",
    "                  [0,0,0,0,0,0,0,1],[0,0,0,0,0,0,1,0]])\n",
    "\n",
    "print(U)"
   ]
  },
  {
   "cell_type": "code",
   "execution_count": 3,
   "id": "11b8a449",
   "metadata": {},
   "outputs": [],
   "source": [
    "I = np.eye(2)\n",
    "X = np.array([[0, 1], [1, 0]])\n",
    "Z = np.array([[1, 0], [0, -1]])\n",
    "Y = np.array([[0,-1j],[1j, 0]])"
   ]
  },
  {
   "cell_type": "code",
   "execution_count": 4,
   "id": "62c206ce",
   "metadata": {},
   "outputs": [],
   "source": [
    "H=[np.kron(np.kron(I,I),I),np.kron(np.kron(I,I),Z),np.kron(np.kron(Z,I),Z),np.kron(np.kron(I,Z),Z),\n",
    "   np.kron(np.kron(X,X),I),np.kron(np.kron(Y,Y),I),np.kron(np.kron(Z,Z),I),np.kron(np.kron(Z,I),I),\n",
    "   np.kron(np.kron(I,Z),I),np.kron(np.kron(I,I),X),np.kron(np.kron(I,X),I),np.kron(np.kron(X,I),I),\n",
    "   np.kron(np.kron(X,I),X),np.kron(np.kron(I,X),X)]\n"
   ]
  },
  {
   "cell_type": "code",
   "execution_count": 5,
   "id": "99dc68bf",
   "metadata": {},
   "outputs": [
    {
     "data": {
      "text/plain": [
       "62"
      ]
     },
     "execution_count": 5,
     "metadata": {},
     "output_type": "execute_result"
    }
   ],
   "source": [
    "comm_terms=ham_grouping(H)[0]\n",
    "len(comm_terms)"
   ]
  },
  {
   "cell_type": "code",
   "execution_count": 6,
   "id": "30ca5e14",
   "metadata": {},
   "outputs": [
    {
     "data": {
      "text/plain": [
       "[[0, 1],\n",
       " [0, 2],\n",
       " [0, 3],\n",
       " [0, 4],\n",
       " [0, 5],\n",
       " [0, 6],\n",
       " [0, 7],\n",
       " [0, 8],\n",
       " [0, 9],\n",
       " [0, 10],\n",
       " [0, 11],\n",
       " [0, 12],\n",
       " [0, 13],\n",
       " [1, 2],\n",
       " [1, 3],\n",
       " [1, 4],\n",
       " [1, 5],\n",
       " [1, 6],\n",
       " [1, 7],\n",
       " [1, 8],\n",
       " [1, 10],\n",
       " [1, 11],\n",
       " [2, 3],\n",
       " [2, 6],\n",
       " [2, 7],\n",
       " [2, 8],\n",
       " [2, 10],\n",
       " [2, 12],\n",
       " [3, 6],\n",
       " [3, 7],\n",
       " [3, 8],\n",
       " [3, 11],\n",
       " [3, 13],\n",
       " [4, 5],\n",
       " [4, 6],\n",
       " [4, 9],\n",
       " [4, 10],\n",
       " [4, 11],\n",
       " [4, 12],\n",
       " [4, 13],\n",
       " [5, 6],\n",
       " [5, 9],\n",
       " [6, 7],\n",
       " [6, 8],\n",
       " [6, 9],\n",
       " [7, 8],\n",
       " [7, 9],\n",
       " [7, 10],\n",
       " [7, 13],\n",
       " [8, 9],\n",
       " [8, 11],\n",
       " [8, 12],\n",
       " [9, 10],\n",
       " [9, 11],\n",
       " [9, 12],\n",
       " [9, 13],\n",
       " [10, 11],\n",
       " [10, 12],\n",
       " [10, 13],\n",
       " [11, 12],\n",
       " [11, 13],\n",
       " [12, 13]]"
      ]
     },
     "execution_count": 6,
     "metadata": {},
     "output_type": "execute_result"
    }
   ],
   "source": [
    "comm_terms"
   ]
  },
  {
   "cell_type": "code",
   "execution_count": 7,
   "id": "b5ef7d3b",
   "metadata": {},
   "outputs": [
    {
     "data": {
      "text/plain": [
       "29"
      ]
     },
     "execution_count": 7,
     "metadata": {},
     "output_type": "execute_result"
    }
   ],
   "source": [
    "len(ham_grouping(H)[1])"
   ]
  },
  {
   "cell_type": "code",
   "execution_count": 8,
   "id": "d06b4cb5",
   "metadata": {},
   "outputs": [
    {
     "data": {
      "text/plain": [
       "120"
      ]
     },
     "execution_count": 8,
     "metadata": {},
     "output_type": "execute_result"
    }
   ],
   "source": [
    "62+29*2"
   ]
  },
  {
   "cell_type": "code",
   "execution_count": null,
   "id": "6c87b8c3",
   "metadata": {},
   "outputs": [],
   "source": []
  },
  {
   "cell_type": "code",
   "execution_count": 9,
   "id": "4c6b7532",
   "metadata": {},
   "outputs": [
    {
     "data": {
      "text/plain": [
       "tensor([ 1.54743514,  0.        ,  0.        ,  0.        ,  0.14251684,\n",
       "         0.14251684,  1.57079632,  4.7094554 , -1.56786274,  5.49778714,\n",
       "         6.21035872,  2.17620122,  2.17620122,  6.21035872], requires_grad=True)"
      ]
     },
     "execution_count": 9,
     "metadata": {},
     "output_type": "execute_result"
    }
   ],
   "source": [
    "opt_par=np.array([ 0.77371757,  0.        ,  0.        ,  0.        ,  0.07125842,\n",
    "        0.07125842,  0.78539816,  2.3547277 , -0.78393137,  2.74889357,\n",
    "        3.10517936,  1.08810061,  1.08810061,  3.10517936])\n",
    "opt_par*2"
   ]
  },
  {
   "cell_type": "code",
   "execution_count": 10,
   "id": "b114b1d7",
   "metadata": {},
   "outputs": [],
   "source": [
    "dev = qml.device(\"default.qubit\", wires=3)\n",
    "\n",
    "\n",
    "#@qml.qnode(dev)\n",
    "def ansatz(params):\n",
    "    l=params\n",
    "\n",
    "    \n",
    "    #H=Z⊗Z⊗I\n",
    "    qml.CNOT(wires=[0,1])\n",
    "    qml.RZ(l[0],wires=1)\n",
    "    qml.CNOT(wires=[0,1])\n",
    "    \n",
    "    \n",
    "    #Z⊗I⊗I\n",
    "    qml.RZ(l[1],wires=0)\n",
    "   \n",
    "    #I⊗Z⊗I\n",
    "    qml.RZ(l[2],wires=1)\n",
    "    \n",
    "    \n",
    "    #I⊗I⊗X\n",
    "    qml.RX(l[3],wires=2)\n",
    "    \n",
    "    #I⊗X⊗I\n",
    "    qml.RX(l[4],wires=1)\n",
    "    \n",
    "    #X⊗I⊗I\n",
    "    qml.RX(l[5],wires=0)\n",
    "    \n",
    "    # circuit for local ham H=X⊗I⊗X\n",
    "    qml.Hadamard(wires=0)\n",
    "    qml.Hadamard(wires=2)\n",
    "    qml.CNOT(wires=[0,2])\n",
    "    qml.RZ(l[6],wires=2)\n",
    "    qml.CNOT(wires=[0,2])\n",
    "    qml.Hadamard(wires=0)\n",
    "    qml.Hadamard(wires=2)\n",
    "    \n",
    "    \n",
    "    # circuit for local ham H=I⊗X⊗X\n",
    "    [qml.Hadamard(wires=i) for i in range(1,3)]\n",
    "    qml.CNOT(wires=[1,2])\n",
    "    qml.RZ(l[7],wires=2)\n",
    "    qml.CNOT(wires=[1,2])\n",
    "    [qml.Hadamard(wires=i) for i in range(1,3)]\n",
    "    "
   ]
  },
  {
   "cell_type": "code",
   "execution_count": 11,
   "id": "32535383",
   "metadata": {},
   "outputs": [],
   "source": [
    "Trotter_steps=6"
   ]
  },
  {
   "cell_type": "code",
   "execution_count": 12,
   "id": "097bafe8",
   "metadata": {},
   "outputs": [],
   "source": [
    "@qml.qnode(dev)\n",
    "#@qml.transforms.insert(qml.PhaseFlip, 0.2, position=\"end\") # add noise when needed using \"qml.transforms.insert\"\n",
    "def circuit(params, state, apply_inv=True):\n",
    "    qml.BasisState(np.array(state), wires=[0,1,2])\n",
    "  \n",
    "    for d in range(Trotter_steps):\n",
    "        ansatz(params[:13])\n",
    "    \n",
    "\n",
    "    return qml.state()\n",
    "\n",
    "def var_circ(params,state):\n",
    "    result=(np.exp(-1j*params[0])*circuit(params[1:],state))\n",
    "    \n",
    "    return result"
   ]
  },
  {
   "cell_type": "code",
   "execution_count": 13,
   "id": "bd3cba56",
   "metadata": {},
   "outputs": [],
   "source": [
    "@qml.qnode(dev, diff_method=\"backprop\")\n",
    "def target_st(state):\n",
    "    qml.BasisState(np.array(state), wires=[0,1,2])\n",
    "    qml.QubitUnitary(U,wires=[0,1,2]).inv() # fredkin gate\n",
    "    return qml.state()"
   ]
  },
  {
   "cell_type": "code",
   "execution_count": 14,
   "id": "927c475f",
   "metadata": {},
   "outputs": [],
   "source": [
    "def get_unitary(params):\n",
    "    return np.array([circuit(params, state) for state in state_vector]).T"
   ]
  },
  {
   "cell_type": "code",
   "execution_count": 15,
   "id": "39cd585c",
   "metadata": {},
   "outputs": [],
   "source": [
    "# 1st cost => the overlaps between target and variational kets are taken as cost : can be obtained using Hadamard test\n",
    "def cost3(params): # more general cost function\n",
    "    circ_ket=[]\n",
    "    act_ket=[]\n",
    "    overlaps=[] \n",
    "        \n",
    "    for i in range(8):\n",
    "        state=state_vector[i]\n",
    "        circ_ket.append(circuit(params,state))\n",
    "        act_ket.append(target_st(state))\n",
    "\n",
    "        overlaps.append((np.sum(np.dot(np.conj(circ_ket[i]),act_ket[i]))))\n",
    "    cost=0\n",
    "    for i in range(8):\n",
    "        cost+=(overlaps[i])\n",
    "    cost_abs=1-(np.abs(cost)/len(overlaps))**2   \n",
    "    return cost_abs#, overlaps"
   ]
  },
  {
   "cell_type": "code",
   "execution_count": 16,
   "id": "d4c37800",
   "metadata": {},
   "outputs": [],
   "source": [
    "# 2nd cost the trace distance between two unitaries is taken as cost : can be obtained using Hilber-Schimdt test\n",
    "def cost1(params):\n",
    "    U_par=get_unitary(params)\n",
    "    F=(np.abs(np.trace(np.dot(np.transpose(np.conj(U_par)),U)))/len(U))**2\n",
    "    \n",
    "    return 1-F"
   ]
  },
  {
   "cell_type": "code",
   "execution_count": 17,
   "id": "66622945",
   "metadata": {},
   "outputs": [
    {
     "name": "stdout",
     "output_type": "stream",
     "text": [
      "[0. 0. 0. 0. 0. 0. 0. 1.]\n",
      "[1 1 1]\n"
     ]
    }
   ],
   "source": [
    "params = np.random.random(14)\n",
    "Id = np.eye(8, requires_grad=False)\n",
    "state_vector=np.array([[0,0,0],[0,0,1],[0,1,0],[0,1,1],[1,0,0],[1,0,1],[1,1,0],[1,1,1]])\n",
    "print(Id[7])\n",
    "print(state_vector[7])"
   ]
  },
  {
   "cell_type": "code",
   "execution_count": 18,
   "id": "1667b1a9",
   "metadata": {},
   "outputs": [],
   "source": [
    "init_p=np.array([ 0.00148046,  0.53702133, -0.06340707,  0.6037491 ,  0.528633  ,\n",
    "         1.03121218,  0.86660951,  0.49076635,  0.31136971,  0.85875153,\n",
    "         0.93465599,  0.71024208,  0.05872529,  0.27780705])\n",
    "params=init_p"
   ]
  },
  {
   "cell_type": "code",
   "execution_count": 19,
   "id": "c2f3ee43",
   "metadata": {},
   "outputs": [
    {
     "data": {
      "text/plain": [
       "0.6941018170372688"
      ]
     },
     "execution_count": 19,
     "metadata": {},
     "output_type": "execute_result"
    }
   ],
   "source": [
    "cost3(init_p)"
   ]
  },
  {
   "cell_type": "code",
   "execution_count": 306,
   "id": "1b69f5b7",
   "metadata": {},
   "outputs": [],
   "source": [
    "par_arr=[]\n",
    "def func_par():\n",
    "    param=np.random.random(10)\n",
    "    print(\"cost-->\",cost3(param))\n",
    "    par_arr.append(param)\n",
    "    if cost3(param)>0.6:\n",
    "        func_par()\n",
    "    \n",
    "    return par_arr"
   ]
  },
  {
   "cell_type": "code",
   "execution_count": 307,
   "id": "ab6773d1",
   "metadata": {
    "scrolled": true
   },
   "outputs": [
    {
     "name": "stdout",
     "output_type": "stream",
     "text": [
      "cost--> 0.996582333215273\n",
      "cost--> 0.961239913699666\n",
      "cost--> 0.9621532614288903\n",
      "cost--> 0.9035463228144658\n",
      "cost--> 0.9768893149955524\n",
      "cost--> 0.8581107443706382\n",
      "cost--> 0.736641513315514\n",
      "cost--> 0.9514092956772229\n",
      "cost--> 0.881572473197313\n",
      "cost--> 0.886405886848984\n",
      "cost--> 0.9849187606832783\n",
      "cost--> 0.937475622703708\n",
      "cost--> 0.9064220002964669\n",
      "cost--> 0.9603902965016329\n",
      "cost--> 0.9693865464424396\n",
      "cost--> 0.91004014433797\n",
      "cost--> 0.9251018241793971\n",
      "cost--> 0.8328221151875013\n",
      "cost--> 0.9576713900050179\n",
      "cost--> 0.9654439962804571\n",
      "cost--> 0.9970523494990979\n",
      "cost--> 0.9603413441281811\n",
      "cost--> 0.9878880796825769\n",
      "cost--> 0.956300597807953\n",
      "cost--> 0.9565109957483434\n",
      "cost--> 0.7610382170537574\n",
      "cost--> 0.946202624250476\n",
      "cost--> 0.8685051182156138\n",
      "cost--> 0.8946301612633235\n",
      "cost--> 0.9150032206975693\n",
      "cost--> 0.9706692444951134\n",
      "cost--> 0.8009640713068877\n",
      "cost--> 0.9815288565685335\n",
      "cost--> 0.9719443521650026\n",
      "cost--> 0.9571117547576404\n",
      "cost--> 0.9783800344840773\n",
      "cost--> 0.9961037440426802\n",
      "cost--> 0.9007636013892913\n",
      "cost--> 0.9868610350137015\n",
      "cost--> 0.9005781297940215\n",
      "cost--> 0.9410131459230222\n",
      "cost--> 0.9302412715506823\n",
      "cost--> 0.8016420053272737\n",
      "cost--> 0.9655760950392388\n",
      "cost--> 0.979523569115365\n",
      "cost--> 0.8314228969088413\n",
      "cost--> 0.7504000416384893\n",
      "cost--> 0.9946417234593433\n",
      "cost--> 0.8522754773394927\n",
      "cost--> 0.9964211321734856\n",
      "cost--> 0.8201016491454316\n",
      "cost--> 0.9724126881764403\n",
      "cost--> 0.9741991518025984\n",
      "cost--> 0.976498852000318\n",
      "cost--> 0.9404329440258111\n",
      "cost--> 0.9363671488212324\n",
      "cost--> 0.9709737077823155\n",
      "cost--> 0.8282665556918181\n",
      "cost--> 0.804489851482034\n",
      "cost--> 0.955497583725055\n",
      "cost--> 0.6385641292055052\n",
      "cost--> 0.696531466304164\n",
      "cost--> 0.9138274111790876\n",
      "cost--> 0.9656251277768196\n",
      "cost--> 0.9554555644884516\n",
      "cost--> 0.7152735094323053\n",
      "cost--> 0.5399718946889158\n"
     ]
    }
   ],
   "source": [
    "params=func_par()"
   ]
  },
  {
   "cell_type": "code",
   "execution_count": 308,
   "id": "5867967d",
   "metadata": {},
   "outputs": [],
   "source": [
    "params=(params[-1])"
   ]
  },
  {
   "cell_type": "code",
   "execution_count": 318,
   "id": "cbc8e44f",
   "metadata": {},
   "outputs": [
    {
     "data": {
      "text/plain": [
       "tensor([0.39188592, 0.6163197 , 0.59069602, 0.95306003, 0.44948882,\n",
       "        0.18846414, 0.50966215, 0.40795083, 0.67857546, 0.83198497], requires_grad=True)"
      ]
     },
     "execution_count": 318,
     "metadata": {},
     "output_type": "execute_result"
    }
   ],
   "source": [
    "params"
   ]
  },
  {
   "cell_type": "code",
   "execution_count": 34,
   "id": "310c2c9e",
   "metadata": {},
   "outputs": [],
   "source": [
    "cost_arr=[]\n",
    "params_arr=[]\n",
    "cost_arr_opt=[]\n",
    "params_arr_opt=[]"
   ]
  },
  {
   "cell_type": "code",
   "execution_count": 35,
   "id": "3432d85a",
   "metadata": {},
   "outputs": [],
   "source": [
    "def optimization2(params,st):\n",
    "    dev = qml.device(\"default.qubit.autograd\", wires=3)\n",
    "\n",
    "    opt = qml.AdagradOptimizer(stepsize=st)\n",
    "    \n",
    "    \n",
    "    for i in range(200+1):\n",
    "        params = opt.step(cost1, params)\n",
    "        cost_arr.append(cost1(params))\n",
    "        params_arr.append(params)\n",
    "        if i % 10 == 0:\n",
    "            print(f\"Cost at step {i}:\", cost1(params))\n",
    "            \n",
    "            print(f\"fidelity of natural dynamics with actual toffoli{i}:\",Fidelity(hamiltonian_matrix(params*3),U))\n",
    "            \n",
    "    if cost1(params)>0.001:\n",
    "        params=np.random.random(14)\n",
    "    if Fidelity(hamiltonian_matrix(params*3),U)<0.997:\n",
    "        st=np.random.uniform(0.01,0.2)\n",
    "        optimization2(params,st)\n",
    "        \n",
    "    else:\n",
    "        \n",
    "        \n",
    "        for i in range(0,10+1,1):\n",
    "            print(f\"Cost at step {i*10}:\", cost1(params_arr[len(cost_arr)-11+i]))\n",
    "            cost_arr_opt.append(cost1(params_arr[len(cost_arr)-11+i]))\n",
    "            params_arr_opt.append(params_arr[len(cost_arr)-11+i])\n",
    "            \n",
    "    return params_arr_opt,st"
   ]
  },
  {
   "cell_type": "code",
   "execution_count": 36,
   "id": "fbff8917",
   "metadata": {
    "scrolled": true
   },
   "outputs": [
    {
     "name": "stdout",
     "output_type": "stream",
     "text": [
      "Cost at step 0: 0.4911750696008489\n",
      "fidelity of natural dynamics with actual toffoli0: 0.7096534467307274\n",
      "Cost at step 10: 0.0008935430618675078\n",
      "fidelity of natural dynamics with actual toffoli10: 0.9981772785635705\n",
      "Cost at step 20: 0.00011794410732268723\n",
      "fidelity of natural dynamics with actual toffoli20: 0.9992170573192987\n",
      "Cost at step 30: 9.41849398744532e-05\n",
      "fidelity of natural dynamics with actual toffoli30: 0.9993431445462573\n",
      "Cost at step 40: 9.363948702156843e-05\n",
      "fidelity of natural dynamics with actual toffoli40: 0.9993606597829766\n",
      "Cost at step 50: 9.362704961390911e-05\n",
      "fidelity of natural dynamics with actual toffoli50: 0.9993632682101481\n",
      "Cost at step 60: 9.36267660588408e-05\n",
      "fidelity of natural dynamics with actual toffoli60: 0.9993636612327351\n",
      "Cost at step 70: 9.362675959345701e-05\n",
      "fidelity of natural dynamics with actual toffoli70: 0.9993637205572073\n",
      "Cost at step 80: 9.362675944313281e-05\n",
      "fidelity of natural dynamics with actual toffoli80: 0.9993637295143175\n",
      "Cost at step 90: 9.362675944046828e-05\n",
      "fidelity of natural dynamics with actual toffoli90: 0.9993637308667627\n",
      "Cost at step 100: 9.362675944246668e-05\n",
      "fidelity of natural dynamics with actual toffoli100: 0.9993637310709714\n",
      "Cost at step 110: 9.362675944024623e-05\n",
      "fidelity of natural dynamics with actual toffoli110: 0.9993637311018051\n",
      "Cost at step 120: 9.362675944113441e-05\n",
      "fidelity of natural dynamics with actual toffoli120: 0.9993637311064608\n",
      "Cost at step 130: 9.36267594415785e-05\n",
      "fidelity of natural dynamics with actual toffoli130: 0.9993637311071635\n",
      "Cost at step 140: 9.362675943869192e-05\n",
      "fidelity of natural dynamics with actual toffoli140: 0.9993637311072703\n",
      "Cost at step 150: 9.362675944113441e-05\n",
      "fidelity of natural dynamics with actual toffoli150: 0.9993637311072858\n",
      "Cost at step 160: 9.362675944024623e-05\n",
      "fidelity of natural dynamics with actual toffoli160: 0.9993637311072886\n",
      "Cost at step 170: 9.362675944002419e-05\n",
      "fidelity of natural dynamics with actual toffoli170: 0.9993637311072888\n",
      "Cost at step 180: 9.36267594395801e-05\n",
      "fidelity of natural dynamics with actual toffoli180: 0.999363731107289\n",
      "Cost at step 190: 9.362675943869192e-05\n",
      "fidelity of natural dynamics with actual toffoli190: 0.9993637311072892\n",
      "Cost at step 200: 9.362675943913601e-05\n",
      "fidelity of natural dynamics with actual toffoli200: 0.9993637311072889\n",
      "Cost at step 0: 9.362675943869192e-05\n",
      "Cost at step 10: 9.362675944113441e-05\n",
      "Cost at step 20: 9.362675943891396e-05\n",
      "Cost at step 30: 9.362675944069032e-05\n",
      "Cost at step 40: 9.362675943935805e-05\n",
      "Cost at step 50: 9.362675944091237e-05\n",
      "Cost at step 60: 9.362675943891396e-05\n",
      "Cost at step 70: 9.362675944024623e-05\n",
      "Cost at step 80: 9.36267594395801e-05\n",
      "Cost at step 90: 9.362675943935805e-05\n",
      "Cost at step 100: 9.362675943913601e-05\n"
     ]
    },
    {
     "data": {
      "text/plain": [
       "([tensor([-0.26171905,  0.26171905,  0.26171905,  0.65449847,  0.51577568,\n",
       "           1.03475037,  1.03475037,  0.51577568,  0.31136971,  0.85875153,\n",
       "           0.93465599,  0.71024208,  0.05872529,  0.27780705], requires_grad=True),\n",
       "  tensor([-0.26171905,  0.26171905,  0.26171905,  0.65449847,  0.51577568,\n",
       "           1.03475037,  1.03475037,  0.51577568,  0.31136971,  0.85875153,\n",
       "           0.93465599,  0.71024208,  0.05872529,  0.27780705], requires_grad=True),\n",
       "  tensor([-0.26171905,  0.26171905,  0.26171905,  0.65449847,  0.51577568,\n",
       "           1.03475037,  1.03475037,  0.51577568,  0.31136971,  0.85875153,\n",
       "           0.93465599,  0.71024208,  0.05872529,  0.27780705], requires_grad=True),\n",
       "  tensor([-0.26171905,  0.26171905,  0.26171905,  0.65449847,  0.51577568,\n",
       "           1.03475037,  1.03475037,  0.51577568,  0.31136971,  0.85875153,\n",
       "           0.93465599,  0.71024208,  0.05872529,  0.27780705], requires_grad=True),\n",
       "  tensor([-0.26171905,  0.26171905,  0.26171905,  0.65449847,  0.51577568,\n",
       "           1.03475037,  1.03475037,  0.51577568,  0.31136971,  0.85875153,\n",
       "           0.93465599,  0.71024208,  0.05872529,  0.27780705], requires_grad=True),\n",
       "  tensor([-0.26171905,  0.26171905,  0.26171905,  0.65449847,  0.51577568,\n",
       "           1.03475037,  1.03475037,  0.51577568,  0.31136971,  0.85875153,\n",
       "           0.93465599,  0.71024208,  0.05872529,  0.27780705], requires_grad=True),\n",
       "  tensor([-0.26171905,  0.26171905,  0.26171905,  0.65449847,  0.51577568,\n",
       "           1.03475037,  1.03475037,  0.51577568,  0.31136971,  0.85875153,\n",
       "           0.93465599,  0.71024208,  0.05872529,  0.27780705], requires_grad=True),\n",
       "  tensor([-0.26171905,  0.26171905,  0.26171905,  0.65449847,  0.51577568,\n",
       "           1.03475037,  1.03475037,  0.51577568,  0.31136971,  0.85875153,\n",
       "           0.93465599,  0.71024208,  0.05872529,  0.27780705], requires_grad=True),\n",
       "  tensor([-0.26171905,  0.26171905,  0.26171905,  0.65449847,  0.51577568,\n",
       "           1.03475037,  1.03475037,  0.51577568,  0.31136971,  0.85875153,\n",
       "           0.93465599,  0.71024208,  0.05872529,  0.27780705], requires_grad=True),\n",
       "  tensor([-0.26171905,  0.26171905,  0.26171905,  0.65449847,  0.51577568,\n",
       "           1.03475037,  1.03475037,  0.51577568,  0.31136971,  0.85875153,\n",
       "           0.93465599,  0.71024208,  0.05872529,  0.27780705], requires_grad=True),\n",
       "  tensor([-0.26171905,  0.26171905,  0.26171905,  0.65449847,  0.51577568,\n",
       "           1.03475037,  1.03475037,  0.51577568,  0.31136971,  0.85875153,\n",
       "           0.93465599,  0.71024208,  0.05872529,  0.27780705], requires_grad=True)],\n",
       " 0.1)"
      ]
     },
     "execution_count": 36,
     "metadata": {},
     "output_type": "execute_result"
    }
   ],
   "source": [
    "optimization2(params,0.1) # st=learning rate==stepsize"
   ]
  },
  {
   "cell_type": "code",
   "execution_count": 38,
   "id": "b63ac8f3",
   "metadata": {},
   "outputs": [
    {
     "data": {
      "text/plain": [
       "201"
      ]
     },
     "execution_count": 38,
     "metadata": {},
     "output_type": "execute_result"
    }
   ],
   "source": [
    "len(cost_arr)"
   ]
  },
  {
   "cell_type": "code",
   "execution_count": 37,
   "id": "7e82d53a",
   "metadata": {},
   "outputs": [
    {
     "data": {
      "image/png": "[encoded data removed]",
      "text/plain": [
       "<Figure size 576x396 with 1 Axes>"
      ]
     },
     "metadata": {},
     "output_type": "display_data"
    }
   ],
   "source": [
    "x=np.linspace(0,200,len(cost_arr))\n",
    "y=cost_arr\n",
    "plt.plot(x,y,\"black\",label=\"cost value\")\n",
    "plt.title(\"Cost vs time step using Adagrad Optimizer\", fontsize=18)\n",
    "plt.ylabel(\"Cost\", fontsize=18)\n",
    "plt.xlabel(\" time step with a particular set of updates parameters\", fontsize=18)\n",
    "plt.tick_params(axis=\"both\", which=\"major\", labelsize=16)   # helps to increase the size of the values in X and Y axis\n",
    "plt.tick_params(axis=\"both\", which=\"minor\", labelsize=16)\n",
    "plt.legend()\n",
    "plt.show()"
   ]
  },
  {
   "cell_type": "code",
   "execution_count": null,
   "id": "201dd3cb",
   "metadata": {},
   "outputs": [],
   "source": [
    "x=np.linspace(0,200,len(cost_arr))\n",
    "y=paramsarr\n",
    "plt.plot(x,y)\n",
    "plt.ylabel(\"values of the Parameter\", fontsize=18)\n",
    "plt.xlabel(\"At time step\", fontsize=18)\n",
    "plt.title(\"Evolution of the parameters using AdagradOptimizer\", fontsize=18)\n",
    "plt.tick_params(axis=\"both\", which=\"major\", labelsize=16)   # helps to increase the size of the values in X and Y axis\n",
    "plt.tick_params(axis=\"both\", which=\"minor\", labelsize=16)\n",
    "plt.legend()\n",
    "plt.show()"
   ]
  },
  {
   "cell_type": "code",
   "execution_count": 25,
   "id": "a0dcb981",
   "metadata": {},
   "outputs": [
    {
     "name": "stdout",
     "output_type": "stream",
     "text": [
      "No of commuting terms 20\n",
      "No of anti-commuting terms 8\n"
     ]
    }
   ],
   "source": [
    "H=[np.kron(np.kron(Z,Z),I),np.kron(np.kron(Z,I),I),\n",
    "   np.kron(np.kron(I,Z),I),np.kron(np.kron(I,I),X),np.kron(np.kron(I,X),I),np.kron(np.kron(X,I),I),\n",
    "   np.kron(np.kron(X,I),X),np.kron(np.kron(I,X),X)]\n",
    "\n",
    "print(\"No of commuting terms\",len(ham_grouping(H)[0]))\n",
    "print(\"No of anti-commuting terms\",len(ham_grouping(H)[1]))"
   ]
  },
  {
   "cell_type": "code",
   "execution_count": 26,
   "id": "4e903e39",
   "metadata": {},
   "outputs": [],
   "source": [
    "def hamiltonian_matrix(params):\n",
    "    l=params\n",
    "    H=  l[0]*np.kron(np.kron(Z,Z),I) + l[1]*np.kron(np.kron(Z,I),I) + \\\n",
    "        l[2]*np.kron(np.kron(I,Z),I) + l[3]*np.kron(np.kron(I,I),X) + \\\n",
    "        l[4]*np.kron(np.kron(I,X),I) + l[5]*np.kron(np.kron(X,I),I) + l[6]*np.kron(np.kron(X,I),X) + \\\n",
    "       l[7]*np.kron(np.kron(I,X),X)\n",
    "    \n",
    "    return expm(-1j*H)"
   ]
  },
  {
   "cell_type": "code",
   "execution_count": 27,
   "id": "906dfdcb",
   "metadata": {},
   "outputs": [],
   "source": [
    "# Function to find the fidelity between two unitaries\n",
    "def Fidelity(rho1,rho2):\n",
    "    if rho1.shape!=rho2.shape:\n",
    "        raise ValueError(\"Dimension of both matrices must be same\")\n",
    "    return (np.abs(np.trace(np.dot(np.transpose(np.conj(rho1)),rho2)))/len(rho1))"
   ]
  },
  {
   "cell_type": "code",
   "execution_count": 276,
   "id": "09959abe",
   "metadata": {},
   "outputs": [],
   "source": [
    "opt_par=np.array([ 0.78539816,  2.3547277 , -0.78393137,  2.74889357,\n",
    "        3.10517936,  1.08810061,  1.08810061,  3.10517936])"
   ]
  },
  {
   "cell_type": "code",
   "execution_count": 317,
   "id": "3804c447",
   "metadata": {},
   "outputs": [
    {
     "data": {
      "text/plain": [
       "0.999363731107289"
      ]
     },
     "execution_count": 317,
     "metadata": {},
     "output_type": "execute_result"
    }
   ],
   "source": [
    "Fidelity(hamiltonian_matrix(params_arr[len(params_arr)-1]*3),U)"
   ]
  },
  {
   "cell_type": "code",
   "execution_count": 313,
   "id": "c5dd3afd",
   "metadata": {},
   "outputs": [
    {
     "name": "stdout",
     "output_type": "stream",
     "text": [
      "cost:- 9.362675944024623e-05\n",
      "optimal parameters [-0.78515716  0.78515716  0.78515716  1.96349541  1.54732704  3.1042511\n",
      "  3.1042511   1.54732704  0.93410913  2.57625459  2.80396796  2.13072625\n",
      "  0.17617587  0.83342116]\n"
     ]
    }
   ],
   "source": [
    "print(\"cost:-\",cost1(params_arr[len(params_arr)-1]))\n",
    "#params_arr[len(params_arr)-18]\n",
    "print(\"optimal parameters\",params_arr[len(params_arr)-1]*3)"
   ]
  },
  {
   "cell_type": "code",
   "execution_count": 315,
   "id": "15181f0a",
   "metadata": {},
   "outputs": [
    {
     "name": "stdout",
     "output_type": "stream",
     "text": [
      "Fidelity between the actual Toffoli and the optimized Toffoli 0.999363731107289\n",
      "The exact e^(-iHt) using optimal parameters obtained from the quantum circuit \n",
      " [[ 0.38529875+0.92227374j  0.00283798-0.00169799j  0.00850577-0.00310429j\n",
      "   0.00850577-0.00310429j  0.01475026-0.00595103j  0.01475026-0.00595103j\n",
      "  -0.01100106+0.0040677j  -0.01100106+0.0040677j ]\n",
      " [ 0.00283798-0.00169799j  0.38529875+0.92227374j  0.00850577-0.00310429j\n",
      "   0.00850577-0.00310429j  0.01475026-0.00595103j  0.01475026-0.00595103j\n",
      "  -0.01100106+0.0040677j  -0.01100106+0.0040677j ]\n",
      " [ 0.00850577-0.00310429j  0.00850577-0.00310429j  0.38451997+0.9223669j\n",
      "   0.0020592 -0.00160483j -0.01061287+0.00402126j -0.01061287+0.00402126j\n",
      "   0.0203325 -0.0080151j   0.0203325 -0.0080151j ]\n",
      " [ 0.00850577-0.00310429j  0.00850577-0.00310429j  0.0020592 -0.00160483j\n",
      "   0.38451997+0.9223669j  -0.01061287+0.00402126j -0.01061287+0.00402126j\n",
      "   0.0203325 -0.0080151j   0.0203325 -0.0080151j ]\n",
      " [ 0.01475026-0.00595103j  0.01475026-0.00595103j -0.01061287+0.00402126j\n",
      "  -0.01061287+0.00402126j  0.38510526+0.92229689j  0.00264449-0.00167484j\n",
      "   0.01128826-0.00413313j  0.01128826-0.00413313j]\n",
      " [ 0.01475026-0.00595103j  0.01475026-0.00595103j -0.01061287+0.00402126j\n",
      "  -0.01061287+0.00402126j  0.00264449-0.00167484j  0.38510526+0.92229689j\n",
      "   0.01128826-0.00413313j  0.01128826-0.00413313j]\n",
      " [-0.01100106+0.0040677j  -0.01100106+0.0040677j   0.0203325 -0.0080151j\n",
      "   0.0203325 -0.0080151j   0.01128826-0.00413313j  0.01128826-0.00413313j\n",
      "  -0.00847795+0.00261109j  0.37487334+0.9262137j ]\n",
      " [-0.01100106+0.0040677j  -0.01100106+0.0040677j   0.0203325 -0.0080151j\n",
      "   0.0203325 -0.0080151j   0.01128826-0.00413313j  0.01128826-0.00413313j\n",
      "   0.37487334+0.9262137j  -0.00847795+0.00261109j]]\n"
     ]
    }
   ],
   "source": [
    "rho1=hamiltonian_matrix(params_arr[len(params_arr)-1]*3)\n",
    "\n",
    "'''\n",
    "hamiltonian_matrix([ 14.70680597,  2.93760421,  1.50054604,  1.6154871 ,  3.10889122,\n",
    "        3.09924546,  9.02167293,  1.88011837,  2.1182022 ,  1.50551024,\n",
    "       -0.13108176, -0.16354886, -0.1107321 , -0.2536832]) gives fidelity 0.989< 0.998\n",
    "        \n",
    "'''\n",
    "'''      \n",
    "    hamiltonian_matrix([4.79193262e-01, -3.29973536e-27,  1.80393235e-23,\n",
    "        -2.30258500e-27,  7.12584165e-02,  7.12584165e-02,\n",
    "         7.85398163e-01,  2.35472770e+00, -7.83931374e-01,\n",
    "         2.74889357e+00,  3.10517936e+00,  1.08810061e+00,\n",
    "         1.08810061e+00,  3.10517936e+00]) #=result=optimized parameters Gives fidelity=0.999\n",
    "'''\n",
    "rho2=U\n",
    "print(\"Fidelity between the actual Toffoli and the optimized Toffoli\",Fidelity(rho2,(rho1)))\n",
    "#print((rho1))\n",
    "print(\"The exact e^(-iHt) using optimal parameters obtained from the quantum circuit \\n\",(rho1))"
   ]
  },
  {
   "cell_type": "code",
   "execution_count": 331,
   "id": "bf949526",
   "metadata": {},
   "outputs": [
    {
     "data": {
      "text/plain": [
       "[0.31983658453281494,\n",
       " 0.08175799473919221,\n",
       " 0.08171836662479048,\n",
       " 0.08171835664818705,\n",
       " 0.08171835664090366,\n",
       " 0.08171835664083449,\n",
       " 0.08171835664083471,\n",
       " 0.08171835664083471,\n",
       " 0.08171835664083416,\n",
       " 0.08171835664083471,\n",
       " 0.08171835664083349,\n",
       " 0.08171835664083116,\n",
       " 0.08171835664083116,\n",
       " 0.08171835664083194,\n",
       " 0.08171835664083194,\n",
       " 0.0817183566408316,\n",
       " 0.0817183566408316,\n",
       " 0.0817183566408316,\n",
       " 0.0817183566408316,\n",
       " 0.08171835664083194,\n",
       " 0.0817183566408316,\n",
       " 0.8377226310983352,\n",
       " 0.09496348683829925,\n",
       " 0.09165254105832132,\n",
       " 0.09156758860950553,\n",
       " 0.09156571221484211,\n",
       " 0.09156567093602319,\n",
       " 0.09156567002794547,\n",
       " 0.09156567000796756,\n",
       " 0.09156567000752847,\n",
       " 0.09156567000752192,\n",
       " 0.09156567000751725,\n",
       " 0.09156567000751803,\n",
       " 0.09156567000751914,\n",
       " 0.09156567000751781,\n",
       " 0.09156567000751825,\n",
       " 0.09156567000751892,\n",
       " 0.09156567000751892,\n",
       " 0.09156567000751781,\n",
       " 0.09156567000751914,\n",
       " 0.09156567000751825,\n",
       " 0.0915656700075198,\n",
       " 0.6941018216520622,\n",
       " 0.0006169500545315509,\n",
       " 0.0001225244967224537,\n",
       " 9.471031591901102e-05,\n",
       " 9.366675878530462e-05,\n",
       " 9.362823515446372e-05,\n",
       " 9.362681388258576e-05,\n",
       " 9.362676144963888e-05,\n",
       " 9.362675951418709e-05,\n",
       " 9.362675944313281e-05,\n",
       " 9.362675944024623e-05,\n",
       " 9.362675944091237e-05,\n",
       " 9.362675943891396e-05,\n",
       " 9.362675944024623e-05,\n",
       " 9.362675944180054e-05,\n",
       " 9.362675944202259e-05,\n",
       " 9.362675944069032e-05,\n",
       " 9.362675944180054e-05,\n",
       " 9.362675944002419e-05,\n",
       " 9.362675944091237e-05,\n",
       " 9.362675944024623e-05]"
      ]
     },
     "execution_count": 331,
     "metadata": {},
     "output_type": "execute_result"
    }
   ],
   "source": [
    "cost_arr"
   ]
  },
  {
   "cell_type": "code",
   "execution_count": 330,
   "id": "1fe1dbf0",
   "metadata": {},
   "outputs": [
    {
     "data": {
      "text/plain": [
       "0.31983658453281494"
      ]
     },
     "execution_count": 330,
     "metadata": {},
     "output_type": "execute_result"
    }
   ],
   "source": [
    "cost_arr[0] # initial value at 1st epoch"
   ]
  },
  {
   "cell_type": "code",
   "execution_count": 338,
   "id": "4479566b",
   "metadata": {},
   "outputs": [
    {
     "data": {
      "text/plain": [
       "tensor([0.29188592, 0.7163197 , 0.69069602, 0.85306003, 0.3494891 ,\n",
       "        0.28846414, 0.60966213, 0.30795168, 0.67857546, 0.83198497], requires_grad=True)"
      ]
     },
     "execution_count": 338,
     "metadata": {},
     "output_type": "execute_result"
    }
   ],
   "source": [
    "params_arr[0]"
   ]
  },
  {
   "cell_type": "code",
   "execution_count": 332,
   "id": "ad0151aa",
   "metadata": {},
   "outputs": [
    {
     "data": {
      "text/plain": [
       "0.8377226310983352"
      ]
     },
     "execution_count": 332,
     "metadata": {},
     "output_type": "execute_result"
    }
   ],
   "source": [
    "cost_arr[21] # initial value at 2nd epoch"
   ]
  },
  {
   "cell_type": "code",
   "execution_count": 339,
   "id": "cf270b3b",
   "metadata": {},
   "outputs": [
    {
     "data": {
      "text/plain": [
       "tensor([ 0.12526996,  0.96921227,  0.63007378, -0.04850227,  0.75025811,\n",
       "         0.83928215,  1.02698269,  0.78034692,  0.08723125,  0.54601563,\n",
       "         0.8943987 ,  0.13124939,  0.57588645,  0.11552289], requires_grad=True)"
      ]
     },
     "execution_count": 339,
     "metadata": {},
     "output_type": "execute_result"
    }
   ],
   "source": [
    "params_arr[21]"
   ]
  },
  {
   "cell_type": "code",
   "execution_count": 334,
   "id": "7a8baee5",
   "metadata": {},
   "outputs": [
    {
     "data": {
      "text/plain": [
       "0.6941018216520622"
      ]
     },
     "execution_count": 334,
     "metadata": {},
     "output_type": "execute_result"
    }
   ],
   "source": [
    "cost_arr[42] # initial value at 3rd epoch"
   ]
  },
  {
   "cell_type": "code",
   "execution_count": 340,
   "id": "7f30a8a3",
   "metadata": {},
   "outputs": [
    {
     "data": {
      "text/plain": [
       "tensor([ 0.00148046,  0.53702133, -0.06340707,  0.6037491 ,  0.528633  ,\n",
       "         1.03121218,  0.86660951,  0.49076635,  0.31136971,  0.85875153,\n",
       "         0.93465599,  0.71024208,  0.05872529,  0.27780705], requires_grad=True)"
      ]
     },
     "execution_count": 340,
     "metadata": {},
     "output_type": "execute_result"
    }
   ],
   "source": [
    "params_arr[42]"
   ]
  },
  {
   "cell_type": "code",
   "execution_count": 343,
   "id": "b5d26c76",
   "metadata": {},
   "outputs": [
    {
     "data": {
      "text/plain": [
       "0.6941018216520622"
      ]
     },
     "execution_count": 343,
     "metadata": {},
     "output_type": "execute_result"
    }
   ],
   "source": [
    "cost1(params_arr[42])"
   ]
  },
  {
   "cell_type": "code",
   "execution_count": 344,
   "id": "e42623c8",
   "metadata": {},
   "outputs": [
    {
     "data": {
      "text/plain": [
       "9.362675944024623e-05"
      ]
     },
     "execution_count": 344,
     "metadata": {},
     "output_type": "execute_result"
    }
   ],
   "source": [
    "cost3(params_arr[len(params_arr)-1])"
   ]
  },
  {
   "cell_type": "code",
   "execution_count": 321,
   "id": "ab58fc48",
   "metadata": {},
   "outputs": [
    {
     "data": {
      "text/plain": [
       "{'gate_sizes': defaultdict(int, {3: 1, 2: 36, 1: 96}),\n",
       " 'gate_types': defaultdict(int,\n",
       "             {'BasisState': 1,\n",
       "              'CNOT': 36,\n",
       "              'RZ': 30,\n",
       "              'RX': 18,\n",
       "              'Hadamard': 48}),\n",
       " 'num_operations': 133,\n",
       " 'num_observables': 1,\n",
       " 'num_diagonalizing_gates': 0,\n",
       " 'num_used_wires': 3,\n",
       " 'depth': 91,\n",
       " 'num_trainable_params': 49,\n",
       " 'num_device_wires': 3,\n",
       " 'device_name': 'default.qubit.autograd',\n",
       " 'expansion_strategy': 'gradient',\n",
       " 'gradient_options': {},\n",
       " 'interface': 'autograd',\n",
       " 'diff_method': 'best',\n",
       " 'gradient_fn': 'backprop'}"
      ]
     },
     "execution_count": 321,
     "metadata": {},
     "output_type": "execute_result"
    }
   ],
   "source": [
    "specs_func = qml.specs(circuit)\n",
    "specs_func(opt_par,state_vector[0])"
   ]
  },
  {
   "cell_type": "code",
   "execution_count": 329,
   "id": "ea45d534",
   "metadata": {},
   "outputs": [
    {
     "name": "stdout",
     "output_type": "stream",
     "text": [
      "cost:- 9.362675944024623e-05\n",
      "optimal parameters [-0.78515716  0.78515716  0.78515716  1.96349541  1.54732704  3.1042511\n",
      "  3.1042511   1.54732704  0.93410913  2.57625459  2.80396796  2.13072625\n",
      "  0.17617587  0.83342116]\n"
     ]
    }
   ],
   "source": [
    "print(\"cost:-\",cost1(params_arr[len(params_arr)-1]))\n",
    "#params_arr[len(params_arr)-18]\n",
    "print(\"optimal parameters\",params_arr[len(params_arr)-1]*3)"
   ]
  },
  {
   "cell_type": "code",
   "execution_count": 342,
   "id": "c96b9e43",
   "metadata": {},
   "outputs": [
    {
     "data": {
      "text/plain": [
       "tensor([-0.78515716,  0.78515716,  0.78515716,  1.96349541,  1.54732704,\n",
       "         3.1042511 ,  3.1042511 ,  1.54732704,  0.93410913,  2.57625459,\n",
       "         2.80396796,  2.13072625,  0.17617587,  0.83342116], requires_grad=True)"
      ]
     },
     "execution_count": 342,
     "metadata": {},
     "output_type": "execute_result"
    }
   ],
   "source": [
    "params_arr[len(params_arr)-1]*3"
   ]
  },
  {
   "cell_type": "code",
   "execution_count": null,
   "id": "523823e8",
   "metadata": {},
   "outputs": [],
   "source": []
  }
 ],
 "metadata": {
  "kernelspec": {
   "display_name": "Python 3 (ipykernel)",
   "language": "python",
   "name": "python3"
  },
  "language_info": {
   "codemirror_mode": {
    "name": "ipython",
    "version": 3
   },
   "file_extension": ".py",
   "mimetype": "text/x-python",
   "name": "python",
   "nbconvert_exporter": "python",
   "pygments_lexer": "ipython3",
   "version": "3.9.12"
  }
 },
 "nbformat": 4,
 "nbformat_minor": 5
}
