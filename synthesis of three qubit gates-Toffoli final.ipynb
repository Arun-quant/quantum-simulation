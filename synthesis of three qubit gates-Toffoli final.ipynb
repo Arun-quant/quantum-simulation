{
 "cells": [
  {
   "cell_type": "code",
   "execution_count": null,
   "metadata": {},
   "outputs": [],
   "source": [
    "# Toffoli"
   ]
  },
  {
   "cell_type": "code",
   "execution_count": 1,
   "metadata": {},
   "outputs": [],
   "source": [
    "from pennylane import numpy as np\n",
    "import pennylane as qml\n",
    "from matplotlib import pyplot as plt\n",
    "import networkx as nx"
   ]
  },
  {
   "cell_type": "code",
   "execution_count": 5,
   "metadata": {},
   "outputs": [
    {
     "name": "stdout",
     "output_type": "stream",
     "text": [
      "[[1 0 0 0 0 0 0 0]\n",
      " [0 1 0 0 0 0 0 0]\n",
      " [0 0 1 0 0 0 0 0]\n",
      " [0 0 0 1 0 0 0 0]\n",
      " [0 0 0 0 1 0 0 0]\n",
      " [0 0 0 0 0 1 0 0]\n",
      " [0 0 0 0 0 0 0 1]\n",
      " [0 0 0 0 0 0 1 0]]\n"
     ]
    }
   ],
   "source": [
    "# matrix representation of toffoli gate\n",
    "U = np.array([[1,0,0,0,0,0,0,0],[0,1,0,0,0,0,0,0],[0,0,1,0,0,0,0,0],[0,0,0,1,0,0,0,0],[0,0,0,0,1,0,0,0],[0,0,0,0,0,1,0,0],\n",
    "                  [0,0,0,0,0,0,0,1],[0,0,0,0,0,0,1,0]])\n",
    "\n",
    "\n",
    "#@qml.qnode(dev)\n",
    "#def U_actual():\n",
    "#    qml.QubitUnitary(U,wires=[0,1,2])\n",
    "#    return qml.state()\n",
    "q=qml.QubitUnitary(U,wires=[0,1,2])\n",
    "print(U)\n"
   ]
  },
  {
   "cell_type": "code",
   "execution_count": 3,
   "metadata": {},
   "outputs": [],
   "source": [
    "dev = qml.device(\"default.qubit.autograd\", wires=3)\n",
    "\n",
    "\n",
    "#@qml.qnode(dev)\n",
    "def ansatz(params):\n",
    "    l=params*0.5\n",
    "    \n",
    "    qml.CNOT(wires=[0,1])\n",
    "    qml.RZ(l[0],wires=1)\n",
    "    qml.CNOT(wires=[0,1])\n",
    "\n",
    "    # circuit for local ham H=I⊗Z⊗Z\n",
    "    qml.CNOT(wires=[1,2])\n",
    "    qml.RZ(l[1],wires=2)\n",
    "    qml.CNOT(wires=[1,2])\n",
    "    \n",
    "    \n",
    "   \n",
    "    # single qubit gates\n",
    "    \n",
    "    # circuit for local ham H=I⊗I⊗Z+I⊗I⊗X+I⊗I⊗Y\n",
    "    \n",
    "    qml.Hadamard(wires=2)\n",
    "    qml.RZ(l[2],wires=2)\n",
    "    qml.Hadamard(wires=2)\n",
    "    \n",
    "    # circuit for local ham H=I⊗Z⊗I+I⊗X⊗I+I⊗Y⊗I\n",
    "    #qml.Identity(wires=0) \n",
    "    qml.RZ(l[3],wires=1)\n",
    "   \n",
    "    # circuit for local ham H=Z⊗I⊗I+X⊗I⊗I+Y⊗I⊗I\n",
    "    qml.RZ(l[4],wires=0)\n",
    "  \n",
    "    #H=I⊗Z⊗ X\n",
    "    qml.Hadamard(wires=2)\n",
    "    qml.CNOT(wires=[1,2])\n",
    "    qml.RZ(l[5],wires=2)\n",
    "    qml.CNOT(wires=[1,2])\n",
    "    qml.Hadamard(wires=2)\n",
    "    \n",
    "    \n",
    "    # circuit for local ham H=Z⊗I⊗X\n",
    "    qml.Hadamard(wires=2)\n",
    "    qml.CNOT(wires=[0,2])\n",
    "    qml.RZ(l[6],wires=2)\n",
    "    qml.CNOT(wires=[0,2])\n",
    "    qml.Hadamard(wires=2)\n",
    "    \n",
    "    # circuit for local ham H=Z⊗I⊗X\n",
    "    qml.CNOT(wires=[0,2])\n",
    "    qml.RZ(l[7],wires=2)\n",
    "    qml.CNOT(wires=[0,2])\n",
    "    \n",
    "    # important: more 2 qubit interations to be added....   \n",
    "\n",
    "    '''\n",
    "    # circuit for local ham H=I⊗X⊗X\n",
    "    [qml.Hadamard(wires=i) for i in range(1,3)]\n",
    "    qml.CNOT(wires=[1,2])\n",
    "    qml.RZ(l[8],wires=2)\n",
    "    qml.CNOT(wires=[1,2])\n",
    "    [qml.Hadamard(wires=i) for i in range(1,3)]\n",
    "\n",
    "    # circuit for local ham H=X⊗X⊗I  \n",
    "    [qml.Hadamard(wires=i) for i in range(0,2)]\n",
    "    qml.CNOT(wires=[0,1])\n",
    "    qml.RZ(l[9],wires=1)\n",
    "    qml.CNOT(wires=[0,1])\n",
    "    [qml.Hadamard(wires=i) for i in range(0,2)]\n",
    " \n",
    "    # circuit for local ham H=Y⊗Y⊗I  \n",
    "    [qml.RX(np.pi/2,wires=i) for i in range(0,1)]\n",
    "    qml.CNOT(wires=[0,1])\n",
    "    qml.RZ(l[10],wires=1)\n",
    "    qml.CNOT(wires=[0,1])\n",
    "    [qml.RX(-np.pi/2,wires=i) for i in range(0,1)]\n",
    "\n",
    "    # circuit for local ham H=I⊗Y⊗Y\n",
    "    [qml.RX(np.pi/2,wires=i) for i in range(1,3)]\n",
    "    qml.CNOT(wires=[1,2])\n",
    "    qml.RZ(l[11],wires=2)\n",
    "    qml.CNOT(wires=[1,2])\n",
    "    [qml.RX(-np.pi/2,wires=i) for i in range(1,3)]\n",
    "\n",
    "    qml.RZ(l[12],wires=2)\n",
    "\n",
    "\n",
    "    qml.RX(l[13],wires=1)\n",
    "    \n",
    "    qml.RY(l[14],wires=1)\n",
    " \n",
    "    qml.RX(l[15],wires=0)\n",
    "    \n",
    "    qml.RY(l[16],wires=0)\n",
    "    #H=Z⊗ X ⊗ I\n",
    "    qml.Hadamard(wires=1)\n",
    "    qml.CNOT(wires=[0,1])\n",
    "    qml.RZ(l[17],wires=1)\n",
    "    qml.CNOT(wires=[0,1])\n",
    "    qml.Hadamard(wires=1)\n",
    "\n",
    "    #H=X⊗Z⊗ I\n",
    "    qml.Hadamard(wires=0)\n",
    "    qml.CNOT(wires=[0,1])\n",
    "    qml.RZ(l[18],wires=1)\n",
    "    qml.CNOT(wires=[0,1])\n",
    "    qml.Hadamard(wires=0)\n",
    "    \n",
    "    #H=I⊗X⊗ Z\n",
    "    qml.Hadamard(wires=1)\n",
    "    qml.CNOT(wires=[1,2])\n",
    "    qml.RZ(l[19],wires=2)\n",
    "    qml.CNOT(wires=[1,2])\n",
    "    qml.Hadamard(wires=1)\n",
    "    \n",
    "      #H=I⊗X⊗ y\n",
    "    qml.Hadamard(wires=1)\n",
    "    qml.RX(np.pi/2,wires=2)\n",
    "    qml.CNOT(wires=[1,2])\n",
    "    qml.RZ(2*l[20],wires=2)\n",
    "    qml.CNOT(wires=[1,2])\n",
    "    qml.Hadamard(wires=1)\n",
    "    qml.RX(-np.pi/2,wires=2)\n",
    "    \n",
    "    #H=X⊗ y⊗I\n",
    "    qml.Hadamard(wires=0)\n",
    "    qml.RX(np.pi/2,wires=1)\n",
    "    qml.CNOT(wires=[0,1])\n",
    "    qml.RZ(2*l[21],wires=1)\n",
    "    qml.CNOT(wires=[0,1])\n",
    "    qml.Hadamard(wires=0)\n",
    "    qml.RX(-np.pi/2,wires=1)\n",
    "    '''\n"
   ]
  },
  {
   "cell_type": "code",
   "execution_count": 4,
   "metadata": {},
   "outputs": [],
   "source": [
    "# ZGR ansatz\n",
    "def ansatz2(l):\n",
    "    qml.RY(l[0],wires=0)\n",
    "    qml.CNOT(wires=[0,1])\n",
    "    qml.RY(l[1],wires=1)\n",
    "    qml.CNOT(wires=[0,1])\n",
    "    qml.RY(l[2],wires=1)\n",
    "    qml.CNOT(wires=[0,2])\n",
    "    qml.RY(l[3],wires=2)\n",
    "    qml.CNOT(wires=[1,2])\n",
    "    qml.RY(l[4],wires=2)\n",
    "    qml.CNOT(wires=[0,2])\n",
    "    qml.RY(l[5],wires=2)\n",
    "    qml.CNOT(wires=[1,2])\n",
    "    qml.RY(l[6],wires=2)"
   ]
  },
  {
   "cell_type": "code",
   "execution_count": 6,
   "metadata": {},
   "outputs": [],
   "source": [
    "@qml.qnode(dev, diff_method=\"backprop\")\n",
    "\n",
    "def circuit(params, state, apply_inv=True):\n",
    "    qml.BasisState(np.array(state), wires=[0,1,2])\n",
    "    ansatz(params[:8])\n",
    "    ansatz(params[:8])\n",
    "    ansatz(params[:8])\n",
    "    ansatz(params[:8])\n",
    "    ansatz(params[:8])\n",
    "    ansatz(params[:8])\n",
    "    #ansatz(params[8:])\n",
    "    #ansatz2(params[:7])\n",
    "\n",
    "    \n",
    "    #if apply_inv:\n",
    "    #    qml.QubitUnitary(U,wires=[0,1,2]).inv()\n",
    "    return qml.state()\n",
    "\n",
    "@qml.qnode(dev, diff_method=\"backprop\")\n",
    "def target_st(state):\n",
    "    qml.BasisState(np.array(state), wires=[0,1,2])\n",
    "    qml.QubitUnitary(U,wires=[0,1,2]).inv() # fredkin gate\n",
    "    return qml.state()"
   ]
  },
  {
   "cell_type": "code",
   "execution_count": 7,
   "metadata": {},
   "outputs": [
    {
     "name": "stdout",
     "output_type": "stream",
     "text": [
      "[0. 0. 0. 0. 0. 0. 0. 1.]\n",
      "[1 1 1]\n"
     ]
    }
   ],
   "source": [
    "params = np.random.random(8)\n",
    "Id = np.eye(8, requires_grad=False)\n",
    "state_vector=np.array([[0,0,0],[0,0,1],[0,1,0],[0,1,1],[1,0,0],[1,0,1],[1,1,0],[1,1,1]])\n",
    "print(Id[7])\n",
    "print(state_vector[7])"
   ]
  },
  {
   "cell_type": "code",
   "execution_count": 8,
   "metadata": {},
   "outputs": [
    {
     "data": {
      "text/plain": [
       "tensor([0.38790286-0.0383826j , 0.13226074+0.91135352j,\n",
       "        0.        +0.j        , 0.        +0.j        ,\n",
       "        0.        +0.j        , 0.        +0.j        ,\n",
       "        0.        +0.j        , 0.        +0.j        ], requires_grad=True)"
      ]
     },
     "execution_count": 8,
     "metadata": {},
     "output_type": "execute_result"
    }
   ],
   "source": [
    "circuit(params,[0,0,1])"
   ]
  },
  {
   "cell_type": "code",
   "execution_count": 452,
   "metadata": {},
   "outputs": [],
   "source": [
    "def cost_state(params, i):\n",
    "    state=state_vector[i]\n",
    "    return np.sum(np.abs(circuit(params, state) - Id[i]))\n",
    "\n",
    "def cost(params):\n",
    "    return sum(cost_state(params, i) for i in range(6,8)) #+sum(cost_state(params, i) for i in range(0,2))+sum(cost_state(params, i) for i in range(2,6))"
   ]
  },
  {
   "cell_type": "code",
   "execution_count": 453,
   "metadata": {},
   "outputs": [],
   "source": [
    "def cost1(params):\n",
    "    return cost_state(params, 0)+cost_state(params, 6)+cost_state(params, 7)"
   ]
  },
  {
   "cell_type": "code",
   "execution_count": 460,
   "metadata": {},
   "outputs": [
    {
     "name": "stdout",
     "output_type": "stream",
     "text": [
      "Cost at step 0: 0.01406775699993971\n",
      "Cost at step 30: 0.013370146286333484\n",
      "Cost at step 60: 0.0019407888257370282\n",
      "Cost at step 90: 0.001515086959364616\n",
      "Cost at step 120: 0.0007452386137281041\n",
      "Cost at step 150: 0.0006431420365367673\n",
      "Cost at step 180: 0.0005562653591113957\n",
      "Cost at step 210: 0.0005015383979973039\n",
      "Cost at step 240: 0.0004569921944857217\n",
      "Cost at step 270: 0.00042592017432167823\n",
      "Cost at step 300: 0.0003979398381004074\n"
     ]
    }
   ],
   "source": [
    "opt = qml.AdagradOptimizer(stepsize=0.01)\n",
    "\n",
    "for i in range(300+1):\n",
    "    params = opt.step(cost, params)\n",
    "\n",
    "    if i % 30 == 0:\n",
    "        print(f\"Cost at step {i}:\", cost(params))"
   ]
  },
  {
   "cell_type": "code",
   "execution_count": 45,
   "metadata": {},
   "outputs": [
    {
     "data": {
      "text/plain": [
       "tensor(4.02214465, requires_grad=True)"
      ]
     },
     "execution_count": 45,
     "metadata": {},
     "output_type": "execute_result"
    }
   ],
   "source": [
    "sum(cost_state(params, i) for i in range(8))"
   ]
  },
  {
   "cell_type": "code",
   "execution_count": 461,
   "metadata": {},
   "outputs": [
    {
     "data": {
      "text/plain": [
       "tensor([0.00000000e+00, 0.00000000e+00, 0.00000000e+00, 0.00000000e+00,\n",
       "        0.00000000e+00, 0.00000000e+00, 1.00000000e+00, 1.36371709e-10], requires_grad=True)"
      ]
     },
     "execution_count": 461,
     "metadata": {},
     "output_type": "execute_result"
    }
   ],
   "source": [
    "abs(circuit(params, [1,1,1],apply_inv=False))"
   ]
  },
  {
   "cell_type": "code",
   "execution_count": 10,
   "metadata": {},
   "outputs": [],
   "source": [
    "def cost3(params):\n",
    "    circ_ket=[]\n",
    "    act_ket=[]\n",
    "    overlaps=[] \n",
    "    \n",
    "    for i in range(8):\n",
    "        state=state_vector[i]\n",
    "        circ_ket.append(circuit(params,state))\n",
    "        act_ket.append(target_st(state))\n",
    "\n",
    "        overlaps.append((np.sum(np.dot(np.conj(circ_ket[i]),act_ket[i]))))\n",
    "    #mean_overlap = tf.reduce_mean(overlaps)\n",
    "    \n",
    "    #cost = tf.abs(tf.reduce_sum(overlaps ))\n",
    "    cost=0\n",
    "    for i in range(8):\n",
    "        cost+=(np.abs(overlaps[i]))**2\n",
    "    cost_abs=1-(cost)/len(overlaps)   \n",
    "    return cost_abs#, overlaps"
   ]
  },
  {
   "cell_type": "code",
   "execution_count": 11,
   "metadata": {},
   "outputs": [
    {
     "name": "stdout",
     "output_type": "stream",
     "text": [
      "Cost at step 0: 0.19439480073839865\n",
      "Cost at step 50: 0.000212817571167645\n",
      "Cost at step 100: 2.5297589525963282e-05\n",
      "Cost at step 150: 5.122209829622193e-06\n",
      "Cost at step 200: 1.2498784581760347e-06\n",
      "Cost at step 250: 3.3133811250252165e-07\n",
      "Cost at step 300: 9.146942248072776e-08\n",
      "Cost at step 350: 2.5780290568988562e-08\n",
      "Cost at step 400: 7.345412278425556e-09\n",
      "Cost at step 450: 2.1049633147640634e-09\n",
      "Cost at step 500: 6.050739909113645e-10\n"
     ]
    }
   ],
   "source": [
    "opt = qml.AdagradOptimizer(stepsize=0.2)\n",
    "cost_arr=[]\n",
    "params_arr=[]\n",
    "for i in range(500+1):\n",
    "    params = opt.step(cost3, params)\n",
    "\n",
    "    if i % 50 == 0:\n",
    "        print(f\"Cost at step {i}:\", cost3(params))\n",
    "        cost_arr.append(cost3(params))\n",
    "        params_arr.append(params)"
   ]
  },
  {
   "cell_type": "code",
   "execution_count": 24,
   "metadata": {},
   "outputs": [
    {
     "data": {
      "text/plain": [
       "tensor([ 0.1754152 ,  0.91757479,  0.52360169,  0.57444234,  0.507611  ,\n",
       "         1.04731146,  0.5234848 , -0.91757136], requires_grad=True)"
      ]
     },
     "execution_count": 24,
     "metadata": {},
     "output_type": "execute_result"
    }
   ],
   "source": [
    "params # the optimized parameters from the above optimization"
   ]
  },
  {
   "cell_type": "code",
   "execution_count": 25,
   "metadata": {},
   "outputs": [
    {
     "data": {
      "text/plain": [
       "6.050739909113645e-10"
      ]
     },
     "execution_count": 25,
     "metadata": {},
     "output_type": "execute_result"
    }
   ],
   "source": [
    "cost3(params)"
   ]
  },
  {
   "cell_type": "code",
   "execution_count": 12,
   "metadata": {},
   "outputs": [],
   "source": [
    "def get_unitary(params):\n",
    "    return np.array([circuit(params, state, apply_inv=False) for state in state_vector]).T"
   ]
  },
  {
   "cell_type": "code",
   "execution_count": 23,
   "metadata": {},
   "outputs": [
    {
     "name": "stdout",
     "output_type": "stream",
     "text": [
      "\n",
      "Optimized unitary using Hamiltonian:\n",
      " [[1.00000000e+00 4.26494744e-06 0.00000000e+00 0.00000000e+00\n",
      "  0.00000000e+00 0.00000000e+00 0.00000000e+00 0.00000000e+00]\n",
      " [4.26494744e-06 1.00000000e+00 0.00000000e+00 0.00000000e+00\n",
      "  0.00000000e+00 0.00000000e+00 0.00000000e+00 0.00000000e+00]\n",
      " [0.00000000e+00 0.00000000e+00 9.99999999e-01 4.81511271e-05\n",
      "  0.00000000e+00 0.00000000e+00 0.00000000e+00 0.00000000e+00]\n",
      " [0.00000000e+00 0.00000000e+00 4.81511271e-05 9.99999999e-01\n",
      "  0.00000000e+00 0.00000000e+00 0.00000000e+00 0.00000000e+00]\n",
      " [0.00000000e+00 0.00000000e+00 0.00000000e+00 0.00000000e+00\n",
      "  1.00000000e+00 7.29857809e-06 0.00000000e+00 0.00000000e+00]\n",
      " [0.00000000e+00 0.00000000e+00 0.00000000e+00 0.00000000e+00\n",
      "  7.29857809e-06 1.00000000e+00 0.00000000e+00 0.00000000e+00]\n",
      " [0.00000000e+00 0.00000000e+00 0.00000000e+00 0.00000000e+00\n",
      "  0.00000000e+00 0.00000000e+00 5.50245057e-06 1.00000000e+00]\n",
      " [0.00000000e+00 0.00000000e+00 0.00000000e+00 0.00000000e+00\n",
      "  0.00000000e+00 0.00000000e+00 1.00000000e+00 5.50245057e-06]]\n",
      "\n",
      "The corresponding optimized parameters:\n",
      " [ 0.1754152   0.91757479  0.52360169  0.57444234  0.507611    1.04731146\n",
      "  0.5234848  -0.91757136]\n",
      "\n",
      "Optimized unitary size:\n",
      " (8, 8)\n",
      "\n",
      "Actual Toffoli:\n",
      " [[1 0 0 0 0 0 0 0]\n",
      " [0 1 0 0 0 0 0 0]\n",
      " [0 0 1 0 0 0 0 0]\n",
      " [0 0 0 1 0 0 0 0]\n",
      " [0 0 0 0 1 0 0 0]\n",
      " [0 0 0 0 0 1 0 0]\n",
      " [0 0 0 0 0 0 0 1]\n",
      " [0 0 0 0 0 0 1 0]]\n"
     ]
    }
   ],
   "source": [
    "print(\"\\nOptimized unitary using Hamiltonian:\\n\", abs(get_unitary(params)))\n",
    "print(\"\\nThe corresponding optimized parameters:\\n\",params)\n",
    "print(\"\\nOptimized unitary size:\\n\", get_unitary(params).shape)\n",
    "print(\"\\nActual Toffoli:\\n\", U)"
   ]
  },
  {
   "cell_type": "code",
   "execution_count": 117,
   "metadata": {},
   "outputs": [
    {
     "name": "stdout",
     "output_type": "stream",
     "text": [
      "\n",
      "Optimized unitary using ZGR:\n",
      " [[9.99999325e-01 8.13558661e-04 5.15088815e-04 4.19055249e-07\n",
      "  6.49847882e-04 5.28689730e-07 3.34729601e-07 2.72322350e-10]\n",
      " [8.13558661e-04 9.99999325e-01 4.19055249e-07 5.15088815e-04\n",
      "  5.28689730e-07 6.49847882e-04 2.72322350e-10 3.34729601e-07]\n",
      " [5.15088680e-04 5.60403287e-07 9.99999064e-01 1.08797336e-03\n",
      "  3.34729514e-07 3.64177135e-10 6.49847713e-04 7.07017662e-07]\n",
      " [5.60403287e-07 5.15088680e-04 1.08797336e-03 9.99999064e-01\n",
      "  3.64177135e-10 3.34729514e-07 7.07017662e-07 6.49847713e-04]\n",
      " [6.49846696e-04 1.18456669e-06 7.27690819e-07 1.32646408e-09\n",
      "  9.99997501e-01 1.82283565e-03 1.11978564e-03 2.04119029e-06]\n",
      " [1.18456669e-06 6.49846696e-04 1.32646408e-09 7.27690819e-07\n",
      "  1.82283565e-03 9.99997501e-01 2.04119029e-06 1.11978564e-03]\n",
      " [1.79610950e-09 7.27689811e-07 1.60397218e-06 6.49845797e-04\n",
      "  2.76389035e-06 1.11978409e-03 2.46822547e-03 9.99996116e-01]\n",
      " [7.27689811e-07 1.79610950e-09 6.49845797e-04 1.60397218e-06\n",
      "  1.11978409e-03 2.76389035e-06 9.99996116e-01 2.46822547e-03]]\n",
      "\n",
      "Optimized unitary size:\n",
      " (8, 8)\n",
      "\n",
      "Actual Toffoli:\n",
      " [[1 0 0 0 0 0 0 0]\n",
      " [0 1 0 0 0 0 0 0]\n",
      " [0 0 1 0 0 0 0 0]\n",
      " [0 0 0 1 0 0 0 0]\n",
      " [0 0 0 0 1 0 0 0]\n",
      " [0 0 0 0 0 1 0 0]\n",
      " [0 0 0 0 0 0 0 1]\n",
      " [0 0 0 0 0 0 1 0]]\n"
     ]
    }
   ],
   "source": [
    "print(\"\\nOptimized unitary using ZGR:\\n\", abs(get_unitary(params)))\n",
    "print(\"\\nOptimized unitary size:\\n\", get_unitary(params).shape)\n",
    "print(\"\\nActual Toffoli:\\n\", U)"
   ]
  },
  {
   "cell_type": "code",
   "execution_count": 14,
   "metadata": {},
   "outputs": [],
   "source": [
    "@qml.qnode(dev, diff_method=\"backprop\")\n",
    "\n",
    "def circuit2(params, state, apply_inv=True):\n",
    "    qml.BasisState(np.array(state), wires=[0,1,2])\n",
    "    ansatz(params[:8])\n",
    "    ansatz(params[:8])\n",
    "    ansatz(params[:8])\n",
    "    ansatz(params[:8])\n",
    "    ansatz(params[:8])\n",
    "    ansatz(params[:8])\n",
    "    #ansatz(params[8:])\n",
    "    #qml.QubitUnitary(U,wires=[0,1,2]).inv()\n",
    "    return qml.probs(wires=[0,1,2])"
   ]
  },
  {
   "cell_type": "code",
   "execution_count": 22,
   "metadata": {},
   "outputs": [
    {
     "data": {
      "image/png": "[encoded data removed]",
      "text/plain": [
       "<Figure size 576x396 with 1 Axes>"
      ]
     },
     "metadata": {},
     "output_type": "display_data"
    }
   ],
   "source": [
    "probs=circuit2(params,state_vector[0])\n",
    "plt.style.use(\"seaborn\")\n",
    "plt.bar(range(2 ** 3), probs)\n",
    "plt.show()"
   ]
  },
  {
   "cell_type": "code",
   "execution_count": 116,
   "metadata": {},
   "outputs": [
    {
     "data": {
      "text/plain": [
       "tensor([1.65036533e-13, 2.16801397e-19, 6.77487086e-07, 1.31335674e-12,\n",
       "        4.73256630e-08, 5.94104358e-15, 4.98709374e-01, 5.01289901e-01], requires_grad=True)"
      ]
     },
     "execution_count": 116,
     "metadata": {},
     "output_type": "execute_result"
    }
   ],
   "source": [
    "abs(circuit2(params,[1,1,0]))"
   ]
  },
  {
   "cell_type": "code",
   "execution_count": 38,
   "metadata": {},
   "outputs": [
    {
     "data": {
      "text/plain": [
       "tensor([-0.10224091, -0.00248727,  0.00057808,  0.09926192,  0.00203833,\n",
       "         0.00046096], requires_grad=True)"
      ]
     },
     "execution_count": 38,
     "metadata": {},
     "output_type": "execute_result"
    }
   ],
   "source": [
    "params"
   ]
  },
  {
   "cell_type": "code",
   "execution_count": 39,
   "metadata": {},
   "outputs": [
    {
     "data": {
      "text/plain": [
       "' 0: ──╭|0⟩──╭C──────────────╭C───RZ(0.00204)──────────────────────────────────────────────────────────────╭U0⁻¹──╭┤ State \\n 1: ──├|1⟩──╰X──RZ(-0.102)──╰X──╭C──────────────────────────╭C──RZ(0.0993)───────╭C────────────────╭C─────├U0⁻¹──├┤ State \\n 2: ──╰|0⟩──────────────────────╰X────────────RZ(-0.00249)──╰X──RX(0.000578)──H──╰X──RZ(0.000461)──╰X──H──╰U0⁻¹──╰┤ State \\nU0 =\\n[[1 0 0 0 0 0 0 0]\\n [0 1 0 0 0 0 0 0]\\n [0 0 1 0 0 0 0 0]\\n [0 0 0 1 0 0 0 0]\\n [0 0 0 0 1 0 0 0]\\n [0 0 0 0 0 1 0 0]\\n [0 0 0 0 0 0 0 1]\\n [0 0 0 0 0 0 1 0]]\\n'"
      ]
     },
     "execution_count": 39,
     "metadata": {},
     "output_type": "execute_result"
    }
   ],
   "source": [
    "circuit.draw()"
   ]
  },
  {
   "cell_type": "code",
   "execution_count": null,
   "metadata": {},
   "outputs": [],
   "source": []
  }
 ],
 "metadata": {
  "kernelspec": {
   "display_name": "Python 3",
   "language": "python",
   "name": "python3"
  },
  "language_info": {
   "codemirror_mode": {
    "name": "ipython",
    "version": 3
   },
   "file_extension": ".py",
   "mimetype": "text/x-python",
   "name": "python",
   "nbconvert_exporter": "python",
   "pygments_lexer": "ipython3",
   "version": "3.8.5"
  }
 },
 "nbformat": 4,
 "nbformat_minor": 4
}
