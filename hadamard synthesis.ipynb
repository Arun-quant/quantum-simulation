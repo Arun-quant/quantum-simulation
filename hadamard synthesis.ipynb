{
 "cells": [
  {
   "cell_type": "code",
   "execution_count": 1,
   "metadata": {},
   "outputs": [],
   "source": [
    "from pennylane import numpy as np\n",
    "import pennylane as qml\n",
    "from matplotlib import pyplot as plt\n",
    "import networkx as nx\n",
    "import tensorflow as tf"
   ]
  },
  {
   "cell_type": "code",
   "execution_count": 2,
   "metadata": {},
   "outputs": [
    {
     "name": "stdout",
     "output_type": "stream",
     "text": [
      "[[ 0.70710678  0.70710678]\n",
      " [ 0.70710678 -0.70710678]]\n",
      "[[ 0.94877869  0.31594146]\n",
      " [-0.31594146  0.94877869]]\n"
     ]
    }
   ],
   "source": [
    "H=qml.Hadamard._matrix()\n",
    "print(H)\n",
    "#print(np.array([[ 0.94877869,  0.31594146], [-0.31594146,  0.94877869]]))"
   ]
  },
  {
   "cell_type": "code",
   "execution_count": 71,
   "metadata": {},
   "outputs": [],
   "source": [
    "dev=qml.device(\"default.qubit\",wires=2)\n",
    "@qml.qnode(dev)\n",
    "def circuit(params,part=None):\n",
    "    l=params\n",
    "    qml.Hadamard(wires=0)\n",
    "    if part==\"Im\" or part==\"im\":\n",
    "        qml.PhaseShift(-np.pi/2,wires=0)\n",
    "    qml.CRot(l[0],l[1],l[2],wires=[0,1])\n",
    "    qml.ControlledQubitUnitary(qml.Hadamard._matrix(),control_wires=0,wires=1)\n",
    "    qml.Hadamard(wires=0)\n",
    "    \n",
    "    return qml.expval(qml.PauliZ(0))\n",
    "def exp(params):\n",
    "    c_r=circuit(params,part=\"re\")\n",
    "    c_im=circuit(params,part=\"im\")\n",
    "    \n",
    "    return c_r + 1.0j*c_im\n",
    "\n",
    "dev2=qml.device(\"default.qubit\",wires=2)\n",
    "@qml.qnode(dev2)\n",
    "def circuit2(params,part=None):\n",
    "    l=params\n",
    "    qml.BasisState(np.array([0,1], requires_grad=False), wires=[0,1])\n",
    "    qml.Hadamard(wires=0)\n",
    "    if part==\"Im\" or part==\"im\":\n",
    "        qml.PhaseShift(-np.pi/2,wires=0)\n",
    "        \n",
    "    qml.CRot(l[0],l[1],l[2],wires=[0,1])\n",
    "    qml.ControlledQubitUnitary(qml.Hadamard._matrix(),control_wires=0,wires=1)\n",
    "    qml.Hadamard(wires=0)\n",
    "    \n",
    "    return qml.expval(qml.PauliZ(0))\n",
    "def exp2(params):\n",
    "    c_r=circuit2(params,part=\"re\")\n",
    "    c_im=circuit2(params,part=\"im\")\n",
    "    \n",
    "    return c_r + 1.0j*c_im"
   ]
  },
  {
   "cell_type": "code",
   "execution_count": 77,
   "metadata": {},
   "outputs": [],
   "source": [
    "def cost1(params,**kwargs):\n",
    "    return 1/2*(abs(1-exp(params))+abs(1-exp2(params)))"
   ]
  },
  {
   "cell_type": "code",
   "execution_count": 78,
   "metadata": {},
   "outputs": [
    {
     "name": "stdout",
     "output_type": "stream",
     "text": [
      "[0.79915856 0.46147936 0.78052918]\n"
     ]
    }
   ],
   "source": [
    "#np.random.seed(0)\n",
    "init_param=np.random.rand(3)\n",
    "params=init_param\n",
    "print(params)"
   ]
  },
  {
   "cell_type": "code",
   "execution_count": 79,
   "metadata": {},
   "outputs": [
    {
     "name": "stdout",
     "output_type": "stream",
     "text": [
      "the value of cost at step 100 is        1.139837\n",
      "the value of cost at step 200 is        1.114734\n",
      "the value of cost at step 300 is        1.086010\n",
      "the value of cost at step 400 is        1.055370\n",
      "the value of cost at step 500 is        1.027634\n",
      "the value of cost at step 600 is        1.009651\n",
      "the value of cost at step 700 is        1.002449\n",
      "the value of cost at step 800 is        1.000527\n",
      "the value of cost at step 900 is        1.000107\n",
      "the value of cost at step 1000 is        1.000021\n",
      "1.0000215419280518\n"
     ]
    }
   ],
   "source": [
    "cost_history = []\n",
    "steps=1000\n",
    "for it in range(steps):\n",
    "    params, cost = qml.GradientDescentOptimizer(stepsize=0.01).step_and_cost(cost1, params)\n",
    "    #print(\"Step {:3d}       Cost_L = {:9.7f}\".format(it, cost))\n",
    "    if (it+1)%100==0:\n",
    "        \n",
    "        print(\"the value of cost at step {:} is {:15f}\".format(it+1,cost1(params)))\n",
    "\n",
    "        cost_history.append(cost)\n",
    "print(cost)"
   ]
  },
  {
   "cell_type": "code",
   "execution_count": 6,
   "metadata": {},
   "outputs": [
    {
     "data": {
      "text/plain": [
       "tensor([False, False, False], requires_grad=True)"
      ]
     },
     "execution_count": 6,
     "metadata": {},
     "output_type": "execute_result"
    }
   ],
   "source": [
    "init_param==params"
   ]
  },
  {
   "cell_type": "code",
   "execution_count": 65,
   "metadata": {},
   "outputs": [],
   "source": [
    "dev1=qml.device(\"default.qubit\",wires=1)\n",
    "@qml.qnode(dev1)\n",
    "def circuit_prob(params,**kwargs):\n",
    "    l=params\n",
    "    qml.BasisState(np.array([0], requires_grad=False), wires=0)\n",
    "    qml.Rot(l[0],l[1],l[2],wires=0)\n",
    "    #qml.Hadamard(wires=0)\n",
    "    #qml.Hadamard(wires=0)\n",
    " \n",
    "    \n",
    "    return qml.state()   #qml.probs(wires=0) \n",
    "#probs =circuit_prob(params)\n",
    "state =circuit_prob(params)"
   ]
  },
  {
   "cell_type": "code",
   "execution_count": 10,
   "metadata": {},
   "outputs": [
    {
     "data": {
      "image/png": "[encoded data removed]",
      "text/plain": [
       "<Figure size 576x396 with 1 Axes>"
      ]
     },
     "metadata": {},
     "output_type": "display_data"
    }
   ],
   "source": [
    "plt.style.use(\"seaborn\")\n",
    "plt.bar(range(2 ** 1), probs)\n",
    "plt.show()"
   ]
  },
  {
   "cell_type": "code",
   "execution_count": 29,
   "metadata": {},
   "outputs": [
    {
     "name": "stdout",
     "output_type": "stream",
     "text": [
      "0.0024568314151372254 1.5290524696827055 0.0002733399210805718\n"
     ]
    }
   ],
   "source": [
    "abs(state)\n",
    "print(*params)"
   ]
  },
  {
   "cell_type": "code",
   "execution_count": 66,
   "metadata": {},
   "outputs": [
    {
     "data": {
      "text/plain": [
       "array([[0.90419559, 0.42711865],\n",
       "       [0.42711865, 0.90419559]])"
      ]
     },
     "execution_count": 66,
     "metadata": {},
     "output_type": "execute_result"
    }
   ],
   "source": [
    "abs(qml.Rot(params[0],params[1],params[2],wires=0).matrix)\n",
    "#print(qml.Hadamard.matrix)"
   ]
  },
  {
   "cell_type": "code",
   "execution_count": null,
   "metadata": {},
   "outputs": [],
   "source": [
    "# post this issue in pennylane discussion forum if not able to solve by yourself"
   ]
  },
  {
   "cell_type": "code",
   "execution_count": 45,
   "metadata": {},
   "outputs": [],
   "source": [
    "dev=qml.device(\"default.qubit\",wires=1)\n",
    "@qml.qnode(dev)\n",
    "def gate(l):\n",
    "    qml.Rot(l[0],l[1],l[2],wires=0)\n",
    "    qml.Hadamard(wires=0)\n",
    "    return qml.expval(qml.PauliZ(0))\n",
    "\n",
    "def cost1(l):\n",
    "    return 1-gate(l)"
   ]
  },
  {
   "cell_type": "code",
   "execution_count": 46,
   "metadata": {},
   "outputs": [
    {
     "name": "stdout",
     "output_type": "stream",
     "text": [
      "[0.5488135  0.71518937 0.60276338]\n"
     ]
    }
   ],
   "source": [
    "np.random.seed(0)\n",
    "init_param=np.random.rand(3)\n",
    "params=init_param\n",
    "print(params)"
   ]
  },
  {
   "cell_type": "code",
   "execution_count": 47,
   "metadata": {},
   "outputs": [
    {
     "name": "stdout",
     "output_type": "stream",
     "text": [
      "the value of cost at step 100 is       -0.961248\n",
      "the value of cost at step 200 is       -1.443042\n",
      "the value of cost at step 300 is       -1.862781\n",
      "the value of cost at step 400 is       -1.979225\n",
      "the value of cost at step 500 is       -1.997167\n",
      "the value of cost at step 600 is       -1.999620\n",
      "the value of cost at step 700 is       -1.999949\n",
      "the value of cost at step 800 is       -1.999993\n",
      "the value of cost at step 900 is       -1.999999\n",
      "the value of cost at step 1000 is       -2.000000\n",
      "-1.9999998748723071 [ 5.48813504e-01 -1.57040099e+00  2.98301166e-04]\n"
     ]
    }
   ],
   "source": [
    "cost_history = []\n",
    "steps=1000\n",
    "for it in range(steps):\n",
    "    params, cost = qml.GradientDescentOptimizer(stepsize=0.01).step_and_cost(cost1, params)\n",
    "    #print(\"Step {:3d}       Cost_L = {:9.7f}\".format(it, cost))\n",
    "    if (it+1)%100==0:\n",
    "        \n",
    "        print(\"the value of cost at step {:} is {:15f}\".format(it+1,cost1(params)))\n",
    "\n",
    "        cost_history.append(cost)\n",
    "print(cost,params)"
   ]
  },
  {
   "cell_type": "code",
   "execution_count": 50,
   "metadata": {},
   "outputs": [],
   "source": [
    "@qml.qnode(dev)\n",
    "def my_gate(l):\n",
    "    qml.BasisState(np.array([0], requires_grad=False), wires=0)\n",
    "    qml.Rot(l[0],l[1],l[2],wires=0)\n",
    "    #qml.Hadamard(wires=0)\n",
    "    return qml.state()    #  qml.probs(wires=0)\n",
    "probs=my_gate(params)\n"
   ]
  },
  {
   "cell_type": "code",
   "execution_count": 35,
   "metadata": {},
   "outputs": [
    {
     "data": {
      "image/png": "[encoded data removed]",
      "text/plain": [
       "<Figure size 576x396 with 1 Axes>"
      ]
     },
     "metadata": {},
     "output_type": "display_data"
    }
   ],
   "source": [
    "plt.style.use(\"seaborn\")\n",
    "plt.bar(range(2 ** 1), probs)\n",
    "plt.show()"
   ]
  },
  {
   "cell_type": "code",
   "execution_count": 51,
   "metadata": {},
   "outputs": [
    {
     "data": {
      "text/plain": [
       "tensor([ 0.68075711-0.19174833j, -0.68054518+0.19146954j], requires_grad=True)"
      ]
     },
     "execution_count": 51,
     "metadata": {},
     "output_type": "execute_result"
    }
   ],
   "source": [
    "probs"
   ]
  },
  {
   "cell_type": "code",
   "execution_count": 53,
   "metadata": {},
   "outputs": [
    {
     "data": {
      "text/plain": [
       "array([[ 0.68075711-0.19174833j,  0.68054518+0.19146954j],\n",
       "       [-0.68054518+0.19146954j,  0.68075711+0.19174833j]])"
      ]
     },
     "execution_count": 53,
     "metadata": {},
     "output_type": "execute_result"
    }
   ],
   "source": [
    "qml.Rot(params[0],params[1],params[2],wires=0).matrix"
   ]
  },
  {
   "cell_type": "code",
   "execution_count": null,
   "metadata": {},
   "outputs": [],
   "source": []
  }
 ],
 "metadata": {
  "kernelspec": {
   "display_name": "Python 3",
   "language": "python",
   "name": "python3"
  },
  "language_info": {
   "codemirror_mode": {
    "name": "ipython",
    "version": 3
   },
   "file_extension": ".py",
   "mimetype": "text/x-python",
   "name": "python",
   "nbconvert_exporter": "python",
   "pygments_lexer": "ipython3",
   "version": "3.8.5"
  }
 },
 "nbformat": 4,
 "nbformat_minor": 4
}
