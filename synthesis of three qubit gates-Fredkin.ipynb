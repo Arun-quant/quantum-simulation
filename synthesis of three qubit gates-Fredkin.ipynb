{
 "cells": [
  {
   "cell_type": "code",
   "execution_count": null,
   "metadata": {},
   "outputs": [],
   "source": [
    "# Fredkin"
   ]
  },
  {
   "cell_type": "code",
   "execution_count": 7,
   "metadata": {},
   "outputs": [],
   "source": [
    "from pennylane import numpy as np\n",
    "import pennylane as qml\n",
    "from matplotlib import pyplot as plt\n",
    "import networkx as nx\n",
    "import tensorflow as tf\n",
    "from pennylane.templates.layers import StronglyEntanglingLayers"
   ]
  },
  {
   "cell_type": "code",
   "execution_count": 8,
   "metadata": {},
   "outputs": [
    {
     "name": "stdout",
     "output_type": "stream",
     "text": [
      "[[1 0 0 0 0 0 0 0]\n",
      " [0 1 0 0 0 0 0 0]\n",
      " [0 0 1 0 0 0 0 0]\n",
      " [0 0 0 1 0 0 0 0]\n",
      " [0 0 0 0 1 0 0 0]\n",
      " [0 0 0 0 0 0 1 0]\n",
      " [0 0 0 0 0 1 0 0]\n",
      " [0 0 0 0 0 0 0 1]]\n"
     ]
    }
   ],
   "source": [
    "# matrix representation of fredkin gate\n",
    "U = np.array([[1,0,0,0,0,0,0,0],[0,1,0,0,0,0,0,0],[0,0,1,0,0,0,0,0],[0,0,0,1,0,0,0,0],[0,0,0,0,1,0,0,0],[0,0,0,0,0,0,1,0],\n",
    "                  [0,0,0,0,0,1,0,0],[0,0,0,0,0,0,0,1]])\n",
    "\n",
    "\n",
    "#@qml.qnode(dev)\n",
    "#def U_actual():\n",
    "#    qml.QubitUnitary(U,wires=[0,1,2])\n",
    "#    return qml.state()\n",
    "q=qml.QubitUnitary(U,wires=[0,1,2])\n",
    "print(U)\n"
   ]
  },
  {
   "cell_type": "code",
   "execution_count": 18,
   "metadata": {},
   "outputs": [],
   "source": [
    "dev = qml.device(\"default.qubit.autograd\", wires=3)\n",
    "\n",
    "\n",
    "#@qml.qnode(dev)\n",
    "def ansatz(params):\n",
    "    l=params\n",
    "    #H=Z⊗Z⊗I\n",
    "    qml.CNOT(wires=[0,1])\n",
    "    qml.RZ(l[0],wires=1)\n",
    "    qml.CNOT(wires=[0,1])\n",
    "\n",
    "    # circuit for local ham H=I⊗Z⊗Z\n",
    "    qml.CNOT(wires=[1,2])\n",
    "    qml.RZ(l[1],wires=2)\n",
    "    qml.CNOT(wires=[1,2])\n",
    "    \n",
    "    \n",
    "    # circuit for local ham H=Z⊗I⊗Z\n",
    "    qml.CNOT(wires=[0,2])\n",
    "    qml.RZ(l[2],wires=2)\n",
    "    qml.CNOT(wires=[0,2])\n",
    "    \n",
    "    #qml.Identity(wires=0)*l[11]\n",
    "   \n",
    "    # single qubit gates\n",
    "    \n",
    "    # circuit for local ham H=I⊗I⊗Z+I⊗I⊗X+I⊗I⊗Y\n",
    "    \n",
    "    \n",
    "    # circuit for local ham H=I⊗Z⊗I+I⊗X⊗I+I⊗Y⊗I\n",
    "    #qml.Identity(wires=0) \n",
    "    #qml.RZ(l[3],wires=1)\n",
    "   \n",
    "    # circuit for local ham H=Z⊗I⊗I+X⊗I⊗I+Y⊗I⊗I\n",
    "    qml.RZ(l[3],wires=0)\n",
    "    '''\n",
    "    #H=I⊗Z⊗ X\n",
    "    qml.Hadamard(wires=2)\n",
    "    qml.CNOT(wires=[1,2])\n",
    "    qml.RZ(l[5],wires=2)\n",
    "    qml.CNOT(wires=[1,2])\n",
    "    qml.Hadamard(wires=2)\n",
    "    \n",
    "    \n",
    "    # circuit for local ham H=Z⊗I⊗X\n",
    "    qml.Hadamard(wires=2)\n",
    "    qml.CNOT(wires=[0,2])\n",
    "    qml.RZ(l[6],wires=2)\n",
    "    qml.CNOT(wires=[0,2])\n",
    "    qml.Hadamard(wires=2)\n",
    "    '''\n",
    "    \n",
    "    # important: more 2 qubit interations to be added....   \n",
    "\n",
    "   \n",
    "    \n",
    "\n",
    "    # circuit for local ham H=X⊗X⊗I  \n",
    "    #[qml.Hadamard(wires=i) for i in range(0,2)]\n",
    "    [qml.Hadamard(wires=i) for i in range(0,2)]\n",
    "    qml.CNOT(wires=[0,1])\n",
    "    qml.RZ(l[4],wires=1)\n",
    "    qml.CNOT(wires=[0,1])\n",
    "    [qml.Hadamard(wires=i) for i in range(0,2)]\n",
    "    \n",
    "    # circuit for local ham H=X⊗I⊗X\n",
    "    qml.Hadamard(wires=0)\n",
    "    qml.Hadamard(wires=2)\n",
    "    qml.CNOT(wires=[0,2])\n",
    "    qml.RZ(l[5],wires=2)\n",
    "    qml.CNOT(wires=[0,2])\n",
    "    qml.Hadamard(wires=0)\n",
    "    qml.Hadamard(wires=2)\n",
    "    \n",
    "    # circuit for local ham H=I⊗X⊗X\n",
    "    [qml.Hadamard(wires=i) for i in range(1,3)]\n",
    "    qml.CNOT(wires=[1,2])\n",
    "    qml.RZ(l[6],wires=2)\n",
    "    qml.CNOT(wires=[1,2])\n",
    "    [qml.Hadamard(wires=i) for i in range(1,3)]\n",
    "    \n",
    "    #[qml.Hadamard(wires=i) for i in range(1,3)]\n",
    " \n",
    "\n",
    "\n",
    "    # circuit for local ham H=I⊗Y⊗Y\n",
    "    [qml.RX(np.pi/2,wires=i) for i in range(1,3)]\n",
    "    qml.CNOT(wires=[1,2])\n",
    "    qml.RZ(l[7],wires=2)\n",
    "    qml.CNOT(wires=[1,2])\n",
    "    [qml.RX(-np.pi/2,wires=i) for i in range(1,3)]\n",
    "\n",
    "\n",
    "\n",
    "\n",
    "    qml.RX(l[8],wires=2)\n",
    "    \n",
    "   \n",
    " \n",
    "    qml.RX(l[9],wires=1)\n",
    "    \n",
    "    #qml.RY(l[14],wires=0)\n",
    "   \n",
    "    '''\n",
    "    #H=X⊗Z⊗ I\n",
    "    qml.Hadamard(wires=0)\n",
    "    qml.CNOT(wires=[0,1])\n",
    "    qml.RZ(l[18],wires=1)\n",
    "    qml.CNOT(wires=[0,1])\n",
    "    qml.Hadamard(wires=0)\n",
    "    \n",
    "    #H=I⊗X⊗ Z\n",
    "    qml.Hadamard(wires=1)\n",
    "    qml.CNOT(wires=[1,2])\n",
    "    qml.RZ(l[19],wires=2)\n",
    "    qml.CNOT(wires=[1,2])\n",
    "    qml.Hadamard(wires=1)\n",
    "    \n",
    "      #H=I⊗X⊗ y\n",
    "    qml.Hadamard(wires=1)\n",
    "    qml.RX(np.pi/2,wires=2)\n",
    "    qml.CNOT(wires=[1,2])\n",
    "    qml.RZ(2*l[20],wires=2)\n",
    "    qml.CNOT(wires=[1,2])\n",
    "    qml.Hadamard(wires=1)\n",
    "    qml.RX(-np.pi/2,wires=2)\n",
    "    \n",
    "    #H=X⊗ y⊗I\n",
    "    qml.Hadamard(wires=0)\n",
    "    qml.RX(np.pi/2,wires=1)\n",
    "    qml.CNOT(wires=[0,1])\n",
    "    qml.RZ(2*l[21],wires=1)\n",
    "    qml.CNOT(wires=[0,1])\n",
    "    qml.Hadamard(wires=0)\n",
    "    qml.RX(-np.pi/2,wires=1)\n",
    "  \n",
    "    '''"
   ]
  },
  {
   "cell_type": "code",
   "execution_count": 132,
   "metadata": {},
   "outputs": [],
   "source": [
    "# ZGR ansatz\n",
    "def ansatz2(l):\n",
    "    qml.RY(l[0],wires=0)\n",
    "    qml.CNOT(wires=[0,1])\n",
    "    qml.RY(l[1],wires=1)\n",
    "    qml.CNOT(wires=[0,1])\n",
    "    qml.RY(l[2],wires=1)\n",
    "    qml.CNOT(wires=[0,2])\n",
    "    qml.RY(l[3],wires=2)\n",
    "    qml.CNOT(wires=[1,2])\n",
    "    qml.RY(l[4],wires=2)\n",
    "    qml.CNOT(wires=[0,2])\n",
    "    qml.RY(l[5],wires=2)\n",
    "    qml.CNOT(wires=[1,2])\n",
    "    qml.RY(l[6],wires=2)"
   ]
  },
  {
   "cell_type": "code",
   "execution_count": 133,
   "metadata": {},
   "outputs": [],
   "source": [
    "def ansatz3(l):\n",
    "    [qml.RY(l[i],wires=i) for i in range(3)]\n",
    "    qml.CNOT(wires=[2,0])\n",
    "    [qml.CNOT(wires=[0,i]) for i in range(1,3)]\n",
    "    [qml.RY(l[i+3],wires=i) for i in range(3)]\n",
    "    qml.CNOT(wires=[0,2])\n",
    "    [qml.CNOT(wires=[i,0]) for i in range(1,3)]\n",
    "    "
   ]
  },
  {
   "cell_type": "code",
   "execution_count": 161,
   "metadata": {},
   "outputs": [],
   "source": [
    "def ansatz4(l):\n",
    "    StronglyEntanglingLayers(l,wires=[0,1,2])"
   ]
  },
  {
   "cell_type": "code",
   "execution_count": 19,
   "metadata": {},
   "outputs": [],
   "source": [
    "@qml.qnode(dev, diff_method=\"backprop\")\n",
    "\n",
    "def circuit(params, state, apply_inv=True):\n",
    "    qml.BasisState(np.array(state), wires=[0,1,2])\n",
    "  \n",
    "    ansatz(params[:10])\n",
    "    ansatz(params[:10])\n",
    "    ansatz(params[:10])\n",
    "    ansatz(params[:10])\n",
    "    ansatz(params[:10])\n",
    "    ansatz(params[:10])\n",
    "\n",
    "    #ansatz2(params[:7])\n",
    "    #ansatz3(params[:6])\n",
    "    #ansatz4(params)\n",
    "    \n",
    "    #if apply_inv:\n",
    "    #    qml.QubitUnitary(U,wires=[0,1,2]).inv()\n",
    "    return qml.state()\n",
    "\n",
    "@qml.qnode(dev, diff_method=\"backprop\")\n",
    "def target_st(state):\n",
    "    qml.BasisState(np.array(state), wires=[0,1,2])\n",
    "    qml.QubitUnitary(U,wires=[0,1,2]).inv() # fredkin gate\n",
    "    return qml.state()"
   ]
  },
  {
   "cell_type": "code",
   "execution_count": 21,
   "metadata": {},
   "outputs": [
    {
     "name": "stdout",
     "output_type": "stream",
     "text": [
      "[[0.48505403 0.1819256  0.34451549 0.27349175 0.30352116 0.21131869\n",
      "  0.26188    0.57686669]\n",
      " [0.21420684 0.23452093 0.50664006 0.48662249 0.18637971 0.26967234\n",
      "  0.53370892 0.1154296 ]\n",
      " [0.34686748 0.55107545 0.46853432 0.42494454 0.31364085 0.20848264\n",
      "  0.14154911 0.1184263 ]\n",
      " [0.27005961 0.396513   0.38448612 0.33928969 0.39979042 0.45116409\n",
      "  0.26870869 0.26704383]\n",
      " [0.30451153 0.30214376 0.42229345 0.42967975 0.19513809 0.52262292\n",
      "  0.30316684 0.2233869 ]\n",
      " [0.1828183  0.23956742 0.17759631 0.31507415 0.61997584 0.37761398\n",
      "  0.47225673 0.16847544]\n",
      " [0.23058186 0.5243322  0.13753038 0.21248876 0.37738256 0.45738556\n",
      "  0.4691422  0.19007397]\n",
      " [0.58844794 0.16549514 0.16877244 0.25230453 0.22375887 0.10333733\n",
      "  0.13893232 0.6739064 ]]\n"
     ]
    }
   ],
   "source": [
    "circ_ket=[]\n",
    "for i in range(8):\n",
    "    state=state_vector[i]\n",
    "    circ_ket.append(circuit(params,state))\n",
    "    \n",
    "print(np.abs(circ_ket))\n",
    "\n",
    "\n",
    "act_ket=[]\n",
    "for i in range(8):\n",
    "    state=state_vector[i]\n",
    "    act_ket.append(target_st(state))\n",
    "    \n",
    "#print(act_ket)"
   ]
  },
  {
   "cell_type": "code",
   "execution_count": 36,
   "metadata": {},
   "outputs": [
    {
     "name": "stdout",
     "output_type": "stream",
     "text": [
      "tf.Tensor(-0.18708212505007982, shape=(), dtype=float64)\n"
     ]
    }
   ],
   "source": [
    "b=[]\n",
    "for i in range(5,7):\n",
    "    b.append(tf.math.real(np.sum(np.dot(act_ket[i],tf.math.conj(circ_ket[i])))))\n",
    "print(b[0])\n",
    "#print(np.real(a)-1)"
   ]
  },
  {
   "cell_type": "code",
   "execution_count": 117,
   "metadata": {},
   "outputs": [],
   "source": [
    "def cost3(params):\n",
    "    circ_ket=[]\n",
    "    act_ket=[]\n",
    "    overlaps=[] \n",
    "    \n",
    "    for i in range(8):\n",
    "        state=state_vector[i]\n",
    "        circ_ket.append(circuit(params,state))\n",
    "        act_ket.append(target_st(state))\n",
    "\n",
    "        overlaps.append((np.sum(np.dot(np.conj(circ_ket[i]),act_ket[i]))))\n",
    "    #mean_overlap = tf.reduce_mean(overlaps)\n",
    "    \n",
    "    #cost = tf.abs(tf.reduce_sum(overlaps ))\n",
    "    cost=0\n",
    "    for i in range(8):\n",
    "        cost+=(np.abs(overlaps[i]))**2\n",
    "    cost_abs=1-(cost)/len(overlaps)   \n",
    "    return cost_abs#, overlaps"
   ]
  },
  {
   "cell_type": "code",
   "execution_count": 118,
   "metadata": {},
   "outputs": [
    {
     "data": {
      "text/plain": [
       "0.14853241889739"
      ]
     },
     "execution_count": 118,
     "metadata": {},
     "output_type": "execute_result"
    }
   ],
   "source": [
    "cost3(params)"
   ]
  },
  {
   "cell_type": "code",
   "execution_count": 53,
   "metadata": {},
   "outputs": [
    {
     "data": {
      "text/plain": [
       "(8,)"
      ]
     },
     "execution_count": 53,
     "metadata": {},
     "output_type": "execute_result"
    }
   ],
   "source": [
    "(target_st([1,0,1]).T).shape"
   ]
  },
  {
   "cell_type": "code",
   "execution_count": 67,
   "metadata": {},
   "outputs": [
    {
     "name": "stdout",
     "output_type": "stream",
     "text": [
      "[0. 0. 0. 0. 0. 0. 0. 1.]\n",
      "[1 1 1]\n"
     ]
    }
   ],
   "source": [
    "#shape = StronglyEntanglingLayers.shape(n_layers=5, n_wires=3)\n",
    "#params=np.random.random(size=shape)\n",
    "# specially for strongly entangles layered ansatz\n",
    "\n",
    "params = np.random.random(10)\n",
    "Id = np.eye(8, requires_grad=False)\n",
    "state_vector=np.array([[0,0,0],[0,0,1],[0,1,0],[0,1,1],[1,0,0],[1,0,1],[1,1,0],[1,1,1]])\n",
    "print(Id[7])\n",
    "print(state_vector[7])"
   ]
  },
  {
   "cell_type": "code",
   "execution_count": null,
   "metadata": {},
   "outputs": [],
   "source": [
    "params_known=[3*np.pi/8,np.pi/2,np.pi/8*np.sqrt(143/5),np.pi/8*np.sqrt(143/5),np.pi/8*5*np.sqrt(3),np.pi/8*5*np.sqrt(3),\n",
    "              -3*np.pi/8,-3*np.pi/8,-3*np.pi/8,3*np.pi/4*np.sqrt(7/5),3*np.pi/4*np.sqrt(7/5)]\n",
    "len(params_known)"
   ]
  },
  {
   "cell_type": "code",
   "execution_count": 125,
   "metadata": {},
   "outputs": [
    {
     "data": {
      "text/plain": [
       "tensor([1.08213158e-03, 9.02607221e-06, 1.56731386e-05, 1.63977005e-03,\n",
       "        1.11368644e-03, 4.39448612e-01, 8.98264207e-01, 1.11022090e-03], requires_grad=True)"
      ]
     },
     "execution_count": 125,
     "metadata": {},
     "output_type": "execute_result"
    }
   ],
   "source": [
    "abs(circuit(params,[1,0,1]))"
   ]
  },
  {
   "cell_type": "code",
   "execution_count": 93,
   "metadata": {},
   "outputs": [],
   "source": [
    "def cost_state(params, i):\n",
    "    state=state_vector[i]\n",
    "    return np.sum(np.square(circuit(params, state) - target_st(state)))\n",
    "\n",
    "def cost(params):\n",
    "    return  sum(abs(cost_state(params, i))**2 for i in range(8))/len(state_vector) #+sum(cost_state(params, i) for i in range(0,2))#+sum(cost_state(params, i) for i in range(2,6))"
   ]
  },
  {
   "cell_type": "code",
   "execution_count": 69,
   "metadata": {},
   "outputs": [],
   "source": [
    "def cost1(params):\n",
    "    return cost_state(params, 1)+cost_state(params, 6)+cost_state(params, 7)"
   ]
  },
  {
   "cell_type": "code",
   "execution_count": 94,
   "metadata": {},
   "outputs": [
    {
     "name": "stdout",
     "output_type": "stream",
     "text": [
      "Cost at step 0: 1.0952420040234367\n",
      "Cost at step 100: 0.00023977321404717369\n",
      "Cost at step 200: 0.000110383557125468\n",
      "Cost at step 300: 2.3607994498443618e-05\n",
      "Cost at step 400: 3.296379787735608e-05\n",
      "Cost at step 500: 3.617574592069013e-05\n",
      "Cost at step 600: 1.1739241057330571e-05\n",
      "Cost at step 700: 3.3256072624871992e-06\n",
      "Cost at step 800: 1.1641513170720943e-06\n",
      "Cost at step 900: 4.951994235012982e-07\n",
      "Cost at step 1000: 2.4195358250999207e-07\n"
     ]
    }
   ],
   "source": [
    "opt = qml.AdagradOptimizer(stepsize=0.2)\n",
    "cost_arr=[]\n",
    "params_arr=[]\n",
    "for i in range(1000+1):\n",
    "    params = opt.step(cost, params)\n",
    "\n",
    "    if i % 100 == 0:\n",
    "        print(f\"Cost at step {i}:\", cost(params))\n",
    "        cost_arr.append(cost(params))\n",
    "        params_arr.append(params)"
   ]
  },
  {
   "cell_type": "code",
   "execution_count": 102,
   "metadata": {},
   "outputs": [
    {
     "name": "stdout",
     "output_type": "stream",
     "text": [
      "Cost at step 0: 0.5639535868405097\n",
      "Cost at step 100: 0.1464681470024325\n",
      "Cost at step 200: 0.1464466108411916\n",
      "Cost at step 300: 0.14970509109191665\n",
      "Cost at step 400: 0.14698233892814894\n",
      "Cost at step 500: 0.16252196660860485\n",
      "Cost at step 600: 0.147341020242019\n",
      "Cost at step 700: 0.15113136173632524\n",
      "Cost at step 800: 0.14704034328356386\n",
      "Cost at step 900: 0.1475283467948525\n",
      "Cost at step 1000: 0.14853241889739\n"
     ]
    }
   ],
   "source": [
    "opt = qml.AdamOptimizer(stepsize=0.2)\n",
    "\n",
    "for i in range(1000+1):\n",
    "    params = opt.step(cost3, params)\n",
    "\n",
    "    if i % 100 == 0:\n",
    "        print(f\"Cost at step {i}:\", cost3(params))"
   ]
  },
  {
   "cell_type": "code",
   "execution_count": 95,
   "metadata": {},
   "outputs": [
    {
     "data": {
      "text/plain": [
       "tensor(-0.00056888-3.04558463e-05j, requires_grad=True)"
      ]
     },
     "execution_count": 95,
     "metadata": {},
     "output_type": "execute_result"
    }
   ],
   "source": [
    "cost_state(params,0)"
   ]
  },
  {
   "cell_type": "code",
   "execution_count": 136,
   "metadata": {},
   "outputs": [
    {
     "data": {
      "text/plain": [
       "tensor([ 7.05959130e-03,  1.05041442e+00,  7.04528134e-03,\n",
       "         1.31017884e+00,  1.02164535e+00,  1.02160283e+00,\n",
       "         4.08733183e-01, -7.80485442e-01,  4.13271795e-04,\n",
       "        -4.13272519e-04], requires_grad=True)"
      ]
     },
     "execution_count": 136,
     "metadata": {},
     "output_type": "execute_result"
    }
   ],
   "source": [
    "params # for the last optimization ####"
   ]
  },
  {
   "cell_type": "code",
   "execution_count": 56,
   "metadata": {},
   "outputs": [
    {
     "data": {
      "text/plain": [
       "tensor([0.14654124, 0.14648692, 0.40860815, 0.09707663, 0.39904542,\n",
       "        0.38803021, 0.1652781 , 0.66600392], requires_grad=True)"
      ]
     },
     "execution_count": 56,
     "metadata": {},
     "output_type": "execute_result"
    }
   ],
   "source": [
    "abs(circuit(params_arr[6], state_vector[0]))"
   ]
  },
  {
   "cell_type": "code",
   "execution_count": 178,
   "metadata": {},
   "outputs": [
    {
     "name": "stdout",
     "output_type": "stream",
     "text": [
      "Cost at step 0: tf.Tensor(0.7950199767668706, shape=(), dtype=float64)\n",
      "Cost at step 10: tf.Tensor(0.27411202836429577, shape=(), dtype=float64)\n",
      "Cost at step 20: tf.Tensor(0.24797244526909235, shape=(), dtype=float64)\n",
      "Cost at step 30: tf.Tensor(0.24080046238815112, shape=(), dtype=float64)\n",
      "Cost at step 40: tf.Tensor(0.23799404807299399, shape=(), dtype=float64)\n"
     ]
    }
   ],
   "source": [
    "opt = qml.optimize.RotosolveOptimizer()\n",
    "# for ZGR == ansatz2\n",
    "\n",
    "for i in range(40+1):\n",
    "#for i in range(300+1):\n",
    "    params = opt.step(cost3, params)\n",
    "\n",
    "    if i % 10 == 0:\n",
    "        print(f\"Cost at step {i}:\", cost3(params))"
   ]
  },
  {
   "cell_type": "code",
   "execution_count": 90,
   "metadata": {},
   "outputs": [],
   "source": [
    "def get_unitary(params):\n",
    "    return np.array([circuit(params, state, apply_inv=False) for state in state_vector]).T"
   ]
  },
  {
   "cell_type": "code",
   "execution_count": 115,
   "metadata": {},
   "outputs": [
    {
     "name": "stdout",
     "output_type": "stream",
     "text": [
      "\n",
      "Optimized unitary using Hamiltonian:\n",
      " [[9.10317142e-01 1.10979516e-03 1.10980086e-03 4.13905725e-01\n",
      "  4.15813866e-08 1.08213158e-03 1.05655727e-03 3.29079228e-08]\n",
      " [1.10979532e-03 9.45137292e-01 3.25631679e-01 1.11431274e-03\n",
      "  6.30255028e-03 9.02607221e-06 1.56743415e-05 2.52450835e-02]\n",
      " [1.10980070e-03 3.25631657e-01 9.45137434e-01 1.11431779e-03\n",
      "  6.29978584e-03 1.56731386e-05 9.02746787e-06 2.52407097e-02]\n",
      " [4.13905725e-01 1.11431264e-03 1.11431789e-03 9.10315483e-01\n",
      "  3.90052048e-08 1.63977005e-03 1.61248840e-03 2.63448388e-08]\n",
      " [8.54350455e-09 6.30216495e-03 6.30017056e-03 1.45407085e-08\n",
      "  9.36818422e-01 1.11368644e-03 1.11370990e-03 3.49698947e-01]\n",
      " [1.06231059e-03 9.00388566e-06 1.56955902e-05 1.62171250e-03\n",
      "  1.11368598e-03 4.39448612e-01 8.98264263e-01 1.11022108e-03]\n",
      " [1.07660631e-03 1.56519279e-05 9.04972479e-06 1.63056749e-03\n",
      "  1.11371036e-03 8.98264207e-01 4.39448659e-01 1.11024468e-03]\n",
      " [1.51573779e-08 2.52454633e-02 2.52403300e-02 7.62179842e-09\n",
      "  3.49698947e-01 1.11022090e-03 1.11024486e-03 9.36180417e-01]]\n",
      "\n",
      "Optimized unitary size:\n",
      " (8, 8)\n",
      "\n",
      "Actual Toffoli:\n",
      " [[1 0 0 0 0 0 0 0]\n",
      " [0 1 0 0 0 0 0 0]\n",
      " [0 0 1 0 0 0 0 0]\n",
      " [0 0 0 1 0 0 0 0]\n",
      " [0 0 0 0 1 0 0 0]\n",
      " [0 0 0 0 0 0 1 0]\n",
      " [0 0 0 0 0 1 0 0]\n",
      " [0 0 0 0 0 0 0 1]]\n"
     ]
    }
   ],
   "source": [
    "print(\"\\nOptimized unitary using Hamiltonian:\\n\", abs(get_unitary(params)))\n",
    "print(\"\\nOptimized unitary size:\\n\", get_unitary(params).shape)\n",
    "print(\"\\nActual Toffoli:\\n\", U)"
   ]
  },
  {
   "cell_type": "code",
   "execution_count": 128,
   "metadata": {},
   "outputs": [
    {
     "name": "stdout",
     "output_type": "stream",
     "text": [
      "\n",
      "Optimized unitary using Strongly entangled layer with depth=5:\n",
      " [[0.99834896 0.03448396 0.01479481 0.04124432 0.00989534 0.00524181\n",
      "  0.00537331 0.00599748]\n",
      " [0.03386199 0.99920839 0.01146459 0.01297482 0.00905732 0.00529175\n",
      "  0.00432287 0.0027292 ]\n",
      " [0.01403257 0.01108872 0.99917245 0.03388984 0.00976198 0.00361618\n",
      "  0.0081718  0.00329591]\n",
      " [0.04205117 0.01185248 0.0333557  0.99840472 0.01022471 0.00443238\n",
      "  0.00563857 0.00326256]\n",
      " [0.00962708 0.00896359 0.01008981 0.01019903 0.99936343 0.00456879\n",
      "  0.010664   0.02755537]\n",
      " [0.00591822 0.00421764 0.00800659 0.00543843 0.01028011 0.04422034\n",
      "  0.9988632  0.00804314]\n",
      " [0.00513955 0.00500185 0.00359168 0.00504159 0.00481183 0.99868516\n",
      "  0.04418712 0.02371781]\n",
      " [0.0057786  0.0026178  0.00355979 0.00332225 0.02764266 0.02373661\n",
      "  0.00774295 0.99927401]]\n",
      "\n",
      "Optimized unitary size:\n",
      " (8, 8)\n",
      "\n",
      "Actual Toffoli:\n",
      " [[1 0 0 0 0 0 0 0]\n",
      " [0 1 0 0 0 0 0 0]\n",
      " [0 0 1 0 0 0 0 0]\n",
      " [0 0 0 1 0 0 0 0]\n",
      " [0 0 0 0 1 0 0 0]\n",
      " [0 0 0 0 0 0 1 0]\n",
      " [0 0 0 0 0 1 0 0]\n",
      " [0 0 0 0 0 0 0 1]]\n"
     ]
    }
   ],
   "source": [
    "print(\"\\nOptimized unitary using Strongly entangled layer with depth=5:\\n\", abs(get_unitary(params)))\n",
    "print(\"\\nOptimized unitary size:\\n\", get_unitary(params).shape)\n",
    "print(\"\\nActual Toffoli:\\n\", U)"
   ]
  },
  {
   "cell_type": "code",
   "execution_count": 128,
   "metadata": {},
   "outputs": [],
   "source": [
    "@qml.qnode(dev, diff_method=\"backprop\")\n",
    "\n",
    "def circuit2(params, state, apply_inv=True):\n",
    "    qml.BasisState(np.array(state), wires=[0,1,2])\n",
    "    #ansatz(params)\n",
    "    ansatz(params[:10])\n",
    "    ansatz(params[:10])\n",
    "    ansatz(params[:10])\n",
    "    ansatz(params[:10])\n",
    "    ansatz(params[:10])\n",
    "    ansatz(params[:10])\n",
    "    #qml.QubitUnitary(U,wires=[0,1,2]).inv()\n",
    "    return qml.probs(wires=[0,1,2])"
   ]
  },
  {
   "cell_type": "code",
   "execution_count": 135,
   "metadata": {},
   "outputs": [
    {
     "data": {
      "image/png": "[encoded data removed]",
      "text/plain": [
       "<Figure size 576x396 with 1 Axes>"
      ]
     },
     "metadata": {},
     "output_type": "display_data"
    }
   ],
   "source": [
    "probs=circuit2(params,state_vector[1])\n",
    "plt.style.use(\"seaborn\")\n",
    "plt.bar(range(2 ** 3), probs)\n",
    "plt.show()"
   ]
  },
  {
   "cell_type": "code",
   "execution_count": 127,
   "metadata": {},
   "outputs": [
    {
     "data": {
      "text/plain": [
       "tensor([4.26474487e-01, 4.45349292e-09, 4.33869008e-09, 4.26482405e-01,\n",
       "        2.06635985e-04, 7.49185605e-01, 2.73775663e-01, 2.06636161e-04], requires_grad=True)"
      ]
     },
     "execution_count": 127,
     "metadata": {},
     "output_type": "execute_result"
    }
   ],
   "source": [
    "abs(circuit2(params,[1,0,1]))"
   ]
  },
  {
   "cell_type": "code",
   "execution_count": 38,
   "metadata": {},
   "outputs": [
    {
     "data": {
      "text/plain": [
       "tensor([-0.10224091, -0.00248727,  0.00057808,  0.09926192,  0.00203833,\n",
       "         0.00046096], requires_grad=True)"
      ]
     },
     "execution_count": 38,
     "metadata": {},
     "output_type": "execute_result"
    }
   ],
   "source": [
    "params"
   ]
  },
  {
   "cell_type": "code",
   "execution_count": 39,
   "metadata": {},
   "outputs": [
    {
     "data": {
      "text/plain": [
       "' 0: ──╭|0⟩──╭C──────────────╭C───RZ(0.00204)──────────────────────────────────────────────────────────────╭U0⁻¹──╭┤ State \\n 1: ──├|1⟩──╰X──RZ(-0.102)──╰X──╭C──────────────────────────╭C──RZ(0.0993)───────╭C────────────────╭C─────├U0⁻¹──├┤ State \\n 2: ──╰|0⟩──────────────────────╰X────────────RZ(-0.00249)──╰X──RX(0.000578)──H──╰X──RZ(0.000461)──╰X──H──╰U0⁻¹──╰┤ State \\nU0 =\\n[[1 0 0 0 0 0 0 0]\\n [0 1 0 0 0 0 0 0]\\n [0 0 1 0 0 0 0 0]\\n [0 0 0 1 0 0 0 0]\\n [0 0 0 0 1 0 0 0]\\n [0 0 0 0 0 1 0 0]\\n [0 0 0 0 0 0 0 1]\\n [0 0 0 0 0 0 1 0]]\\n'"
      ]
     },
     "execution_count": 39,
     "metadata": {},
     "output_type": "execute_result"
    }
   ],
   "source": [
    "circuit.draw()"
   ]
  },
  {
   "cell_type": "code",
   "execution_count": 149,
   "metadata": {},
   "outputs": [],
   "source": [
    "grad_vals = []\n",
    "grad = qml.grad(cost, argnum=0)\n",
    "params = np.random.random(10)"
   ]
  },
  {
   "cell_type": "code",
   "execution_count": 150,
   "metadata": {},
   "outputs": [],
   "source": [
    "gradient = grad(params)"
   ]
  },
  {
   "cell_type": "code",
   "execution_count": 151,
   "metadata": {},
   "outputs": [
    {
     "name": "stdout",
     "output_type": "stream",
     "text": [
      "Variance of the gradients circuit: 3.1326292740896613\n"
     ]
    }
   ],
   "source": [
    "grad_vals.append(gradient[-1])\n",
    "\n",
    "print(\"Variance of the gradients circuit: {}\".format(\n",
    " np.var(gradient)\n",
    "    )\n",
    ")"
   ]
  },
  {
   "cell_type": "code",
   "execution_count": 6,
   "metadata": {},
   "outputs": [
    {
     "name": "stdout",
     "output_type": "stream",
     "text": [
      "0.48989794855663554\n"
     ]
    }
   ],
   "source": [
    "point1 = np.array((1, 1, 1.1))\n",
    "point2 = np.array((1.4, 0.8, 0.9))\n",
    "  \n",
    "# calculating Euclidean distance\n",
    "# using linalg.norm()\n",
    "dist = np.linalg.norm(point1 - point2)\n",
    "  \n",
    "# printing Euclidean distance\n",
    "print(dist)"
   ]
  },
  {
   "cell_type": "code",
   "execution_count": null,
   "metadata": {},
   "outputs": [],
   "source": []
  }
 ],
 "metadata": {
  "kernelspec": {
   "display_name": "Python 3",
   "language": "python",
   "name": "python3"
  },
  "language_info": {
   "codemirror_mode": {
    "name": "ipython",
    "version": 3
   },
   "file_extension": ".py",
   "mimetype": "text/x-python",
   "name": "python",
   "nbconvert_exporter": "python",
   "pygments_lexer": "ipython3",
   "version": "3.8.5"
  }
 },
 "nbformat": 4,
 "nbformat_minor": 4
}
